{
 "cells": [
  {
   "cell_type": "code",
   "execution_count": 1,
   "metadata": {
    "id": "enZ300Bflq80"
   },
   "outputs": [],
   "source": [
    "import tensorflow as tf\n",
    "import tensorflow_quantum as tfq\n",
    "\n",
    "import cirq\n",
    "import sympy\n",
    "import numpy as np\n",
    "import seaborn as sns\n",
    "import collections\n",
    "\n",
    "import itertools\n",
    "\n",
    "# visualization tools\n",
    "%matplotlib inline\n",
    "import matplotlib.pyplot as plt\n",
    "from cirq.contrib.svg import SVGCircuit"
   ]
  },
  {
   "cell_type": "markdown",
   "metadata": {},
   "source": [
    "Like in IIIa I load and rescale the images and convert them to circuits.\n",
    "Again I need to scale down the images.  \n",
    "Pracitcally this could e.g. be done with a calssical cnn."
   ]
  },
  {
   "cell_type": "code",
   "execution_count": 2,
   "metadata": {
    "id": "d9OSExvCojg0"
   },
   "outputs": [],
   "source": [
    "data = np.load('electron-photon.npz', allow_pickle=True)\n",
    "IMAGE_SIZE = 4\n",
    "\n",
    "x_train_scale = tf.image.resize(data['x_train'][...,np.newaxis], (IMAGE_SIZE,IMAGE_SIZE), method='lanczos5').numpy()\n",
    "x_test_scale = tf.image.resize(data['x_test'][...,np.newaxis], (IMAGE_SIZE,IMAGE_SIZE), method='lanczos5').numpy()"
   ]
  },
  {
   "cell_type": "code",
   "execution_count": 3,
   "metadata": {},
   "outputs": [],
   "source": [
    "x_train = np.array(x_train_scale > 0, dtype=np.float32)\n",
    "y_train = data['y_train']\n",
    "x_test = np.array(x_test_scale > 0, dtype=np.float32)\n",
    "y_test = data['y_test']"
   ]
  },
  {
   "cell_type": "code",
   "execution_count": 4,
   "metadata": {
    "id": "aOu_3-3ZGL61"
   },
   "outputs": [],
   "source": [
    "def img_to_circuit(image):\n",
    "    flat_data = np.ndarray.flatten(image)\n",
    "    qubits = cirq.GridQubit.rect(IMAGE_SIZE, IMAGE_SIZE)\n",
    "    c = cirq.Circuit()\n",
    "    for idx, val in enumerate(flat_data):\n",
    "        if val:\n",
    "            c.append(cirq.X(qubits[idx]))\n",
    "    return c\n",
    "\n",
    "\n",
    "x_train_circ = [img_to_circuit(x) for x in x_train]\n",
    "x_test_circ = [img_to_circuit(x) for x in x_test]"
   ]
  },
  {
   "cell_type": "code",
   "execution_count": 5,
   "metadata": {
    "id": "IZStEMk4ojhk"
   },
   "outputs": [],
   "source": [
    "x_train_tfcirc = tfq.convert_to_tensor(x_train_circ)\n",
    "x_test_tfcirc = tfq.convert_to_tensor(x_test_circ)"
   ]
  },
  {
   "cell_type": "markdown",
   "metadata": {
    "id": "T-QhPE1pojhu"
   },
   "source": [
    "The QNN architecture used is taken from 1802.06002 as also described in the tensorflow documentation https://www.tensorflow.org/quantum/tutorials/mnist.\n",
    "I implement it silimar to task IIIa except the readout qbit is not an input qbit of the image.  \n",
    "  \n",
    "A singe layer applies a given 2 bit gate on all qubits with the readout qbit which I denoted as result.\n",
    "I take the power of respektive gate and then use the pauli gate which should be equivalent to rotations Rx used in task IIIa up to a phase factor."
   ]
  },
  {
   "cell_type": "code",
   "execution_count": 6,
   "metadata": {
    "id": "JiALbpwRGL69"
   },
   "outputs": [],
   "source": [
    "def layer(qs, result, gate, params):\n",
    "    circ = cirq.Circuit()\n",
    "    for i in range(0,len(qs)):     \n",
    "        circ += gate(qs[i], result)**params[i]\n",
    "    return circ"
   ]
  },
  {
   "cell_type": "markdown",
   "metadata": {},
   "source": [
    "Create the qbits"
   ]
  },
  {
   "cell_type": "code",
   "execution_count": 7,
   "metadata": {},
   "outputs": [
    {
     "name": "stdout",
     "output_type": "stream",
     "text": [
      "16\n"
     ]
    }
   ],
   "source": [
    "num_qubits = IMAGE_SIZE*IMAGE_SIZE\n",
    "qubits = [cirq.GridQubit(i, j) for i, j in itertools.product(range(IMAGE_SIZE), range(IMAGE_SIZE))]\n",
    "print(len(qubits))"
   ]
  },
  {
   "cell_type": "markdown",
   "metadata": {},
   "source": [
    "We have one parameter per qubit per layer. "
   ]
  },
  {
   "cell_type": "code",
   "execution_count": 8,
   "metadata": {},
   "outputs": [
    {
     "name": "stdout",
     "output_type": "stream",
     "text": [
      "32\n"
     ]
    }
   ],
   "source": [
    "layers = 2\n",
    "\n",
    "num_params = num_qubits * layers\n",
    "parameters = sympy.symbols(\"q0:%d\"%num_params)\n",
    "print(len(parameters))"
   ]
  },
  {
   "cell_type": "markdown",
   "metadata": {},
   "source": [
    "Now build the circuit"
   ]
  },
  {
   "cell_type": "code",
   "execution_count": 9,
   "metadata": {},
   "outputs": [],
   "source": [
    "def build_circuit(qs, params):\n",
    "    c = cirq.Circuit()\n",
    "    result = cirq.GridQubit(-1, -1)\n",
    "    c += cirq.X(result)\n",
    "    c += cirq.H(result)\n",
    "    c += layer(qs, result, cirq.XX, params[:len(qs)])\n",
    "    # could e.g. add another layer\n",
    "    #c += layer(qs, result, cirq.YY, params[len(qs):2*len(qs)])\n",
    "    c += layer(qs, result, cirq.ZZ, params[len(qs):2*len(qs)])\n",
    "    c += cirq.H(result)\n",
    "    return c, cirq.Z(result)"
   ]
  },
  {
   "cell_type": "code",
   "execution_count": 10,
   "metadata": {},
   "outputs": [
    {
     "data": {
      "image/svg+xml": [
       "<svg xmlns=\"http://www.w3.org/2000/svg\" width=\"2671.2986718750003\" height=\"850.0\"><line x1=\"36.90890625\" x2=\"2641.2986718750003\" y1=\"25.0\" y2=\"25.0\" stroke=\"#1967d2\" stroke-width=\"1\" /><line x1=\"36.90890625\" x2=\"2641.2986718750003\" y1=\"75.0\" y2=\"75.0\" stroke=\"#1967d2\" stroke-width=\"1\" /><line x1=\"36.90890625\" x2=\"2641.2986718750003\" y1=\"125.0\" y2=\"125.0\" stroke=\"#1967d2\" stroke-width=\"1\" /><line x1=\"36.90890625\" x2=\"2641.2986718750003\" y1=\"175.0\" y2=\"175.0\" stroke=\"#1967d2\" stroke-width=\"1\" /><line x1=\"36.90890625\" x2=\"2641.2986718750003\" y1=\"225.0\" y2=\"225.0\" stroke=\"#1967d2\" stroke-width=\"1\" /><line x1=\"36.90890625\" x2=\"2641.2986718750003\" y1=\"275.0\" y2=\"275.0\" stroke=\"#1967d2\" stroke-width=\"1\" /><line x1=\"36.90890625\" x2=\"2641.2986718750003\" y1=\"325.0\" y2=\"325.0\" stroke=\"#1967d2\" stroke-width=\"1\" /><line x1=\"36.90890625\" x2=\"2641.2986718750003\" y1=\"375.0\" y2=\"375.0\" stroke=\"#1967d2\" stroke-width=\"1\" /><line x1=\"36.90890625\" x2=\"2641.2986718750003\" y1=\"425.0\" y2=\"425.0\" stroke=\"#1967d2\" stroke-width=\"1\" /><line x1=\"36.90890625\" x2=\"2641.2986718750003\" y1=\"475.0\" y2=\"475.0\" stroke=\"#1967d2\" stroke-width=\"1\" /><line x1=\"36.90890625\" x2=\"2641.2986718750003\" y1=\"525.0\" y2=\"525.0\" stroke=\"#1967d2\" stroke-width=\"1\" /><line x1=\"36.90890625\" x2=\"2641.2986718750003\" y1=\"575.0\" y2=\"575.0\" stroke=\"#1967d2\" stroke-width=\"1\" /><line x1=\"36.90890625\" x2=\"2641.2986718750003\" y1=\"625.0\" y2=\"625.0\" stroke=\"#1967d2\" stroke-width=\"1\" /><line x1=\"36.90890625\" x2=\"2641.2986718750003\" y1=\"675.0\" y2=\"675.0\" stroke=\"#1967d2\" stroke-width=\"1\" /><line x1=\"36.90890625\" x2=\"2641.2986718750003\" y1=\"725.0\" y2=\"725.0\" stroke=\"#1967d2\" stroke-width=\"1\" /><line x1=\"36.90890625\" x2=\"2641.2986718750003\" y1=\"775.0\" y2=\"775.0\" stroke=\"#1967d2\" stroke-width=\"1\" /><line x1=\"36.90890625\" x2=\"2641.2986718750003\" y1=\"825.0\" y2=\"825.0\" stroke=\"#1967d2\" stroke-width=\"1\" /><line x1=\"228.86078125\" x2=\"228.86078125\" y1=\"25.0\" y2=\"75.0\" stroke=\"black\" stroke-width=\"3\" /><line x1=\"297.99625000000003\" x2=\"297.99625000000003\" y1=\"25.0\" y2=\"125.0\" stroke=\"black\" stroke-width=\"3\" /><line x1=\"367.09781250000003\" x2=\"367.09781250000003\" y1=\"25.0\" y2=\"175.0\" stroke=\"black\" stroke-width=\"3\" /><line x1=\"437.16734375\" x2=\"437.16734375\" y1=\"25.0\" y2=\"225.0\" stroke=\"black\" stroke-width=\"3\" /><line x1=\"507.26750000000004\" x2=\"507.26750000000004\" y1=\"25.0\" y2=\"275.0\" stroke=\"black\" stroke-width=\"3\" /><line x1=\"577.40484375\" x2=\"577.40484375\" y1=\"25.0\" y2=\"325.0\" stroke=\"black\" stroke-width=\"3\" /><line x1=\"647.5596875000001\" x2=\"647.5596875000001\" y1=\"25.0\" y2=\"375.0\" stroke=\"black\" stroke-width=\"3\" /><line x1=\"717.6773437500001\" x2=\"717.6773437500001\" y1=\"25.0\" y2=\"425.0\" stroke=\"black\" stroke-width=\"3\" /><line x1=\"787.808125\" x2=\"787.808125\" y1=\"25.0\" y2=\"475.0\" stroke=\"black\" stroke-width=\"3\" /><line x1=\"857.94875\" x2=\"857.94875\" y1=\"25.0\" y2=\"525.0\" stroke=\"black\" stroke-width=\"3\" /><line x1=\"931.95509765625\" x2=\"931.95509765625\" y1=\"25.0\" y2=\"575.0\" stroke=\"black\" stroke-width=\"3\" /><line x1=\"1008.36044921875\" x2=\"1008.36044921875\" y1=\"25.0\" y2=\"625.0\" stroke=\"black\" stroke-width=\"3\" /><line x1=\"1084.73189453125\" x2=\"1084.73189453125\" y1=\"25.0\" y2=\"675.0\" stroke=\"black\" stroke-width=\"3\" /><line x1=\"1162.58755859375\" x2=\"1162.58755859375\" y1=\"25.0\" y2=\"725.0\" stroke=\"black\" stroke-width=\"3\" /><line x1=\"1240.47384765625\" x2=\"1240.47384765625\" y1=\"25.0\" y2=\"775.0\" stroke=\"black\" stroke-width=\"3\" /><line x1=\"1318.39732421875\" x2=\"1318.39732421875\" y1=\"25.0\" y2=\"825.0\" stroke=\"black\" stroke-width=\"3\" /><line x1=\"1395.4427929687502\" x2=\"1395.4427929687502\" y1=\"25.0\" y2=\"75.0\" stroke=\"black\" stroke-width=\"3\" /><line x1=\"1471.55556640625\" x2=\"1471.55556640625\" y1=\"25.0\" y2=\"125.0\" stroke=\"black\" stroke-width=\"3\" /><line x1=\"1547.68146484375\" x2=\"1547.68146484375\" y1=\"25.0\" y2=\"175.0\" stroke=\"black\" stroke-width=\"3\" /><line x1=\"1623.81720703125\" x2=\"1623.81720703125\" y1=\"25.0\" y2=\"225.0\" stroke=\"black\" stroke-width=\"3\" /><line x1=\"1699.92560546875\" x2=\"1699.92560546875\" y1=\"25.0\" y2=\"275.0\" stroke=\"black\" stroke-width=\"3\" /><line x1=\"1775.05619140625\" x2=\"1775.05619140625\" y1=\"25.0\" y2=\"325.0\" stroke=\"black\" stroke-width=\"3\" /><line x1=\"1850.15287109375\" x2=\"1850.15287109375\" y1=\"25.0\" y2=\"375.0\" stroke=\"black\" stroke-width=\"3\" /><line x1=\"1926.21751953125\" x2=\"1926.21751953125\" y1=\"25.0\" y2=\"425.0\" stroke=\"black\" stroke-width=\"3\" /><line x1=\"2002.31279296875\" x2=\"2002.31279296875\" y1=\"25.0\" y2=\"475.0\" stroke=\"black\" stroke-width=\"3\" /><line x1=\"2078.4452539062504\" x2=\"2078.4452539062504\" y1=\"25.0\" y2=\"525.0\" stroke=\"black\" stroke-width=\"3\" /><line x1=\"2154.5952148437505\" x2=\"2154.5952148437505\" y1=\"25.0\" y2=\"575.0\" stroke=\"black\" stroke-width=\"3\" /><line x1=\"2230.7079882812504\" x2=\"2230.7079882812504\" y1=\"25.0\" y2=\"625.0\" stroke=\"black\" stroke-width=\"3\" /><line x1=\"2306.8338867187504\" x2=\"2306.8338867187504\" y1=\"25.0\" y2=\"675.0\" stroke=\"black\" stroke-width=\"3\" /><line x1=\"2382.9696289062504\" x2=\"2382.9696289062504\" y1=\"25.0\" y2=\"725.0\" stroke=\"black\" stroke-width=\"3\" /><line x1=\"2459.0780273437504\" x2=\"2459.0780273437504\" y1=\"25.0\" y2=\"775.0\" stroke=\"black\" stroke-width=\"3\" /><line x1=\"2534.2086132812506\" x2=\"2534.2086132812506\" y1=\"25.0\" y2=\"825.0\" stroke=\"black\" stroke-width=\"3\" /><rect x=\"10.0\" y=\"5.0\" width=\"53.8178125\" height=\"40\" stroke=\"black\" fill=\"white\" stroke-width=\"0\" /><text x=\"36.90890625\" y=\"25.0\" dominant-baseline=\"middle\" text-anchor=\"middle\" font-size=\"14px\" font-family=\"Arial\">(-1, -1): </text><rect x=\"10.0\" y=\"55.0\" width=\"53.8178125\" height=\"40\" stroke=\"black\" fill=\"white\" stroke-width=\"0\" /><text x=\"36.90890625\" y=\"75.0\" dominant-baseline=\"middle\" text-anchor=\"middle\" font-size=\"14px\" font-family=\"Arial\">(0, 0): </text><rect x=\"10.0\" y=\"105.0\" width=\"53.8178125\" height=\"40\" stroke=\"black\" fill=\"white\" stroke-width=\"0\" /><text x=\"36.90890625\" y=\"125.0\" dominant-baseline=\"middle\" text-anchor=\"middle\" font-size=\"14px\" font-family=\"Arial\">(0, 1): </text><rect x=\"10.0\" y=\"155.0\" width=\"53.8178125\" height=\"40\" stroke=\"black\" fill=\"white\" stroke-width=\"0\" /><text x=\"36.90890625\" y=\"175.0\" dominant-baseline=\"middle\" text-anchor=\"middle\" font-size=\"14px\" font-family=\"Arial\">(0, 2): </text><rect x=\"10.0\" y=\"205.0\" width=\"53.8178125\" height=\"40\" stroke=\"black\" fill=\"white\" stroke-width=\"0\" /><text x=\"36.90890625\" y=\"225.0\" dominant-baseline=\"middle\" text-anchor=\"middle\" font-size=\"14px\" font-family=\"Arial\">(0, 3): </text><rect x=\"10.0\" y=\"255.0\" width=\"53.8178125\" height=\"40\" stroke=\"black\" fill=\"white\" stroke-width=\"0\" /><text x=\"36.90890625\" y=\"275.0\" dominant-baseline=\"middle\" text-anchor=\"middle\" font-size=\"14px\" font-family=\"Arial\">(1, 0): </text><rect x=\"10.0\" y=\"305.0\" width=\"53.8178125\" height=\"40\" stroke=\"black\" fill=\"white\" stroke-width=\"0\" /><text x=\"36.90890625\" y=\"325.0\" dominant-baseline=\"middle\" text-anchor=\"middle\" font-size=\"14px\" font-family=\"Arial\">(1, 1): </text><rect x=\"10.0\" y=\"355.0\" width=\"53.8178125\" height=\"40\" stroke=\"black\" fill=\"white\" stroke-width=\"0\" /><text x=\"36.90890625\" y=\"375.0\" dominant-baseline=\"middle\" text-anchor=\"middle\" font-size=\"14px\" font-family=\"Arial\">(1, 2): </text><rect x=\"10.0\" y=\"405.0\" width=\"53.8178125\" height=\"40\" stroke=\"black\" fill=\"white\" stroke-width=\"0\" /><text x=\"36.90890625\" y=\"425.0\" dominant-baseline=\"middle\" text-anchor=\"middle\" font-size=\"14px\" font-family=\"Arial\">(1, 3): </text><rect x=\"10.0\" y=\"455.0\" width=\"53.8178125\" height=\"40\" stroke=\"black\" fill=\"white\" stroke-width=\"0\" /><text x=\"36.90890625\" y=\"475.0\" dominant-baseline=\"middle\" text-anchor=\"middle\" font-size=\"14px\" font-family=\"Arial\">(2, 0): </text><rect x=\"10.0\" y=\"505.0\" width=\"53.8178125\" height=\"40\" stroke=\"black\" fill=\"white\" stroke-width=\"0\" /><text x=\"36.90890625\" y=\"525.0\" dominant-baseline=\"middle\" text-anchor=\"middle\" font-size=\"14px\" font-family=\"Arial\">(2, 1): </text><rect x=\"10.0\" y=\"555.0\" width=\"53.8178125\" height=\"40\" stroke=\"black\" fill=\"white\" stroke-width=\"0\" /><text x=\"36.90890625\" y=\"575.0\" dominant-baseline=\"middle\" text-anchor=\"middle\" font-size=\"14px\" font-family=\"Arial\">(2, 2): </text><rect x=\"10.0\" y=\"605.0\" width=\"53.8178125\" height=\"40\" stroke=\"black\" fill=\"white\" stroke-width=\"0\" /><text x=\"36.90890625\" y=\"625.0\" dominant-baseline=\"middle\" text-anchor=\"middle\" font-size=\"14px\" font-family=\"Arial\">(2, 3): </text><rect x=\"10.0\" y=\"655.0\" width=\"53.8178125\" height=\"40\" stroke=\"black\" fill=\"white\" stroke-width=\"0\" /><text x=\"36.90890625\" y=\"675.0\" dominant-baseline=\"middle\" text-anchor=\"middle\" font-size=\"14px\" font-family=\"Arial\">(3, 0): </text><rect x=\"10.0\" y=\"705.0\" width=\"53.8178125\" height=\"40\" stroke=\"black\" fill=\"white\" stroke-width=\"0\" /><text x=\"36.90890625\" y=\"725.0\" dominant-baseline=\"middle\" text-anchor=\"middle\" font-size=\"14px\" font-family=\"Arial\">(3, 1): </text><rect x=\"10.0\" y=\"755.0\" width=\"53.8178125\" height=\"40\" stroke=\"black\" fill=\"white\" stroke-width=\"0\" /><text x=\"36.90890625\" y=\"775.0\" dominant-baseline=\"middle\" text-anchor=\"middle\" font-size=\"14px\" font-family=\"Arial\">(3, 2): </text><rect x=\"10.0\" y=\"805.0\" width=\"53.8178125\" height=\"40\" stroke=\"black\" fill=\"white\" stroke-width=\"0\" /><text x=\"36.90890625\" y=\"825.0\" dominant-baseline=\"middle\" text-anchor=\"middle\" font-size=\"14px\" font-family=\"Arial\">(3, 3): </text><rect x=\"83.8178125\" y=\"5.0\" width=\"40\" height=\"40\" stroke=\"black\" fill=\"white\" stroke-width=\"1\" /><text x=\"103.8178125\" y=\"25.0\" dominant-baseline=\"middle\" text-anchor=\"middle\" font-size=\"18px\" font-family=\"Arial\">X</text><rect x=\"143.8178125\" y=\"5.0\" width=\"40\" height=\"40\" stroke=\"black\" fill=\"white\" stroke-width=\"1\" /><text x=\"163.8178125\" y=\"25.0\" dominant-baseline=\"middle\" text-anchor=\"middle\" font-size=\"18px\" font-family=\"Arial\">H</text><rect x=\"203.8178125\" y=\"55.0\" width=\"50.0859375\" height=\"40\" stroke=\"black\" fill=\"white\" stroke-width=\"1\" /><text x=\"228.86078125\" y=\"75.0\" dominant-baseline=\"middle\" text-anchor=\"middle\" font-size=\"14px\" font-family=\"Arial\">XX^q0</text><rect x=\"203.8178125\" y=\"5.0\" width=\"50.0859375\" height=\"40\" stroke=\"black\" fill=\"white\" stroke-width=\"1\" /><text x=\"228.86078125\" y=\"25.0\" dominant-baseline=\"middle\" text-anchor=\"middle\" font-size=\"14px\" font-family=\"Arial\">XX</text><rect x=\"273.90375000000006\" y=\"105.0\" width=\"48.185\" height=\"40\" stroke=\"black\" fill=\"white\" stroke-width=\"1\" /><text x=\"297.99625000000003\" y=\"125.0\" dominant-baseline=\"middle\" text-anchor=\"middle\" font-size=\"14px\" font-family=\"Arial\">XX^q1</text><rect x=\"273.90375000000006\" y=\"5.0\" width=\"48.185\" height=\"40\" stroke=\"black\" fill=\"white\" stroke-width=\"1\" /><text x=\"297.99625000000003\" y=\"25.0\" dominant-baseline=\"middle\" text-anchor=\"middle\" font-size=\"14px\" font-family=\"Arial\">XX</text><rect x=\"342.08875\" y=\"155.0\" width=\"50.018125\" height=\"40\" stroke=\"black\" fill=\"white\" stroke-width=\"1\" /><text x=\"367.09781250000003\" y=\"175.0\" dominant-baseline=\"middle\" text-anchor=\"middle\" font-size=\"14px\" font-family=\"Arial\">XX^q2</text><rect x=\"342.08875\" y=\"5.0\" width=\"50.018125\" height=\"40\" stroke=\"black\" fill=\"white\" stroke-width=\"1\" /><text x=\"367.09781250000003\" y=\"25.0\" dominant-baseline=\"middle\" text-anchor=\"middle\" font-size=\"14px\" font-family=\"Arial\">XX</text><rect x=\"412.106875\" y=\"205.0\" width=\"50.1209375\" height=\"40\" stroke=\"black\" fill=\"white\" stroke-width=\"1\" /><text x=\"437.16734375\" y=\"225.0\" dominant-baseline=\"middle\" text-anchor=\"middle\" font-size=\"14px\" font-family=\"Arial\">XX^q3</text><rect x=\"412.106875\" y=\"5.0\" width=\"50.1209375\" height=\"40\" stroke=\"black\" fill=\"white\" stroke-width=\"1\" /><text x=\"437.16734375\" y=\"25.0\" dominant-baseline=\"middle\" text-anchor=\"middle\" font-size=\"14px\" font-family=\"Arial\">XX</text><rect x=\"482.2278125\" y=\"255.0\" width=\"50.079375\" height=\"40\" stroke=\"black\" fill=\"white\" stroke-width=\"1\" /><text x=\"507.26750000000004\" y=\"275.0\" dominant-baseline=\"middle\" text-anchor=\"middle\" font-size=\"14px\" font-family=\"Arial\">XX^q4</text><rect x=\"482.2278125\" y=\"5.0\" width=\"50.079375\" height=\"40\" stroke=\"black\" fill=\"white\" stroke-width=\"1\" /><text x=\"507.26750000000004\" y=\"25.0\" dominant-baseline=\"middle\" text-anchor=\"middle\" font-size=\"14px\" font-family=\"Arial\">XX</text><rect x=\"552.3071875\" y=\"305.0\" width=\"50.1953125\" height=\"40\" stroke=\"black\" fill=\"white\" stroke-width=\"1\" /><text x=\"577.40484375\" y=\"325.0\" dominant-baseline=\"middle\" text-anchor=\"middle\" font-size=\"14px\" font-family=\"Arial\">XX^q5</text><rect x=\"552.3071875\" y=\"5.0\" width=\"50.1953125\" height=\"40\" stroke=\"black\" fill=\"white\" stroke-width=\"1\" /><text x=\"577.40484375\" y=\"25.0\" dominant-baseline=\"middle\" text-anchor=\"middle\" font-size=\"14px\" font-family=\"Arial\">XX</text><rect x=\"622.5025\" y=\"355.0\" width=\"50.114374999999995\" height=\"40\" stroke=\"black\" fill=\"white\" stroke-width=\"1\" /><text x=\"647.5596875000001\" y=\"375.0\" dominant-baseline=\"middle\" text-anchor=\"middle\" font-size=\"14px\" font-family=\"Arial\">XX^q6</text><rect x=\"622.5025\" y=\"5.0\" width=\"50.114374999999995\" height=\"40\" stroke=\"black\" fill=\"white\" stroke-width=\"1\" /><text x=\"647.5596875000001\" y=\"25.0\" dominant-baseline=\"middle\" text-anchor=\"middle\" font-size=\"14px\" font-family=\"Arial\">XX</text><rect x=\"692.616875\" y=\"405.0\" width=\"50.1209375\" height=\"40\" stroke=\"black\" fill=\"white\" stroke-width=\"1\" /><text x=\"717.6773437500001\" y=\"425.0\" dominant-baseline=\"middle\" text-anchor=\"middle\" font-size=\"14px\" font-family=\"Arial\">XX^q7</text><rect x=\"692.616875\" y=\"5.0\" width=\"50.1209375\" height=\"40\" stroke=\"black\" fill=\"white\" stroke-width=\"1\" /><text x=\"717.6773437500001\" y=\"25.0\" dominant-baseline=\"middle\" text-anchor=\"middle\" font-size=\"14px\" font-family=\"Arial\">XX</text><rect x=\"762.7378125\" y=\"455.0\" width=\"50.140625\" height=\"40\" stroke=\"black\" fill=\"white\" stroke-width=\"1\" /><text x=\"787.808125\" y=\"475.0\" dominant-baseline=\"middle\" text-anchor=\"middle\" font-size=\"14px\" font-family=\"Arial\">XX^q8</text><rect x=\"762.7378125\" y=\"5.0\" width=\"50.140625\" height=\"40\" stroke=\"black\" fill=\"white\" stroke-width=\"1\" /><text x=\"787.808125\" y=\"25.0\" dominant-baseline=\"middle\" text-anchor=\"middle\" font-size=\"14px\" font-family=\"Arial\">XX</text><rect x=\"832.8784375\" y=\"505.0\" width=\"50.140625\" height=\"40\" stroke=\"black\" fill=\"white\" stroke-width=\"1\" /><text x=\"857.94875\" y=\"525.0\" dominant-baseline=\"middle\" text-anchor=\"middle\" font-size=\"14px\" font-family=\"Arial\">XX^q9</text><rect x=\"832.8784375\" y=\"5.0\" width=\"50.140625\" height=\"40\" stroke=\"black\" fill=\"white\" stroke-width=\"1\" /><text x=\"857.94875\" y=\"25.0\" dominant-baseline=\"middle\" text-anchor=\"middle\" font-size=\"14px\" font-family=\"Arial\">XX</text><rect x=\"903.0190625\" y=\"555.0\" width=\"57.8720703125\" height=\"40\" stroke=\"black\" fill=\"white\" stroke-width=\"1\" /><text x=\"931.95509765625\" y=\"575.0\" dominant-baseline=\"middle\" text-anchor=\"middle\" font-size=\"14px\" font-family=\"Arial\">XX^q10</text><rect x=\"903.0190625\" y=\"5.0\" width=\"57.8720703125\" height=\"40\" stroke=\"black\" fill=\"white\" stroke-width=\"1\" /><text x=\"931.95509765625\" y=\"25.0\" dominant-baseline=\"middle\" text-anchor=\"middle\" font-size=\"14px\" font-family=\"Arial\">XX</text><rect x=\"980.8911328125\" y=\"605.0\" width=\"54.9386328125\" height=\"40\" stroke=\"black\" fill=\"white\" stroke-width=\"1\" /><text x=\"1008.36044921875\" y=\"625.0\" dominant-baseline=\"middle\" text-anchor=\"middle\" font-size=\"14px\" font-family=\"Arial\">XX^q11</text><rect x=\"980.8911328125\" y=\"5.0\" width=\"54.9386328125\" height=\"40\" stroke=\"black\" fill=\"white\" stroke-width=\"1\" /><text x=\"1008.36044921875\" y=\"25.0\" dominant-baseline=\"middle\" text-anchor=\"middle\" font-size=\"14px\" font-family=\"Arial\">XX</text><rect x=\"1055.829765625\" y=\"655.0\" width=\"57.8042578125\" height=\"40\" stroke=\"black\" fill=\"white\" stroke-width=\"1\" /><text x=\"1084.73189453125\" y=\"675.0\" dominant-baseline=\"middle\" text-anchor=\"middle\" font-size=\"14px\" font-family=\"Arial\">XX^q12</text><rect x=\"1055.829765625\" y=\"5.0\" width=\"57.8042578125\" height=\"40\" stroke=\"black\" fill=\"white\" stroke-width=\"1\" /><text x=\"1084.73189453125\" y=\"25.0\" dominant-baseline=\"middle\" text-anchor=\"middle\" font-size=\"14px\" font-family=\"Arial\">XX</text><rect x=\"1133.6340234375\" y=\"705.0\" width=\"57.9070703125\" height=\"40\" stroke=\"black\" fill=\"white\" stroke-width=\"1\" /><text x=\"1162.58755859375\" y=\"725.0\" dominant-baseline=\"middle\" text-anchor=\"middle\" font-size=\"14px\" font-family=\"Arial\">XX^q13</text><rect x=\"1133.6340234375\" y=\"5.0\" width=\"57.9070703125\" height=\"40\" stroke=\"black\" fill=\"white\" stroke-width=\"1\" /><text x=\"1162.58755859375\" y=\"25.0\" dominant-baseline=\"middle\" text-anchor=\"middle\" font-size=\"14px\" font-family=\"Arial\">XX</text><rect x=\"1211.54109375\" y=\"755.0\" width=\"57.8655078125\" height=\"40\" stroke=\"black\" fill=\"white\" stroke-width=\"1\" /><text x=\"1240.47384765625\" y=\"775.0\" dominant-baseline=\"middle\" text-anchor=\"middle\" font-size=\"14px\" font-family=\"Arial\">XX^q14</text><rect x=\"1211.54109375\" y=\"5.0\" width=\"57.8655078125\" height=\"40\" stroke=\"black\" fill=\"white\" stroke-width=\"1\" /><text x=\"1240.47384765625\" y=\"25.0\" dominant-baseline=\"middle\" text-anchor=\"middle\" font-size=\"14px\" font-family=\"Arial\">XX</text><rect x=\"1289.4066015625\" y=\"805.0\" width=\"57.9814453125\" height=\"40\" stroke=\"black\" fill=\"white\" stroke-width=\"1\" /><text x=\"1318.39732421875\" y=\"825.0\" dominant-baseline=\"middle\" text-anchor=\"middle\" font-size=\"14px\" font-family=\"Arial\">XX^q15</text><rect x=\"1289.4066015625\" y=\"5.0\" width=\"57.9814453125\" height=\"40\" stroke=\"black\" fill=\"white\" stroke-width=\"1\" /><text x=\"1318.39732421875\" y=\"25.0\" dominant-baseline=\"middle\" text-anchor=\"middle\" font-size=\"14px\" font-family=\"Arial\">XX</text><rect x=\"1367.388046875\" y=\"55.0\" width=\"56.109492187499995\" height=\"40\" stroke=\"black\" fill=\"white\" stroke-width=\"1\" /><text x=\"1395.4427929687502\" y=\"75.0\" dominant-baseline=\"middle\" text-anchor=\"middle\" font-size=\"14px\" font-family=\"Arial\">ZZ^q16</text><rect x=\"1367.388046875\" y=\"5.0\" width=\"56.109492187499995\" height=\"40\" stroke=\"black\" fill=\"white\" stroke-width=\"1\" /><text x=\"1395.4427929687502\" y=\"25.0\" dominant-baseline=\"middle\" text-anchor=\"middle\" font-size=\"14px\" font-family=\"Arial\">ZZ</text><rect x=\"1443.4975390625\" y=\"105.0\" width=\"56.1160546875\" height=\"40\" stroke=\"black\" fill=\"white\" stroke-width=\"1\" /><text x=\"1471.55556640625\" y=\"125.0\" dominant-baseline=\"middle\" text-anchor=\"middle\" font-size=\"14px\" font-family=\"Arial\">ZZ^q17</text><rect x=\"1443.4975390625\" y=\"5.0\" width=\"56.1160546875\" height=\"40\" stroke=\"black\" fill=\"white\" stroke-width=\"1\" /><text x=\"1471.55556640625\" y=\"25.0\" dominant-baseline=\"middle\" text-anchor=\"middle\" font-size=\"14px\" font-family=\"Arial\">ZZ</text><rect x=\"1519.61359375\" y=\"155.0\" width=\"56.1357421875\" height=\"40\" stroke=\"black\" fill=\"white\" stroke-width=\"1\" /><text x=\"1547.68146484375\" y=\"175.0\" dominant-baseline=\"middle\" text-anchor=\"middle\" font-size=\"14px\" font-family=\"Arial\">ZZ^q18</text><rect x=\"1519.61359375\" y=\"5.0\" width=\"56.1357421875\" height=\"40\" stroke=\"black\" fill=\"white\" stroke-width=\"1\" /><text x=\"1547.68146484375\" y=\"25.0\" dominant-baseline=\"middle\" text-anchor=\"middle\" font-size=\"14px\" font-family=\"Arial\">ZZ</text><rect x=\"1595.7493359375\" y=\"205.0\" width=\"56.1357421875\" height=\"40\" stroke=\"black\" fill=\"white\" stroke-width=\"1\" /><text x=\"1623.81720703125\" y=\"225.0\" dominant-baseline=\"middle\" text-anchor=\"middle\" font-size=\"14px\" font-family=\"Arial\">ZZ^q19</text><rect x=\"1595.7493359375\" y=\"5.0\" width=\"56.1357421875\" height=\"40\" stroke=\"black\" fill=\"white\" stroke-width=\"1\" /><text x=\"1623.81720703125\" y=\"25.0\" dominant-baseline=\"middle\" text-anchor=\"middle\" font-size=\"14px\" font-family=\"Arial\">ZZ</text><rect x=\"1671.885078125\" y=\"255.0\" width=\"56.0810546875\" height=\"40\" stroke=\"black\" fill=\"white\" stroke-width=\"1\" /><text x=\"1699.92560546875\" y=\"275.0\" dominant-baseline=\"middle\" text-anchor=\"middle\" font-size=\"14px\" font-family=\"Arial\">ZZ^q20</text><rect x=\"1671.885078125\" y=\"5.0\" width=\"56.0810546875\" height=\"40\" stroke=\"black\" fill=\"white\" stroke-width=\"1\" /><text x=\"1699.92560546875\" y=\"25.0\" dominant-baseline=\"middle\" text-anchor=\"middle\" font-size=\"14px\" font-family=\"Arial\">ZZ</text><rect x=\"1747.9661328125\" y=\"305.0\" width=\"54.1801171875\" height=\"40\" stroke=\"black\" fill=\"white\" stroke-width=\"1\" /><text x=\"1775.05619140625\" y=\"325.0\" dominant-baseline=\"middle\" text-anchor=\"middle\" font-size=\"14px\" font-family=\"Arial\">ZZ^q21</text><rect x=\"1747.9661328125\" y=\"5.0\" width=\"54.1801171875\" height=\"40\" stroke=\"black\" fill=\"white\" stroke-width=\"1\" /><text x=\"1775.05619140625\" y=\"25.0\" dominant-baseline=\"middle\" text-anchor=\"middle\" font-size=\"14px\" font-family=\"Arial\">ZZ</text><rect x=\"1822.14625\" y=\"355.0\" width=\"56.0132421875\" height=\"40\" stroke=\"black\" fill=\"white\" stroke-width=\"1\" /><text x=\"1850.15287109375\" y=\"375.0\" dominant-baseline=\"middle\" text-anchor=\"middle\" font-size=\"14px\" font-family=\"Arial\">ZZ^q22</text><rect x=\"1822.14625\" y=\"5.0\" width=\"56.0132421875\" height=\"40\" stroke=\"black\" fill=\"white\" stroke-width=\"1\" /><text x=\"1850.15287109375\" y=\"25.0\" dominant-baseline=\"middle\" text-anchor=\"middle\" font-size=\"14px\" font-family=\"Arial\">ZZ</text><rect x=\"1898.1594921875\" y=\"405.0\" width=\"56.1160546875\" height=\"40\" stroke=\"black\" fill=\"white\" stroke-width=\"1\" /><text x=\"1926.21751953125\" y=\"425.0\" dominant-baseline=\"middle\" text-anchor=\"middle\" font-size=\"14px\" font-family=\"Arial\">ZZ^q23</text><rect x=\"1898.1594921875\" y=\"5.0\" width=\"56.1160546875\" height=\"40\" stroke=\"black\" fill=\"white\" stroke-width=\"1\" /><text x=\"1926.21751953125\" y=\"25.0\" dominant-baseline=\"middle\" text-anchor=\"middle\" font-size=\"14px\" font-family=\"Arial\">ZZ</text><rect x=\"1974.2755468750001\" y=\"455.0\" width=\"56.0744921875\" height=\"40\" stroke=\"black\" fill=\"white\" stroke-width=\"1\" /><text x=\"2002.31279296875\" y=\"475.0\" dominant-baseline=\"middle\" text-anchor=\"middle\" font-size=\"14px\" font-family=\"Arial\">ZZ^q24</text><rect x=\"1974.2755468750001\" y=\"5.0\" width=\"56.0744921875\" height=\"40\" stroke=\"black\" fill=\"white\" stroke-width=\"1\" /><text x=\"2002.31279296875\" y=\"25.0\" dominant-baseline=\"middle\" text-anchor=\"middle\" font-size=\"14px\" font-family=\"Arial\">ZZ</text><rect x=\"2050.3500390625004\" y=\"505.0\" width=\"56.1904296875\" height=\"40\" stroke=\"black\" fill=\"white\" stroke-width=\"1\" /><text x=\"2078.4452539062504\" y=\"525.0\" dominant-baseline=\"middle\" text-anchor=\"middle\" font-size=\"14px\" font-family=\"Arial\">ZZ^q25</text><rect x=\"2050.3500390625004\" y=\"5.0\" width=\"56.1904296875\" height=\"40\" stroke=\"black\" fill=\"white\" stroke-width=\"1\" /><text x=\"2078.4452539062504\" y=\"25.0\" dominant-baseline=\"middle\" text-anchor=\"middle\" font-size=\"14px\" font-family=\"Arial\">ZZ</text><rect x=\"2126.5404687500004\" y=\"555.0\" width=\"56.109492187499995\" height=\"40\" stroke=\"black\" fill=\"white\" stroke-width=\"1\" /><text x=\"2154.5952148437505\" y=\"575.0\" dominant-baseline=\"middle\" text-anchor=\"middle\" font-size=\"14px\" font-family=\"Arial\">ZZ^q26</text><rect x=\"2126.5404687500004\" y=\"5.0\" width=\"56.109492187499995\" height=\"40\" stroke=\"black\" fill=\"white\" stroke-width=\"1\" /><text x=\"2154.5952148437505\" y=\"25.0\" dominant-baseline=\"middle\" text-anchor=\"middle\" font-size=\"14px\" font-family=\"Arial\">ZZ</text><rect x=\"2202.6499609375005\" y=\"605.0\" width=\"56.1160546875\" height=\"40\" stroke=\"black\" fill=\"white\" stroke-width=\"1\" /><text x=\"2230.7079882812504\" y=\"625.0\" dominant-baseline=\"middle\" text-anchor=\"middle\" font-size=\"14px\" font-family=\"Arial\">ZZ^q27</text><rect x=\"2202.6499609375005\" y=\"5.0\" width=\"56.1160546875\" height=\"40\" stroke=\"black\" fill=\"white\" stroke-width=\"1\" /><text x=\"2230.7079882812504\" y=\"25.0\" dominant-baseline=\"middle\" text-anchor=\"middle\" font-size=\"14px\" font-family=\"Arial\">ZZ</text><rect x=\"2278.7660156250004\" y=\"655.0\" width=\"56.1357421875\" height=\"40\" stroke=\"black\" fill=\"white\" stroke-width=\"1\" /><text x=\"2306.8338867187504\" y=\"675.0\" dominant-baseline=\"middle\" text-anchor=\"middle\" font-size=\"14px\" font-family=\"Arial\">ZZ^q28</text><rect x=\"2278.7660156250004\" y=\"5.0\" width=\"56.1357421875\" height=\"40\" stroke=\"black\" fill=\"white\" stroke-width=\"1\" /><text x=\"2306.8338867187504\" y=\"25.0\" dominant-baseline=\"middle\" text-anchor=\"middle\" font-size=\"14px\" font-family=\"Arial\">ZZ</text><rect x=\"2354.9017578125004\" y=\"705.0\" width=\"56.1357421875\" height=\"40\" stroke=\"black\" fill=\"white\" stroke-width=\"1\" /><text x=\"2382.9696289062504\" y=\"725.0\" dominant-baseline=\"middle\" text-anchor=\"middle\" font-size=\"14px\" font-family=\"Arial\">ZZ^q29</text><rect x=\"2354.9017578125004\" y=\"5.0\" width=\"56.1357421875\" height=\"40\" stroke=\"black\" fill=\"white\" stroke-width=\"1\" /><text x=\"2382.9696289062504\" y=\"25.0\" dominant-baseline=\"middle\" text-anchor=\"middle\" font-size=\"14px\" font-family=\"Arial\">ZZ</text><rect x=\"2431.0375000000004\" y=\"755.0\" width=\"56.0810546875\" height=\"40\" stroke=\"black\" fill=\"white\" stroke-width=\"1\" /><text x=\"2459.0780273437504\" y=\"775.0\" dominant-baseline=\"middle\" text-anchor=\"middle\" font-size=\"14px\" font-family=\"Arial\">ZZ^q30</text><rect x=\"2431.0375000000004\" y=\"5.0\" width=\"56.0810546875\" height=\"40\" stroke=\"black\" fill=\"white\" stroke-width=\"1\" /><text x=\"2459.0780273437504\" y=\"25.0\" dominant-baseline=\"middle\" text-anchor=\"middle\" font-size=\"14px\" font-family=\"Arial\">ZZ</text><rect x=\"2507.1185546875004\" y=\"805.0\" width=\"54.1801171875\" height=\"40\" stroke=\"black\" fill=\"white\" stroke-width=\"1\" /><text x=\"2534.2086132812506\" y=\"825.0\" dominant-baseline=\"middle\" text-anchor=\"middle\" font-size=\"14px\" font-family=\"Arial\">ZZ^q31</text><rect x=\"2507.1185546875004\" y=\"5.0\" width=\"54.1801171875\" height=\"40\" stroke=\"black\" fill=\"white\" stroke-width=\"1\" /><text x=\"2534.2086132812506\" y=\"25.0\" dominant-baseline=\"middle\" text-anchor=\"middle\" font-size=\"14px\" font-family=\"Arial\">ZZ</text><rect x=\"2581.2986718750003\" y=\"5.0\" width=\"40\" height=\"40\" stroke=\"black\" fill=\"white\" stroke-width=\"1\" /><text x=\"2601.2986718750003\" y=\"25.0\" dominant-baseline=\"middle\" text-anchor=\"middle\" font-size=\"18px\" font-family=\"Arial\">H</text></svg>"
      ],
      "text/plain": [
       "<cirq.contrib.svg.svg.SVGCircuit at 0x7f93ca14fe90>"
      ]
     },
     "execution_count": 10,
     "metadata": {},
     "output_type": "execute_result"
    }
   ],
   "source": [
    "model_circuit, model_readout = build_circuit(qubits, parameters)\n",
    "SVGCircuit(model_circuit)"
   ]
  },
  {
   "cell_type": "markdown",
   "metadata": {},
   "source": [
    "I use early stoppen with a patience of 15 on the training loss as validation loss will be quite meaningless on such a small dataset"
   ]
  },
  {
   "cell_type": "code",
   "execution_count": 11,
   "metadata": {
    "id": "ZYdf_KOxojh0"
   },
   "outputs": [
    {
     "name": "stdout",
     "output_type": "stream",
     "text": [
      "WARNING:tensorflow:AutoGraph could not transform <bound method PQC.call of <tensorflow_quantum.python.layers.high_level.pqc.PQC object at 0x7f93ca2b6150>> and will run it as-is.\n",
      "Please report this to the TensorFlow team. When filing the bug, set the verbosity to 10 (on Linux, `export AUTOGRAPH_VERBOSITY=10`) and attach the full output.\n",
      "Cause: 'arguments' object has no attribute 'posonlyargs'\n",
      "To silence this warning, decorate the function with @tf.autograph.experimental.do_not_convert\n",
      "WARNING: AutoGraph could not transform <bound method PQC.call of <tensorflow_quantum.python.layers.high_level.pqc.PQC object at 0x7f93ca2b6150>> and will run it as-is.\n",
      "Please report this to the TensorFlow team. When filing the bug, set the verbosity to 10 (on Linux, `export AUTOGRAPH_VERBOSITY=10`) and attach the full output.\n",
      "Cause: 'arguments' object has no attribute 'posonlyargs'\n",
      "To silence this warning, decorate the function with @tf.autograph.experimental.do_not_convert\n",
      "WARNING:tensorflow:AutoGraph could not transform <bound method AddCircuit.call of <tensorflow_quantum.python.layers.circuit_construction.elementary.AddCircuit object at 0x7f93ca1938d0>> and will run it as-is.\n",
      "Please report this to the TensorFlow team. When filing the bug, set the verbosity to 10 (on Linux, `export AUTOGRAPH_VERBOSITY=10`) and attach the full output.\n",
      "Cause: 'arguments' object has no attribute 'posonlyargs'\n",
      "To silence this warning, decorate the function with @tf.autograph.experimental.do_not_convert\n",
      "WARNING: AutoGraph could not transform <bound method AddCircuit.call of <tensorflow_quantum.python.layers.circuit_construction.elementary.AddCircuit object at 0x7f93ca1938d0>> and will run it as-is.\n",
      "Please report this to the TensorFlow team. When filing the bug, set the verbosity to 10 (on Linux, `export AUTOGRAPH_VERBOSITY=10`) and attach the full output.\n",
      "Cause: 'arguments' object has no attribute 'posonlyargs'\n",
      "To silence this warning, decorate the function with @tf.autograph.experimental.do_not_convert\n",
      "WARNING:tensorflow:AutoGraph could not transform <bound method Expectation.call of <tensorflow_quantum.python.layers.circuit_executors.expectation.Expectation object at 0x7f93ca06ed10>> and will run it as-is.\n",
      "Please report this to the TensorFlow team. When filing the bug, set the verbosity to 10 (on Linux, `export AUTOGRAPH_VERBOSITY=10`) and attach the full output.\n",
      "Cause: module 'gast' has no attribute 'Constant'\n",
      "To silence this warning, decorate the function with @tf.autograph.experimental.do_not_convert\n",
      "WARNING: AutoGraph could not transform <bound method Expectation.call of <tensorflow_quantum.python.layers.circuit_executors.expectation.Expectation object at 0x7f93ca06ed10>> and will run it as-is.\n",
      "Please report this to the TensorFlow team. When filing the bug, set the verbosity to 10 (on Linux, `export AUTOGRAPH_VERBOSITY=10`) and attach the full output.\n",
      "Cause: module 'gast' has no attribute 'Constant'\n",
      "To silence this warning, decorate the function with @tf.autograph.experimental.do_not_convert\n"
     ]
    }
   ],
   "source": [
    "# Build the Keras model.\n",
    "model = tf.keras.Sequential([\n",
    "    tf.keras.layers.Input(shape=(), dtype=tf.string),\n",
    "    tfq.layers.PQC(model_circuit, model_readout),\n",
    "])\n",
    "\n",
    "es = tf.keras.callbacks.EarlyStopping(monitor='loss', min_delta=0.0025, patience=10)"
   ]
  },
  {
   "cell_type": "markdown",
   "metadata": {},
   "source": [
    "I use binary crossentropy as loss and adam as optimizer"
   ]
  },
  {
   "cell_type": "code",
   "execution_count": 12,
   "metadata": {
    "id": "FlpETlLRojiA"
   },
   "outputs": [],
   "source": [
    "model.compile(\n",
    "    loss=tf.keras.losses.BinaryCrossentropy(),\n",
    "    optimizer=tf.keras.optimizers.Adam(0.01),\n",
    "    metrics=[tf.keras.metrics.BinaryAccuracy()])"
   ]
  },
  {
   "cell_type": "markdown",
   "metadata": {},
   "source": [
    "The model summary again shows the number of parameters"
   ]
  },
  {
   "cell_type": "code",
   "execution_count": 13,
   "metadata": {
    "id": "jkHq2RstojiC"
   },
   "outputs": [
    {
     "name": "stdout",
     "output_type": "stream",
     "text": [
      "Model: \"sequential\"\n",
      "_________________________________________________________________\n",
      " Layer (type)                Output Shape              Param #   \n",
      "=================================================================\n",
      " pqc (PQC)                   (None, 1)                 32        \n",
      "                                                                 \n",
      "=================================================================\n",
      "Total params: 32\n",
      "Trainable params: 32\n",
      "Non-trainable params: 0\n",
      "_________________________________________________________________\n",
      "None\n"
     ]
    }
   ],
   "source": [
    "print(model.summary())"
   ]
  },
  {
   "cell_type": "code",
   "execution_count": 14,
   "metadata": {
    "id": "n8vuQpSLlBV2"
   },
   "outputs": [],
   "source": [
    "EPOCHS = 150\n",
    "BATCH_SIZE = 16"
   ]
  },
  {
   "cell_type": "code",
   "execution_count": 15,
   "metadata": {
    "id": "Ya9qP3KkojiM"
   },
   "outputs": [
    {
     "name": "stdout",
     "output_type": "stream",
     "text": [
      "Epoch 1/150\n",
      "WARNING:tensorflow:AutoGraph could not transform <function Model.make_train_function.<locals>.train_function at 0x7f93f5518cb0> and will run it as-is.\n",
      "Please report this to the TensorFlow team. When filing the bug, set the verbosity to 10 (on Linux, `export AUTOGRAPH_VERBOSITY=10`) and attach the full output.\n",
      "Cause: 'arguments' object has no attribute 'posonlyargs'\n",
      "To silence this warning, decorate the function with @tf.autograph.experimental.do_not_convert\n",
      "WARNING: AutoGraph could not transform <function Model.make_train_function.<locals>.train_function at 0x7f93f5518cb0> and will run it as-is.\n",
      "Please report this to the TensorFlow team. When filing the bug, set the verbosity to 10 (on Linux, `export AUTOGRAPH_VERBOSITY=10`) and attach the full output.\n",
      "Cause: 'arguments' object has no attribute 'posonlyargs'\n",
      "To silence this warning, decorate the function with @tf.autograph.experimental.do_not_convert\n",
      "WARNING:tensorflow:AutoGraph could not transform <function Adjoint.differentiate_analytic at 0x7f93f54e89e0> and will run it as-is.\n",
      "Please report this to the TensorFlow team. When filing the bug, set the verbosity to 10 (on Linux, `export AUTOGRAPH_VERBOSITY=10`) and attach the full output.\n",
      "Cause: 'arguments' object has no attribute 'posonlyargs'\n",
      "To silence this warning, decorate the function with @tf.autograph.experimental.do_not_convert\n",
      "WARNING: AutoGraph could not transform <function Adjoint.differentiate_analytic at 0x7f93f54e89e0> and will run it as-is.\n",
      "Please report this to the TensorFlow team. When filing the bug, set the verbosity to 10 (on Linux, `export AUTOGRAPH_VERBOSITY=10`) and attach the full output.\n",
      "Cause: 'arguments' object has no attribute 'posonlyargs'\n",
      "To silence this warning, decorate the function with @tf.autograph.experimental.do_not_convert\n",
      "7/7 [==============================] - ETA: 0s - loss: 6.7223 - binary_accuracy: 0.4400WARNING:tensorflow:AutoGraph could not transform <function Model.make_test_function.<locals>.test_function at 0x7f93c8565b00> and will run it as-is.\n",
      "Please report this to the TensorFlow team. When filing the bug, set the verbosity to 10 (on Linux, `export AUTOGRAPH_VERBOSITY=10`) and attach the full output.\n",
      "Cause: 'arguments' object has no attribute 'posonlyargs'\n",
      "To silence this warning, decorate the function with @tf.autograph.experimental.do_not_convert\n",
      "WARNING: AutoGraph could not transform <function Model.make_test_function.<locals>.test_function at 0x7f93c8565b00> and will run it as-is.\n",
      "Please report this to the TensorFlow team. When filing the bug, set the verbosity to 10 (on Linux, `export AUTOGRAPH_VERBOSITY=10`) and attach the full output.\n",
      "Cause: 'arguments' object has no attribute 'posonlyargs'\n",
      "To silence this warning, decorate the function with @tf.autograph.experimental.do_not_convert\n",
      "7/7 [==============================] - 5s 669ms/step - loss: 6.7223 - binary_accuracy: 0.4400 - val_loss: 4.9450 - val_binary_accuracy: 0.5400\n",
      "Epoch 2/150\n",
      "7/7 [==============================] - 4s 625ms/step - loss: 5.5817 - binary_accuracy: 0.4400 - val_loss: 3.1109 - val_binary_accuracy: 0.5400\n",
      "Epoch 3/150\n",
      "7/7 [==============================] - 4s 619ms/step - loss: 3.4169 - binary_accuracy: 0.4400 - val_loss: 2.9116 - val_binary_accuracy: 0.5400\n",
      "Epoch 4/150\n",
      "7/7 [==============================] - 4s 610ms/step - loss: 3.3946 - binary_accuracy: 0.4400 - val_loss: 2.2311 - val_binary_accuracy: 0.5400\n",
      "Epoch 5/150\n",
      "7/7 [==============================] - 4s 644ms/step - loss: 2.6374 - binary_accuracy: 0.4400 - val_loss: 2.3862 - val_binary_accuracy: 0.5400\n",
      "Epoch 6/150\n",
      "7/7 [==============================] - 4s 615ms/step - loss: 2.2873 - binary_accuracy: 0.4400 - val_loss: 2.3358 - val_binary_accuracy: 0.5400\n",
      "Epoch 7/150\n",
      "7/7 [==============================] - 4s 618ms/step - loss: 2.1626 - binary_accuracy: 0.4600 - val_loss: 2.4151 - val_binary_accuracy: 0.4500\n",
      "Epoch 8/150\n",
      "7/7 [==============================] - 4s 631ms/step - loss: 2.1288 - binary_accuracy: 0.5200 - val_loss: 2.2994 - val_binary_accuracy: 0.4500\n",
      "Epoch 9/150\n",
      "7/7 [==============================] - 4s 618ms/step - loss: 1.9004 - binary_accuracy: 0.5200 - val_loss: 2.0279 - val_binary_accuracy: 0.6000\n",
      "Epoch 10/150\n",
      "7/7 [==============================] - 5s 646ms/step - loss: 1.8292 - binary_accuracy: 0.5300 - val_loss: 1.9113 - val_binary_accuracy: 0.6000\n",
      "Epoch 11/150\n",
      "7/7 [==============================] - 4s 633ms/step - loss: 1.6444 - binary_accuracy: 0.5200 - val_loss: 1.8668 - val_binary_accuracy: 0.6000\n",
      "Epoch 12/150\n",
      "7/7 [==============================] - 5s 651ms/step - loss: 1.6982 - binary_accuracy: 0.5100 - val_loss: 1.7405 - val_binary_accuracy: 0.4600\n",
      "Epoch 13/150\n",
      "7/7 [==============================] - 5s 650ms/step - loss: 1.5444 - binary_accuracy: 0.5300 - val_loss: 1.6280 - val_binary_accuracy: 0.4500\n",
      "Epoch 14/150\n",
      "7/7 [==============================] - 5s 653ms/step - loss: 1.3337 - binary_accuracy: 0.4700 - val_loss: 1.8482 - val_binary_accuracy: 0.5700\n",
      "Epoch 15/150\n",
      "7/7 [==============================] - 5s 673ms/step - loss: 1.2831 - binary_accuracy: 0.5400 - val_loss: 1.8794 - val_binary_accuracy: 0.5700\n",
      "Epoch 16/150\n",
      "7/7 [==============================] - 4s 636ms/step - loss: 1.2900 - binary_accuracy: 0.5300 - val_loss: 1.8837 - val_binary_accuracy: 0.5600\n",
      "Epoch 17/150\n",
      "7/7 [==============================] - 5s 641ms/step - loss: 1.2511 - binary_accuracy: 0.5000 - val_loss: 1.8845 - val_binary_accuracy: 0.4400\n",
      "Epoch 18/150\n",
      "7/7 [==============================] - 4s 638ms/step - loss: 1.1440 - binary_accuracy: 0.5700 - val_loss: 1.8523 - val_binary_accuracy: 0.4300\n",
      "Epoch 19/150\n",
      "7/7 [==============================] - 5s 660ms/step - loss: 0.9624 - binary_accuracy: 0.6400 - val_loss: 2.0090 - val_binary_accuracy: 0.3900\n",
      "Epoch 20/150\n",
      "7/7 [==============================] - 5s 662ms/step - loss: 0.9516 - binary_accuracy: 0.6200 - val_loss: 2.0727 - val_binary_accuracy: 0.3700\n",
      "Epoch 21/150\n",
      "7/7 [==============================] - 5s 667ms/step - loss: 0.9622 - binary_accuracy: 0.5800 - val_loss: 2.0529 - val_binary_accuracy: 0.3800\n",
      "Epoch 22/150\n",
      "7/7 [==============================] - 5s 668ms/step - loss: 0.9570 - binary_accuracy: 0.5800 - val_loss: 2.0541 - val_binary_accuracy: 0.3900\n",
      "Epoch 23/150\n",
      "7/7 [==============================] - 5s 667ms/step - loss: 0.9454 - binary_accuracy: 0.5900 - val_loss: 2.0562 - val_binary_accuracy: 0.3800\n",
      "Epoch 24/150\n",
      "7/7 [==============================] - 5s 685ms/step - loss: 0.9401 - binary_accuracy: 0.5900 - val_loss: 2.0500 - val_binary_accuracy: 0.3900\n",
      "Epoch 25/150\n",
      "7/7 [==============================] - 5s 656ms/step - loss: 0.9357 - binary_accuracy: 0.6000 - val_loss: 1.9365 - val_binary_accuracy: 0.4000\n",
      "Epoch 26/150\n",
      "7/7 [==============================] - 4s 638ms/step - loss: 0.9322 - binary_accuracy: 0.6200 - val_loss: 1.9254 - val_binary_accuracy: 0.4000\n",
      "Epoch 27/150\n",
      "7/7 [==============================] - 4s 636ms/step - loss: 0.9302 - binary_accuracy: 0.6200 - val_loss: 1.9216 - val_binary_accuracy: 0.4000\n",
      "Epoch 28/150\n",
      "7/7 [==============================] - 4s 640ms/step - loss: 0.9292 - binary_accuracy: 0.6200 - val_loss: 1.9187 - val_binary_accuracy: 0.4000\n",
      "Epoch 29/150\n",
      "7/7 [==============================] - 4s 633ms/step - loss: 0.9274 - binary_accuracy: 0.6200 - val_loss: 1.9208 - val_binary_accuracy: 0.4000\n",
      "Epoch 30/150\n",
      "7/7 [==============================] - 4s 631ms/step - loss: 0.9265 - binary_accuracy: 0.6100 - val_loss: 1.9234 - val_binary_accuracy: 0.4000\n",
      "Epoch 31/150\n",
      "7/7 [==============================] - 4s 630ms/step - loss: 0.9279 - binary_accuracy: 0.6100 - val_loss: 1.9278 - val_binary_accuracy: 0.4000\n",
      "Epoch 32/150\n",
      "7/7 [==============================] - 4s 635ms/step - loss: 0.9248 - binary_accuracy: 0.6100 - val_loss: 1.9218 - val_binary_accuracy: 0.4000\n",
      "Epoch 33/150\n",
      "7/7 [==============================] - 4s 634ms/step - loss: 0.9237 - binary_accuracy: 0.6100 - val_loss: 1.9214 - val_binary_accuracy: 0.4000\n",
      "Epoch 34/150\n",
      "7/7 [==============================] - 4s 645ms/step - loss: 0.9228 - binary_accuracy: 0.6100 - val_loss: 1.9199 - val_binary_accuracy: 0.4100\n",
      "Epoch 35/150\n",
      "7/7 [==============================] - 4s 635ms/step - loss: 0.9235 - binary_accuracy: 0.6100 - val_loss: 1.9142 - val_binary_accuracy: 0.4200\n",
      "Epoch 36/150\n",
      "7/7 [==============================] - 4s 632ms/step - loss: 0.9227 - binary_accuracy: 0.5900 - val_loss: 1.9103 - val_binary_accuracy: 0.4100\n",
      "Epoch 37/150\n",
      "7/7 [==============================] - 4s 640ms/step - loss: 0.9205 - binary_accuracy: 0.5800 - val_loss: 1.9091 - val_binary_accuracy: 0.4000\n",
      "Epoch 38/150\n",
      "7/7 [==============================] - 4s 634ms/step - loss: 0.9215 - binary_accuracy: 0.5800 - val_loss: 1.9049 - val_binary_accuracy: 0.4000\n",
      "Epoch 39/150\n",
      "7/7 [==============================] - 4s 633ms/step - loss: 0.9211 - binary_accuracy: 0.5700 - val_loss: 1.7938 - val_binary_accuracy: 0.4300\n",
      "Epoch 40/150\n",
      "7/7 [==============================] - 4s 632ms/step - loss: 0.9177 - binary_accuracy: 0.6200 - val_loss: 1.7976 - val_binary_accuracy: 0.4200\n",
      "Epoch 41/150\n",
      "7/7 [==============================] - 5s 647ms/step - loss: 0.9224 - binary_accuracy: 0.6200 - val_loss: 1.8058 - val_binary_accuracy: 0.4200\n",
      "Epoch 42/150\n",
      "7/7 [==============================] - 5s 667ms/step - loss: 0.9195 - binary_accuracy: 0.6300 - val_loss: 1.7989 - val_binary_accuracy: 0.4200\n",
      "Epoch 43/150\n",
      "7/7 [==============================] - 5s 657ms/step - loss: 0.9161 - binary_accuracy: 0.6300 - val_loss: 1.8005 - val_binary_accuracy: 0.4100\n",
      "Epoch 44/150\n",
      "7/7 [==============================] - 5s 653ms/step - loss: 0.9151 - binary_accuracy: 0.6100 - val_loss: 1.9156 - val_binary_accuracy: 0.4000\n",
      "Epoch 45/150\n",
      "7/7 [==============================] - 4s 638ms/step - loss: 0.9136 - binary_accuracy: 0.5900 - val_loss: 1.7339 - val_binary_accuracy: 0.4000\n",
      "Epoch 46/150\n",
      "7/7 [==============================] - 4s 641ms/step - loss: 0.9127 - binary_accuracy: 0.5900 - val_loss: 1.7981 - val_binary_accuracy: 0.4000\n",
      "Epoch 47/150\n",
      "7/7 [==============================] - 5s 658ms/step - loss: 0.9123 - binary_accuracy: 0.5900 - val_loss: 1.7144 - val_binary_accuracy: 0.3900\n",
      "Epoch 48/150\n",
      "7/7 [==============================] - 5s 672ms/step - loss: 0.9121 - binary_accuracy: 0.5800 - val_loss: 1.6942 - val_binary_accuracy: 0.3900\n",
      "Epoch 49/150\n",
      "7/7 [==============================] - 5s 660ms/step - loss: 0.9104 - binary_accuracy: 0.5900 - val_loss: 1.6825 - val_binary_accuracy: 0.3800\n",
      "Epoch 50/150\n",
      "7/7 [==============================] - 5s 669ms/step - loss: 0.9099 - binary_accuracy: 0.6200 - val_loss: 1.6662 - val_binary_accuracy: 0.4000\n",
      "Epoch 51/150\n",
      "7/7 [==============================] - 5s 666ms/step - loss: 0.9106 - binary_accuracy: 0.6500 - val_loss: 1.6578 - val_binary_accuracy: 0.4000\n",
      "Epoch 52/150\n",
      "7/7 [==============================] - 5s 670ms/step - loss: 0.9091 - binary_accuracy: 0.6600 - val_loss: 1.6637 - val_binary_accuracy: 0.4000\n",
      "Epoch 53/150\n",
      "7/7 [==============================] - 5s 673ms/step - loss: 0.9076 - binary_accuracy: 0.6500 - val_loss: 1.6725 - val_binary_accuracy: 0.3900\n",
      "Epoch 54/150\n",
      "7/7 [==============================] - 5s 665ms/step - loss: 0.9052 - binary_accuracy: 0.6500 - val_loss: 1.6788 - val_binary_accuracy: 0.3900\n",
      "Epoch 55/150\n",
      "7/7 [==============================] - 5s 644ms/step - loss: 0.9043 - binary_accuracy: 0.6000 - val_loss: 1.6845 - val_binary_accuracy: 0.3800\n",
      "Epoch 56/150\n",
      "7/7 [==============================] - 4s 640ms/step - loss: 0.9029 - binary_accuracy: 0.6300 - val_loss: 1.6853 - val_binary_accuracy: 0.3900\n",
      "Epoch 57/150\n",
      "7/7 [==============================] - 5s 643ms/step - loss: 0.9015 - binary_accuracy: 0.6300 - val_loss: 1.6884 - val_binary_accuracy: 0.3900\n",
      "Epoch 58/150\n",
      "7/7 [==============================] - 4s 637ms/step - loss: 0.9017 - binary_accuracy: 0.6300 - val_loss: 1.6914 - val_binary_accuracy: 0.3900\n",
      "Epoch 59/150\n",
      "7/7 [==============================] - 4s 640ms/step - loss: 0.9007 - binary_accuracy: 0.6400 - val_loss: 1.6860 - val_binary_accuracy: 0.3900\n",
      "Epoch 60/150\n",
      "7/7 [==============================] - 4s 639ms/step - loss: 0.8990 - binary_accuracy: 0.6400 - val_loss: 1.6837 - val_binary_accuracy: 0.3800\n",
      "Epoch 61/150\n",
      "7/7 [==============================] - 4s 640ms/step - loss: 0.8975 - binary_accuracy: 0.6200 - val_loss: 1.6788 - val_binary_accuracy: 0.3800\n",
      "Epoch 62/150\n",
      "7/7 [==============================] - 4s 639ms/step - loss: 0.8952 - binary_accuracy: 0.6100 - val_loss: 1.6849 - val_binary_accuracy: 0.3800\n",
      "Epoch 63/150\n",
      "7/7 [==============================] - 4s 645ms/step - loss: 0.8923 - binary_accuracy: 0.6000 - val_loss: 1.6867 - val_binary_accuracy: 0.3800\n",
      "Epoch 64/150\n",
      "7/7 [==============================] - 4s 641ms/step - loss: 0.8912 - binary_accuracy: 0.5900 - val_loss: 1.6823 - val_binary_accuracy: 0.3800\n",
      "Epoch 65/150\n",
      "7/7 [==============================] - 5s 750ms/step - loss: 0.8878 - binary_accuracy: 0.6100 - val_loss: 1.6796 - val_binary_accuracy: 0.3800\n",
      "Epoch 66/150\n",
      "7/7 [==============================] - 5s 655ms/step - loss: 0.8884 - binary_accuracy: 0.6400 - val_loss: 1.6828 - val_binary_accuracy: 0.3800\n",
      "Epoch 67/150\n",
      "7/7 [==============================] - 4s 643ms/step - loss: 0.8855 - binary_accuracy: 0.6400 - val_loss: 1.6858 - val_binary_accuracy: 0.3800\n",
      "Epoch 68/150\n",
      "7/7 [==============================] - 5s 651ms/step - loss: 0.8842 - binary_accuracy: 0.6400 - val_loss: 1.6917 - val_binary_accuracy: 0.3800\n",
      "Epoch 69/150\n",
      "7/7 [==============================] - 5s 649ms/step - loss: 0.8859 - binary_accuracy: 0.6400 - val_loss: 1.6990 - val_binary_accuracy: 0.3800\n",
      "Epoch 70/150\n",
      "7/7 [==============================] - 5s 665ms/step - loss: 0.8818 - binary_accuracy: 0.6400 - val_loss: 1.6861 - val_binary_accuracy: 0.3600\n",
      "Epoch 71/150\n",
      "7/7 [==============================] - 5s 658ms/step - loss: 0.8804 - binary_accuracy: 0.6200 - val_loss: 1.5729 - val_binary_accuracy: 0.3600\n",
      "Epoch 72/150\n",
      "7/7 [==============================] - 5s 657ms/step - loss: 0.8753 - binary_accuracy: 0.6100 - val_loss: 1.6884 - val_binary_accuracy: 0.3600\n",
      "Epoch 73/150\n",
      "7/7 [==============================] - 4s 632ms/step - loss: 0.8688 - binary_accuracy: 0.6300 - val_loss: 1.8120 - val_binary_accuracy: 0.3800\n",
      "Epoch 74/150\n",
      "7/7 [==============================] - 4s 633ms/step - loss: 0.8703 - binary_accuracy: 0.6800 - val_loss: 1.8184 - val_binary_accuracy: 0.3800\n",
      "Epoch 75/150\n",
      "7/7 [==============================] - 4s 636ms/step - loss: 0.8712 - binary_accuracy: 0.6900 - val_loss: 1.8147 - val_binary_accuracy: 0.3700\n",
      "Epoch 76/150\n",
      "7/7 [==============================] - 4s 632ms/step - loss: 0.8655 - binary_accuracy: 0.6600 - val_loss: 1.8146 - val_binary_accuracy: 0.3800\n",
      "Epoch 77/150\n",
      "7/7 [==============================] - 5s 664ms/step - loss: 0.8643 - binary_accuracy: 0.6600 - val_loss: 1.8140 - val_binary_accuracy: 0.3800\n",
      "Epoch 78/150\n",
      "7/7 [==============================] - 5s 669ms/step - loss: 0.8625 - binary_accuracy: 0.6500 - val_loss: 1.8099 - val_binary_accuracy: 0.3900\n",
      "Epoch 79/150\n",
      "7/7 [==============================] - 5s 673ms/step - loss: 0.8615 - binary_accuracy: 0.6000 - val_loss: 1.8104 - val_binary_accuracy: 0.3700\n",
      "Epoch 80/150\n",
      "7/7 [==============================] - 5s 676ms/step - loss: 0.8627 - binary_accuracy: 0.6000 - val_loss: 1.8169 - val_binary_accuracy: 0.3800\n",
      "Epoch 81/150\n",
      "7/7 [==============================] - 5s 666ms/step - loss: 0.8597 - binary_accuracy: 0.6300 - val_loss: 1.8209 - val_binary_accuracy: 0.3800\n",
      "Epoch 82/150\n",
      "7/7 [==============================] - 5s 668ms/step - loss: 0.8561 - binary_accuracy: 0.6400 - val_loss: 1.8250 - val_binary_accuracy: 0.3800\n",
      "Epoch 83/150\n",
      "7/7 [==============================] - 5s 649ms/step - loss: 0.8543 - binary_accuracy: 0.6600 - val_loss: 1.8251 - val_binary_accuracy: 0.3800\n",
      "Epoch 84/150\n",
      "7/7 [==============================] - 4s 647ms/step - loss: 0.8536 - binary_accuracy: 0.6600 - val_loss: 1.8275 - val_binary_accuracy: 0.3900\n",
      "Epoch 85/150\n",
      "7/7 [==============================] - 4s 639ms/step - loss: 0.8539 - binary_accuracy: 0.6700 - val_loss: 1.8321 - val_binary_accuracy: 0.3900\n",
      "Epoch 86/150\n",
      "7/7 [==============================] - 4s 638ms/step - loss: 0.8535 - binary_accuracy: 0.6700 - val_loss: 1.8211 - val_binary_accuracy: 0.3900\n",
      "Epoch 87/150\n",
      "7/7 [==============================] - 4s 639ms/step - loss: 0.8509 - binary_accuracy: 0.6600 - val_loss: 1.8236 - val_binary_accuracy: 0.3900\n",
      "Epoch 88/150\n",
      "7/7 [==============================] - 4s 641ms/step - loss: 0.8534 - binary_accuracy: 0.6600 - val_loss: 1.8283 - val_binary_accuracy: 0.3900\n",
      "Epoch 89/150\n",
      "7/7 [==============================] - 4s 643ms/step - loss: 0.8555 - binary_accuracy: 0.6600 - val_loss: 1.9743 - val_binary_accuracy: 0.3800\n",
      "Epoch 90/150\n",
      "7/7 [==============================] - 4s 642ms/step - loss: 0.8560 - binary_accuracy: 0.7000 - val_loss: 1.9710 - val_binary_accuracy: 0.4000\n",
      "Epoch 91/150\n",
      "7/7 [==============================] - 5s 648ms/step - loss: 0.8544 - binary_accuracy: 0.6900 - val_loss: 1.8355 - val_binary_accuracy: 0.3900\n",
      "Epoch 92/150\n",
      "7/7 [==============================] - 5s 652ms/step - loss: 0.8501 - binary_accuracy: 0.6700 - val_loss: 1.9620 - val_binary_accuracy: 0.3900\n",
      "Epoch 93/150\n",
      "7/7 [==============================] - 4s 637ms/step - loss: 0.8446 - binary_accuracy: 0.6900 - val_loss: 1.9704 - val_binary_accuracy: 0.4000\n",
      "Epoch 94/150\n",
      "7/7 [==============================] - 4s 635ms/step - loss: 0.8454 - binary_accuracy: 0.7000 - val_loss: 1.9664 - val_binary_accuracy: 0.4000\n",
      "Epoch 95/150\n",
      "7/7 [==============================] - 5s 641ms/step - loss: 0.8453 - binary_accuracy: 0.6800 - val_loss: 1.8650 - val_binary_accuracy: 0.3900\n",
      "Epoch 96/150\n",
      "7/7 [==============================] - 5s 647ms/step - loss: 0.8660 - binary_accuracy: 0.6200 - val_loss: 1.8198 - val_binary_accuracy: 0.4900\n",
      "Epoch 97/150\n",
      "7/7 [==============================] - 4s 637ms/step - loss: 0.8520 - binary_accuracy: 0.7000 - val_loss: 1.9806 - val_binary_accuracy: 0.4200\n",
      "Epoch 98/150\n",
      "7/7 [==============================] - 5s 657ms/step - loss: 0.8515 - binary_accuracy: 0.6600 - val_loss: 1.9672 - val_binary_accuracy: 0.3800\n",
      "Epoch 99/150\n",
      "7/7 [==============================] - 5s 657ms/step - loss: 0.8409 - binary_accuracy: 0.6900 - val_loss: 1.9730 - val_binary_accuracy: 0.3900\n",
      "Epoch 100/150\n",
      "7/7 [==============================] - 5s 696ms/step - loss: 0.8557 - binary_accuracy: 0.6200 - val_loss: 1.9637 - val_binary_accuracy: 0.4000\n",
      "Epoch 101/150\n",
      "7/7 [==============================] - 5s 670ms/step - loss: 0.8367 - binary_accuracy: 0.7100 - val_loss: 1.9939 - val_binary_accuracy: 0.4200\n",
      "Epoch 102/150\n",
      "7/7 [==============================] - 4s 636ms/step - loss: 0.8646 - binary_accuracy: 0.7100 - val_loss: 1.9760 - val_binary_accuracy: 0.4100\n",
      "Epoch 103/150\n",
      "7/7 [==============================] - 4s 641ms/step - loss: 0.8427 - binary_accuracy: 0.7200 - val_loss: 2.0826 - val_binary_accuracy: 0.4100\n",
      "Epoch 104/150\n",
      "7/7 [==============================] - 5s 642ms/step - loss: 0.8405 - binary_accuracy: 0.6500 - val_loss: 1.9842 - val_binary_accuracy: 0.3900\n",
      "Epoch 105/150\n",
      "7/7 [==============================] - 5s 779ms/step - loss: 0.8345 - binary_accuracy: 0.6800 - val_loss: 1.9755 - val_binary_accuracy: 0.3900\n",
      "Epoch 106/150\n",
      "7/7 [==============================] - 5s 720ms/step - loss: 0.8355 - binary_accuracy: 0.7100 - val_loss: 1.9834 - val_binary_accuracy: 0.3900\n",
      "Epoch 107/150\n",
      "7/7 [==============================] - 5s 674ms/step - loss: 0.8370 - binary_accuracy: 0.7000 - val_loss: 1.9890 - val_binary_accuracy: 0.4000\n",
      "Epoch 108/150\n",
      "7/7 [==============================] - 5s 675ms/step - loss: 0.8393 - binary_accuracy: 0.6900 - val_loss: 1.9905 - val_binary_accuracy: 0.4000\n",
      "Epoch 109/150\n",
      "7/7 [==============================] - 5s 679ms/step - loss: 0.8337 - binary_accuracy: 0.6900 - val_loss: 1.8856 - val_binary_accuracy: 0.4000\n",
      "Epoch 110/150\n",
      "7/7 [==============================] - 5s 661ms/step - loss: 0.8517 - binary_accuracy: 0.6700 - val_loss: 2.0015 - val_binary_accuracy: 0.4000\n",
      "Epoch 111/150\n",
      "7/7 [==============================] - 5s 653ms/step - loss: 0.8342 - binary_accuracy: 0.6800 - val_loss: 2.0019 - val_binary_accuracy: 0.4100\n",
      "Epoch 112/150\n",
      "7/7 [==============================] - 4s 642ms/step - loss: 0.8397 - binary_accuracy: 0.6900 - val_loss: 1.9923 - val_binary_accuracy: 0.3900\n",
      "Epoch 113/150\n",
      "7/7 [==============================] - 4s 644ms/step - loss: 0.8462 - binary_accuracy: 0.6900 - val_loss: 2.0029 - val_binary_accuracy: 0.4100\n",
      "Epoch 114/150\n",
      "7/7 [==============================] - 4s 646ms/step - loss: 0.8345 - binary_accuracy: 0.7000 - val_loss: 2.1048 - val_binary_accuracy: 0.4000\n",
      "Epoch 115/150\n",
      "7/7 [==============================] - 4s 643ms/step - loss: 0.8322 - binary_accuracy: 0.6900 - val_loss: 2.0001 - val_binary_accuracy: 0.4000\n",
      "Epoch 116/150\n",
      "7/7 [==============================] - 5s 714ms/step - loss: 0.8350 - binary_accuracy: 0.6800 - val_loss: 2.0092 - val_binary_accuracy: 0.4100\n",
      "Epoch 117/150\n",
      "7/7 [==============================] - 5s 647ms/step - loss: 0.8446 - binary_accuracy: 0.7000 - val_loss: 1.9974 - val_binary_accuracy: 0.4000\n",
      "Epoch 118/150\n",
      "7/7 [==============================] - 5s 644ms/step - loss: 0.8343 - binary_accuracy: 0.6900 - val_loss: 2.1095 - val_binary_accuracy: 0.4000\n",
      "Epoch 119/150\n",
      "7/7 [==============================] - 4s 639ms/step - loss: 0.8317 - binary_accuracy: 0.6900 - val_loss: 2.1033 - val_binary_accuracy: 0.4000\n",
      "4/4 [==============================] - 1s 157ms/step - loss: 2.1033 - binary_accuracy: 0.4000\n"
     ]
    }
   ],
   "source": [
    "qnn_history = model.fit(\n",
    "      x_train_tfcirc, y_train,\n",
    "      batch_size=BATCH_SIZE,\n",
    "      epochs=EPOCHS,\n",
    "      verbose=1,\n",
    "      validation_data=(x_test_tfcirc, y_test), \n",
    "      callbacks=[es])\n",
    "\n",
    "qnn_results = model.evaluate(x_test_tfcirc, y_test)"
   ]
  },
  {
   "cell_type": "markdown",
   "metadata": {},
   "source": [
    "We can see the training loss decresing, indicating that the model is fitting the data.   \n",
    "Proper training needs to be performed on images with a higher resolution, which will however be lot more expensive resource wise.  \n",
    "Therefore a hybrid structure with a classical network that reduces the dimensionality followed by a qnn could be practical for real world data"
   ]
  },
  {
   "cell_type": "code",
   "execution_count": 17,
   "metadata": {},
   "outputs": [
    {
     "data": {
      "text/plain": [
       "<matplotlib.legend.Legend at 0x7f93c845edd0>"
      ]
     },
     "execution_count": 17,
     "metadata": {},
     "output_type": "execute_result"
    },
    {
     "data": {
      "image/png": "[encoded data removed]",
      "text/plain": [
       "<Figure size 432x288 with 1 Axes>"
      ]
     },
     "metadata": {
      "needs_background": "light"
     },
     "output_type": "display_data"
    }
   ],
   "source": [
    "plt.plot(qnn_history.history['loss'], label=\"training\")\n",
    "plt.plot(qnn_history.history['val_loss'], label=\"validation\")\n",
    "plt.xlabel(\"Epoch\")\n",
    "plt.ylabel(\"loss\")\n",
    "plt.yscale('log')\n",
    "plt.legend()"
   ]
  },
  {
   "cell_type": "code",
   "execution_count": 18,
   "metadata": {},
   "outputs": [
    {
     "data": {
      "text/plain": [
       "<matplotlib.legend.Legend at 0x7f93c8181210>"
      ]
     },
     "execution_count": 18,
     "metadata": {},
     "output_type": "execute_result"
    },
    {
     "data": {
      "image/png": "[encoded data removed]",
      "text/plain": [
       "<Figure size 432x288 with 1 Axes>"
      ]
     },
     "metadata": {
      "needs_background": "light"
     },
     "output_type": "display_data"
    }
   ],
   "source": [
    "plt.plot(qnn_history.history['binary_accuracy'], label=\"training\")\n",
    "plt.plot(qnn_history.history['val_binary_accuracy'], label=\"validation\")\n",
    "plt.xlabel(\"Epoch\")\n",
    "plt.ylabel(\"loss\")\n",
    "plt.legend()"
   ]
  },
  {
   "cell_type": "code",
   "execution_count": null,
   "metadata": {},
   "outputs": [],
   "source": []
  }
 ],
 "metadata": {
  "colab": {
   "collapsed_sections": [],
   "name": "Kopie von mnist.ipynb",
   "private_outputs": true,
   "provenance": [],
   "toc_visible": true
  },
  "kernelspec": {
   "display_name": "Python 3",
   "language": "python",
   "name": "python3"
  },
  "language_info": {
   "codemirror_mode": {
    "name": "ipython",
    "version": 3
   },
   "file_extension": ".py",
   "mimetype": "text/x-python",
   "name": "python",
   "nbconvert_exporter": "python",
   "pygments_lexer": "ipython3",
   "version": "3.7.9"
  }
 },
 "nbformat": 4,
 "nbformat_minor": 4
}
