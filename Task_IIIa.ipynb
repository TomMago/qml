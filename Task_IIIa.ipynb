{
 "cells": [
  {
   "cell_type": "code",
   "execution_count": 2,
   "metadata": {},
   "outputs": [],
   "source": [
    "import cirq_google\n",
    "import cirq\n",
    "import numpy as np\n",
    "import matplotlib.pyplot as plt\n",
    "import tensorflow as tf\n",
    "import tensorflow_quantum as tfq\n",
    "\n",
    "import sympy\n",
    "import random\n",
    "from itertools import product\n",
    "\n",
    "from cirq.contrib.svg import SVGCircuit"
   ]
  },
  {
   "cell_type": "markdown",
   "metadata": {},
   "source": [
    "# III:"
   ]
  },
  {
   "cell_type": "markdown",
   "metadata": {},
   "source": [
    "## a: Quantum autoencoder"
   ]
  },
  {
   "cell_type": "markdown",
   "metadata": {},
   "source": [
    "### Data Preperation"
   ]
  },
  {
   "cell_type": "code",
   "execution_count": 38,
   "metadata": {},
   "outputs": [],
   "source": [
    "data = np.load('electron-photon.npz', allow_pickle=True)\n",
    "IMAGE_SIZE = 2"
   ]
  },
  {
   "cell_type": "markdown",
   "metadata": {},
   "source": [
    "To spare computational resources I downscale the images.  \n",
    "On my machines I only managed to effectively train models with 3x3 images, otherwise my computer crashed. I guess this is probabily, because I use many qubits for a single image by encoding one pixel with one qubit, especially together with the swap test.   \n",
    "In this notebook I only use an image size of 2 for finite training times, the results for 3x3 images were very similar.    \n",
    "Future work might explore the use of FRQI or NEQR for more efficent encoding, but I wasnt able to produce a working version within the time given.\n",
    "\n",
    "In the future I would explore hybrid networks where e.g. a cnn extracts features from the images which get fed into the QAE."
   ]
  },
  {
   "cell_type": "code",
   "execution_count": 39,
   "metadata": {},
   "outputs": [],
   "source": [
    "x_train_scale = tf.image.resize(data['x_train'][...,np.newaxis], (IMAGE_SIZE,IMAGE_SIZE), method=\"lanczos5\").numpy()\n",
    "x_test_scale = tf.image.resize(data['x_test'][...,np.newaxis], (IMAGE_SIZE,IMAGE_SIZE), method=\"lanczos5\").numpy()"
   ]
  },
  {
   "cell_type": "markdown",
   "metadata": {},
   "source": [
    "For the sake of simplicity, for my first model, i convert the images to black (0) and white (1).  \n",
    "Again a more sophisticated model should use FRQI or NEQR exploit the full information of the dataset by encoding the grayscales.\n",
    "I use 0 as threshold as otherwise most images are just black."
   ]
  },
  {
   "cell_type": "code",
   "execution_count": 40,
   "metadata": {},
   "outputs": [
    {
     "name": "stdout",
     "output_type": "stream",
     "text": [
      "(100, 2, 2, 1)\n",
      "(100, 2, 2, 1)\n"
     ]
    }
   ],
   "source": [
    "x_train = np.array(x_train_scale > 0, dtype=np.float32)\n",
    "y_train = data['y_train']\n",
    "x_test = np.array(x_test_scale > 0, dtype=np.float32)\n",
    "y_test = data['y_test']\n",
    "\n",
    "print(x_train.shape)\n",
    "print(x_test.shape)"
   ]
  },
  {
   "cell_type": "markdown",
   "metadata": {},
   "source": [
    "To my understanding I would now train the autoencoder e.g. only on the electron samples and test if i can classify photon using the reconstruction error or fidelity.\n",
    "Therefore for X_train I will only use electrons. X_test will only consist of electrons as well to check the fidelity of unseen examples.\n",
    "I seperate the photon samples for later checks of the anomaly score"
   ]
  },
  {
   "cell_type": "code",
   "execution_count": 41,
   "metadata": {},
   "outputs": [],
   "source": [
    "x_photon = x_train[y_train == 0]\n",
    "x_train = x_train[y_train == 1]\n",
    "x_photon_test = x_test[y_train == 0]\n",
    "x_test = x_test[y_train == 1]"
   ]
  },
  {
   "cell_type": "markdown",
   "metadata": {},
   "source": [
    "An example of an electron"
   ]
  },
  {
   "cell_type": "code",
   "execution_count": 43,
   "metadata": {},
   "outputs": [
    {
     "data": {
      "text/plain": [
       "<matplotlib.image.AxesImage at 0x7f711af3ddd0>"
      ]
     },
     "execution_count": 43,
     "metadata": {},
     "output_type": "execute_result"
    },
    {
     "data": {
      "image/png": "[encoded data removed]",
      "text/plain": [
       "<Figure size 432x288 with 1 Axes>"
      ]
     },
     "metadata": {
      "needs_background": "light"
     },
     "output_type": "display_data"
    }
   ],
   "source": [
    "plt.imshow(x_train[13,:,:,0],cmap='Greys_r')"
   ]
  },
  {
   "cell_type": "markdown",
   "metadata": {},
   "source": [
    "Convert to qbits by applying an X gate on every active pixel (1).  \n",
    "The other pixels (0) get an unchanged qbit."
   ]
  },
  {
   "cell_type": "code",
   "execution_count": 44,
   "metadata": {},
   "outputs": [],
   "source": [
    "def img_to_circuit(image):\n",
    "    flat_data = np.ndarray.flatten(image)\n",
    "    qubits = cirq.GridQubit.rect(IMAGE_SIZE, IMAGE_SIZE)\n",
    "    c = cirq.Circuit()\n",
    "    for idx, val in enumerate(flat_data):\n",
    "        if val:\n",
    "            c.append(cirq.X(qubits[idx]))\n",
    "    return c\n",
    "\n",
    "\n",
    "x_train_cdata = [img_to_circuit(x) for x in x_train]\n",
    "x_test_cdata = [img_to_circuit(x) for x in x_test]"
   ]
  },
  {
   "cell_type": "markdown",
   "metadata": {},
   "source": [
    "sample curcuit"
   ]
  },
  {
   "cell_type": "code",
   "execution_count": 46,
   "metadata": {},
   "outputs": [
    {
     "data": {
      "image/svg+xml": [
       "<svg xmlns=\"http://www.w3.org/2000/svg\" width=\"164.49359375\" height=\"50.0\"><line x1=\"32.246796875\" x2=\"134.49359375\" y1=\"25.0\" y2=\"25.0\" stroke=\"#1967d2\" stroke-width=\"1\" /><rect x=\"10.0\" y=\"5.0\" width=\"44.49359375\" height=\"40\" stroke=\"black\" fill=\"white\" stroke-width=\"0\" /><text x=\"32.246796875\" y=\"25.0\" dominant-baseline=\"middle\" text-anchor=\"middle\" font-size=\"14px\" font-family=\"Arial\">(1, 0): </text><rect x=\"74.49359375\" y=\"5.0\" width=\"40\" height=\"40\" stroke=\"black\" fill=\"white\" stroke-width=\"1\" /><text x=\"94.49359375\" y=\"25.0\" dominant-baseline=\"middle\" text-anchor=\"middle\" font-size=\"18px\" font-family=\"Arial\">X</text></svg>"
      ],
      "text/plain": [
       "<cirq.contrib.svg.svg.SVGCircuit at 0x7f711aed2390>"
      ]
     },
     "execution_count": 46,
     "metadata": {},
     "output_type": "execute_result"
    }
   ],
   "source": [
    "SVGCircuit(x_train_cdata[13])"
   ]
  },
  {
   "cell_type": "markdown",
   "metadata": {},
   "source": [
    "Prepare Data for tf"
   ]
  },
  {
   "cell_type": "code",
   "execution_count": 47,
   "metadata": {},
   "outputs": [],
   "source": [
    "x_train_tf = tfq.convert_to_tensor(x_train_cdata)\n",
    "x_test_tf = tfq.convert_to_tensor(x_test_cdata)"
   ]
  },
  {
   "cell_type": "markdown",
   "metadata": {},
   "source": [
    "### The model"
   ]
  },
  {
   "cell_type": "markdown",
   "metadata": {},
   "source": [
    "For my first try on QML I wanted to implement a simple autoencoder.\n",
    "The idea for training stems from 1612.02806 and is loosely explained in https://www.youtube.com/watch?v=ju4B0t25Ky8\n",
    "\n",
    "After adding the layers for the encoder and decoder network a swap test is performed to measure the fidelity between input and output.\n",
    "The output of the swap test can then be used for training using a simple mean absolute error as loss where 1 is used as label for all samples to compute the inaccuracy in reconstruction."
   ]
  },
  {
   "cell_type": "markdown",
   "metadata": {},
   "source": [
    "Build the autoencoder circuit:  \n",
    "one layer is build up from cnot between qbits and ry and rz rotations for training parameters.\n",
    "Using y\\*\\*params instead of the ry gate should be equivalent up to a phase"
   ]
  },
  {
   "cell_type": "code",
   "execution_count": 48,
   "metadata": {},
   "outputs": [],
   "source": [
    "def layer(qs, params):\n",
    "    circ = cirq.Circuit()\n",
    "    for i in reversed(range(len(qs)-1)):\n",
    "        circ += cirq.CNOT(qs[i], qs[i+1])\n",
    "    for i in range(len(qs)):\n",
    "        circ += cirq.ry(params[2*i]).on(qs[i])\n",
    "        circ += cirq.rz(params[2*i + 1]).on(qs[i])\n",
    "    return circ"
   ]
  },
  {
   "cell_type": "markdown",
   "metadata": {},
   "source": [
    "example for one layer"
   ]
  },
  {
   "cell_type": "code",
   "execution_count": 49,
   "metadata": {},
   "outputs": [
    {
     "data": {
      "image/svg+xml": [
       "<svg xmlns=\"http://www.w3.org/2000/svg\" width=\"446.09625000000005\" height=\"200.0\"><line x1=\"32.246796875\" x2=\"416.09625000000005\" y1=\"25.0\" y2=\"25.0\" stroke=\"#1967d2\" stroke-width=\"1\" /><line x1=\"32.246796875\" x2=\"416.09625000000005\" y1=\"75.0\" y2=\"75.0\" stroke=\"#1967d2\" stroke-width=\"1\" /><line x1=\"32.246796875\" x2=\"416.09625000000005\" y1=\"125.0\" y2=\"125.0\" stroke=\"#1967d2\" stroke-width=\"1\" /><line x1=\"32.246796875\" x2=\"416.09625000000005\" y1=\"175.0\" y2=\"175.0\" stroke=\"#1967d2\" stroke-width=\"1\" /><line x1=\"94.49359375\" x2=\"94.49359375\" y1=\"125.0\" y2=\"175.0\" stroke=\"black\" stroke-width=\"3\" /><line x1=\"159.69392578125002\" x2=\"159.69392578125002\" y1=\"75.0\" y2=\"125.0\" stroke=\"black\" stroke-width=\"3\" /><line x1=\"230.09458984375\" x2=\"230.09458984375\" y1=\"25.0\" y2=\"75.0\" stroke=\"black\" stroke-width=\"3\" /><rect x=\"10.0\" y=\"5.0\" width=\"44.49359375\" height=\"40\" stroke=\"black\" fill=\"white\" stroke-width=\"0\" /><text x=\"32.246796875\" y=\"25.0\" dominant-baseline=\"middle\" text-anchor=\"middle\" font-size=\"14px\" font-family=\"Arial\">(0, 0): </text><rect x=\"10.0\" y=\"55.0\" width=\"44.49359375\" height=\"40\" stroke=\"black\" fill=\"white\" stroke-width=\"0\" /><text x=\"32.246796875\" y=\"75.0\" dominant-baseline=\"middle\" text-anchor=\"middle\" font-size=\"14px\" font-family=\"Arial\">(0, 1): </text><rect x=\"10.0\" y=\"105.0\" width=\"44.49359375\" height=\"40\" stroke=\"black\" fill=\"white\" stroke-width=\"0\" /><text x=\"32.246796875\" y=\"125.0\" dominant-baseline=\"middle\" text-anchor=\"middle\" font-size=\"14px\" font-family=\"Arial\">(0, 2): </text><rect x=\"10.0\" y=\"155.0\" width=\"44.49359375\" height=\"40\" stroke=\"black\" fill=\"white\" stroke-width=\"0\" /><text x=\"32.246796875\" y=\"175.0\" dominant-baseline=\"middle\" text-anchor=\"middle\" font-size=\"14px\" font-family=\"Arial\">(0, 3): </text><circle cx=\"94.49359375\" cy=\"125.0\" r=\"10.0\" /><rect x=\"74.49359375\" y=\"155.0\" width=\"40\" height=\"40\" stroke=\"black\" fill=\"white\" stroke-width=\"1\" /><text x=\"94.49359375\" y=\"175.0\" dominant-baseline=\"middle\" text-anchor=\"middle\" font-size=\"18px\" font-family=\"Arial\">X</text><circle cx=\"159.69392578125002\" cy=\"75.0\" r=\"10.0\" /><rect x=\"134.49359375\" y=\"105.0\" width=\"50.4006640625\" height=\"40\" stroke=\"black\" fill=\"white\" stroke-width=\"1\" /><text x=\"159.69392578125002\" y=\"125.0\" dominant-baseline=\"middle\" text-anchor=\"middle\" font-size=\"18px\" font-family=\"Arial\">X</text><rect x=\"134.49359375\" y=\"155.0\" width=\"50.4006640625\" height=\"40\" stroke=\"black\" fill=\"white\" stroke-width=\"1\" /><text x=\"159.69392578125002\" y=\"175.0\" dominant-baseline=\"middle\" text-anchor=\"middle\" font-size=\"14px\" font-family=\"Arial\">Ry(q6)</text><circle cx=\"230.09458984375\" cy=\"25.0\" r=\"10.0\" /><rect x=\"204.89425781249997\" y=\"55.0\" width=\"50.4006640625\" height=\"40\" stroke=\"black\" fill=\"white\" stroke-width=\"1\" /><text x=\"230.09458984375\" y=\"75.0\" dominant-baseline=\"middle\" text-anchor=\"middle\" font-size=\"18px\" font-family=\"Arial\">X</text><rect x=\"204.89425781249997\" y=\"105.0\" width=\"50.4006640625\" height=\"40\" stroke=\"black\" fill=\"white\" stroke-width=\"1\" /><text x=\"230.09458984375\" y=\"125.0\" dominant-baseline=\"middle\" text-anchor=\"middle\" font-size=\"14px\" font-family=\"Arial\">Ry(q4)</text><rect x=\"204.89425781249997\" y=\"155.0\" width=\"50.4006640625\" height=\"40\" stroke=\"black\" fill=\"white\" stroke-width=\"1\" /><text x=\"230.09458984375\" y=\"175.0\" dominant-baseline=\"middle\" text-anchor=\"middle\" font-size=\"14px\" font-family=\"Arial\">Rz(q7)</text><rect x=\"275.294921875\" y=\"5.0\" width=\"50.4006640625\" height=\"40\" stroke=\"black\" fill=\"white\" stroke-width=\"1\" /><text x=\"300.49525390625\" y=\"25.0\" dominant-baseline=\"middle\" text-anchor=\"middle\" font-size=\"14px\" font-family=\"Arial\">Ry(q0)</text><rect x=\"275.294921875\" y=\"55.0\" width=\"50.4006640625\" height=\"40\" stroke=\"black\" fill=\"white\" stroke-width=\"1\" /><text x=\"300.49525390625\" y=\"75.0\" dominant-baseline=\"middle\" text-anchor=\"middle\" font-size=\"14px\" font-family=\"Arial\">Ry(q2)</text><rect x=\"275.294921875\" y=\"105.0\" width=\"50.4006640625\" height=\"40\" stroke=\"black\" fill=\"white\" stroke-width=\"1\" /><text x=\"300.49525390625\" y=\"125.0\" dominant-baseline=\"middle\" text-anchor=\"middle\" font-size=\"14px\" font-family=\"Arial\">Rz(q5)</text><rect x=\"345.6955859375\" y=\"5.0\" width=\"50.4006640625\" height=\"40\" stroke=\"black\" fill=\"white\" stroke-width=\"1\" /><text x=\"370.89591796875004\" y=\"25.0\" dominant-baseline=\"middle\" text-anchor=\"middle\" font-size=\"14px\" font-family=\"Arial\">Rz(q1)</text><rect x=\"345.6955859375\" y=\"55.0\" width=\"50.4006640625\" height=\"40\" stroke=\"black\" fill=\"white\" stroke-width=\"1\" /><text x=\"370.89591796875004\" y=\"75.0\" dominant-baseline=\"middle\" text-anchor=\"middle\" font-size=\"14px\" font-family=\"Arial\">Rz(q3)</text></svg>"
      ],
      "text/plain": [
       "<cirq.contrib.svg.svg.SVGCircuit at 0x7f711ae9a4d0>"
      ]
     },
     "execution_count": 49,
     "metadata": {},
     "output_type": "execute_result"
    }
   ],
   "source": [
    "SVGCircuit(layer(cirq.GridQubit.rect(1, 4),sympy.symbols(\"q0:%d\"%50)))"
   ]
  },
  {
   "cell_type": "markdown",
   "metadata": {},
   "source": [
    "The full autoencoder consists of arbitrary many layers for the encoder followed by the same number of layers for the decoder.\n",
    "The encoder and decoder qbits overlap only at the latent space qbits.\n",
    "\n",
    "After the actual autoencoder networks the swap test is performed."
   ]
  },
  {
   "cell_type": "code",
   "execution_count": 50,
   "metadata": {},
   "outputs": [],
   "source": [
    "def make_circuit(qs, state, latent, params, depth, swap_qubit, reference_qubits):\n",
    "    c = cirq.Circuit()\n",
    "    enc_params = params[:len(params) // 2]\n",
    "    dec_params = params[len(params) // 2:]\n",
    "    for i in range(depth):\n",
    "        c += layer(qs[:state], enc_params[2 * i * state:2 * (i + 1) * state])\n",
    "    for i in range(depth):\n",
    "        c += layer(qs[state - latent:], dec_params[2 * i * state:2 * (i + 1) * state])\n",
    "    # SWAP Test\n",
    "    c += cirq.H(swap_qubit)\n",
    "    for i, j in product(range(state), range(state - latent, len(qs))):\n",
    "        c += cirq.ControlledGate(sub_gate=cirq.SWAP, num_controls=1).on(swap_qubit, reference_qubits[i], qs[j])\n",
    "    c += cirq.H(swap_qubit)\n",
    "    return c"
   ]
  },
  {
   "cell_type": "markdown",
   "metadata": {},
   "source": [
    "The state qbits are the qbits for the input data.\n",
    "Since I already heavily reduced the size of the images, I choose to only use a single latent qbit.\n",
    "The total qbits needed for the encoder and decoder networks are twice the qbits needet for the data minus the latent qbits since they overlap between the two networks"
   ]
  },
  {
   "cell_type": "code",
   "execution_count": 51,
   "metadata": {},
   "outputs": [
    {
     "name": "stdout",
     "output_type": "stream",
     "text": [
      "12\n"
     ]
    }
   ],
   "source": [
    "state_qubits = IMAGE_SIZE*IMAGE_SIZE\n",
    "latent_qubits = 1\n",
    "network_qubits = state_qubits + (state_qubits - latent_qubits)\n",
    "\n",
    "qubits = [cirq.GridQubit(0, i) for i in range(network_qubits + 1 + state_qubits)]\n",
    "print(len(qubits))"
   ]
  },
  {
   "cell_type": "code",
   "execution_count": 52,
   "metadata": {},
   "outputs": [],
   "source": [
    "layers = 2\n",
    "\n",
    "num_params = 4 * state_qubits * layers\n",
    "parameters = sympy.symbols(\"q0:%d\"%num_params)"
   ]
  },
  {
   "cell_type": "markdown",
   "metadata": {},
   "source": [
    "build the keras model.\n",
    "the redout operator acts on the first qbit after the ae networks where the swap test is performed.\n",
    "The y data are just ones so that a mean average errer can be used to compute 1 - fidelity using the swap test output."
   ]
  },
  {
   "cell_type": "code",
   "execution_count": 60,
   "metadata": {},
   "outputs": [],
   "source": [
    "c = make_circuit(qubits[:network_qubits], state_qubits, latent_qubits, parameters, layers, qubits[network_qubits], qubits[network_qubits + 1:])\n",
    "readout_operators = [cirq.Z(qubits[network_qubits])]\n",
    "inputs = tf.keras.Input(shape=(), dtype=tf.dtypes.string)\n",
    "layer1 = tfq.layers.PQC(c, readout_operators, differentiator=tfq.differentiators.Adjoint())(inputs)\n",
    "autoencoder = tf.keras.models.Model(inputs=inputs, outputs=layer1)\n",
    "autoencoder.compile(loss='mae', optimizer=tf.keras.optimizers.Adam(lr=0.1))\n",
    "es = tf.keras.callbacks.EarlyStopping(monitor='val_loss', patience=10)\n",
    "\n",
    "y_train = np.ones(shape=len(x_train_tf))\n",
    "y_test = np.ones(shape=len(x_test_tf))"
   ]
  },
  {
   "cell_type": "markdown",
   "metadata": {},
   "source": [
    "show the whole circuit"
   ]
  },
  {
   "cell_type": "code",
   "execution_count": 57,
   "metadata": {},
   "outputs": [
    {
     "data": {
      "image/svg+xml": [
       "<svg xmlns=\"http://www.w3.org/2000/svg\" width=\"2591.0914453125006\" height=\"600.0\"><line x1=\"36.13986328125\" x2=\"2561.0914453125006\" y1=\"25.0\" y2=\"25.0\" stroke=\"#1967d2\" stroke-width=\"1\" /><line x1=\"36.13986328125\" x2=\"2561.0914453125006\" y1=\"75.0\" y2=\"75.0\" stroke=\"#1967d2\" stroke-width=\"1\" /><line x1=\"36.13986328125\" x2=\"2561.0914453125006\" y1=\"125.0\" y2=\"125.0\" stroke=\"#1967d2\" stroke-width=\"1\" /><line x1=\"36.13986328125\" x2=\"2561.0914453125006\" y1=\"175.0\" y2=\"175.0\" stroke=\"#1967d2\" stroke-width=\"1\" /><line x1=\"36.13986328125\" x2=\"2561.0914453125006\" y1=\"225.0\" y2=\"225.0\" stroke=\"#1967d2\" stroke-width=\"1\" /><line x1=\"36.13986328125\" x2=\"2561.0914453125006\" y1=\"275.0\" y2=\"275.0\" stroke=\"#1967d2\" stroke-width=\"1\" /><line x1=\"36.13986328125\" x2=\"2561.0914453125006\" y1=\"325.0\" y2=\"325.0\" stroke=\"#1967d2\" stroke-width=\"1\" /><line x1=\"36.13986328125\" x2=\"2561.0914453125006\" y1=\"375.0\" y2=\"375.0\" stroke=\"#1967d2\" stroke-width=\"1\" /><line x1=\"36.13986328125\" x2=\"2561.0914453125006\" y1=\"425.0\" y2=\"425.0\" stroke=\"#1967d2\" stroke-width=\"1\" /><line x1=\"36.13986328125\" x2=\"2561.0914453125006\" y1=\"475.0\" y2=\"475.0\" stroke=\"#1967d2\" stroke-width=\"1\" /><line x1=\"36.13986328125\" x2=\"2561.0914453125006\" y1=\"525.0\" y2=\"525.0\" stroke=\"#1967d2\" stroke-width=\"1\" /><line x1=\"36.13986328125\" x2=\"2561.0914453125006\" y1=\"575.0\" y2=\"575.0\" stroke=\"#1967d2\" stroke-width=\"1\" /><line x1=\"102.2797265625\" x2=\"102.2797265625\" y1=\"125.0\" y2=\"175.0\" stroke=\"black\" stroke-width=\"3\" /><line x1=\"167.48005859375002\" x2=\"167.48005859375002\" y1=\"75.0\" y2=\"125.0\" stroke=\"black\" stroke-width=\"3\" /><line x1=\"237.88072265625\" x2=\"237.88072265625\" y1=\"25.0\" y2=\"75.0\" stroke=\"black\" stroke-width=\"3\" /><line x1=\"443.88238281250005\" x2=\"443.88238281250005\" y1=\"125.0\" y2=\"175.0\" stroke=\"black\" stroke-width=\"3\" /><line x1=\"512.9757812500001\" x2=\"512.9757812500001\" y1=\"75.0\" y2=\"125.0\" stroke=\"black\" stroke-width=\"3\" /><line x1=\"591.1625781250001\" x2=\"591.1625781250001\" y1=\"25.0\" y2=\"75.0\" stroke=\"black\" stroke-width=\"3\" /><line x1=\"815.5970703125001\" x2=\"815.5970703125001\" y1=\"275.0\" y2=\"325.0\" stroke=\"black\" stroke-width=\"3\" /><line x1=\"884.6904687500002\" x2=\"884.6904687500002\" y1=\"225.0\" y2=\"275.0\" stroke=\"black\" stroke-width=\"3\" /><line x1=\"962.8772656250002\" x2=\"962.8772656250002\" y1=\"175.0\" y2=\"225.0\" stroke=\"black\" stroke-width=\"3\" /><line x1=\"1188.3442578125002\" x2=\"1188.3442578125002\" y1=\"275.0\" y2=\"325.0\" stroke=\"black\" stroke-width=\"3\" /><line x1=\"1257.4376562500001\" x2=\"1257.4376562500001\" y1=\"225.0\" y2=\"275.0\" stroke=\"black\" stroke-width=\"3\" /><line x1=\"1335.6244531250002\" x2=\"1335.6244531250002\" y1=\"175.0\" y2=\"225.0\" stroke=\"black\" stroke-width=\"3\" /><line x1=\"1561.0914453125004\" x2=\"1561.0914453125004\" y1=\"175.0\" y2=\"425.0\" stroke=\"black\" stroke-width=\"3\" /><line x1=\"1621.0914453125004\" x2=\"1621.0914453125004\" y1=\"225.0\" y2=\"425.0\" stroke=\"black\" stroke-width=\"3\" /><line x1=\"1681.0914453125004\" x2=\"1681.0914453125004\" y1=\"275.0\" y2=\"425.0\" stroke=\"black\" stroke-width=\"3\" /><line x1=\"1741.0914453125004\" x2=\"1741.0914453125004\" y1=\"325.0\" y2=\"425.0\" stroke=\"black\" stroke-width=\"3\" /><line x1=\"1801.0914453125004\" x2=\"1801.0914453125004\" y1=\"175.0\" y2=\"475.0\" stroke=\"black\" stroke-width=\"3\" /><line x1=\"1861.0914453125004\" x2=\"1861.0914453125004\" y1=\"225.0\" y2=\"475.0\" stroke=\"black\" stroke-width=\"3\" /><line x1=\"1921.0914453125004\" x2=\"1921.0914453125004\" y1=\"275.0\" y2=\"475.0\" stroke=\"black\" stroke-width=\"3\" /><line x1=\"1981.0914453125004\" x2=\"1981.0914453125004\" y1=\"325.0\" y2=\"475.0\" stroke=\"black\" stroke-width=\"3\" /><line x1=\"2041.0914453125004\" x2=\"2041.0914453125004\" y1=\"175.0\" y2=\"525.0\" stroke=\"black\" stroke-width=\"3\" /><line x1=\"2101.0914453125006\" x2=\"2101.0914453125006\" y1=\"225.0\" y2=\"525.0\" stroke=\"black\" stroke-width=\"3\" /><line x1=\"2161.0914453125006\" x2=\"2161.0914453125006\" y1=\"275.0\" y2=\"525.0\" stroke=\"black\" stroke-width=\"3\" /><line x1=\"2221.0914453125006\" x2=\"2221.0914453125006\" y1=\"325.0\" y2=\"525.0\" stroke=\"black\" stroke-width=\"3\" /><line x1=\"2281.0914453125006\" x2=\"2281.0914453125006\" y1=\"175.0\" y2=\"575.0\" stroke=\"black\" stroke-width=\"3\" /><line x1=\"2341.0914453125006\" x2=\"2341.0914453125006\" y1=\"225.0\" y2=\"575.0\" stroke=\"black\" stroke-width=\"3\" /><line x1=\"2401.0914453125006\" x2=\"2401.0914453125006\" y1=\"275.0\" y2=\"575.0\" stroke=\"black\" stroke-width=\"3\" /><line x1=\"2461.0914453125006\" x2=\"2461.0914453125006\" y1=\"325.0\" y2=\"575.0\" stroke=\"black\" stroke-width=\"3\" /><rect x=\"10.0\" y=\"5.0\" width=\"52.2797265625\" height=\"40\" stroke=\"black\" fill=\"white\" stroke-width=\"0\" /><text x=\"36.13986328125\" y=\"25.0\" dominant-baseline=\"middle\" text-anchor=\"middle\" font-size=\"14px\" font-family=\"Arial\">(0, 0): </text><rect x=\"10.0\" y=\"55.0\" width=\"52.2797265625\" height=\"40\" stroke=\"black\" fill=\"white\" stroke-width=\"0\" /><text x=\"36.13986328125\" y=\"75.0\" dominant-baseline=\"middle\" text-anchor=\"middle\" font-size=\"14px\" font-family=\"Arial\">(0, 1): </text><rect x=\"10.0\" y=\"105.0\" width=\"52.2797265625\" height=\"40\" stroke=\"black\" fill=\"white\" stroke-width=\"0\" /><text x=\"36.13986328125\" y=\"125.0\" dominant-baseline=\"middle\" text-anchor=\"middle\" font-size=\"14px\" font-family=\"Arial\">(0, 2): </text><rect x=\"10.0\" y=\"155.0\" width=\"52.2797265625\" height=\"40\" stroke=\"black\" fill=\"white\" stroke-width=\"0\" /><text x=\"36.13986328125\" y=\"175.0\" dominant-baseline=\"middle\" text-anchor=\"middle\" font-size=\"14px\" font-family=\"Arial\">(0, 3): </text><rect x=\"10.0\" y=\"205.0\" width=\"52.2797265625\" height=\"40\" stroke=\"black\" fill=\"white\" stroke-width=\"0\" /><text x=\"36.13986328125\" y=\"225.0\" dominant-baseline=\"middle\" text-anchor=\"middle\" font-size=\"14px\" font-family=\"Arial\">(0, 4): </text><rect x=\"10.0\" y=\"255.0\" width=\"52.2797265625\" height=\"40\" stroke=\"black\" fill=\"white\" stroke-width=\"0\" /><text x=\"36.13986328125\" y=\"275.0\" dominant-baseline=\"middle\" text-anchor=\"middle\" font-size=\"14px\" font-family=\"Arial\">(0, 5): </text><rect x=\"10.0\" y=\"305.0\" width=\"52.2797265625\" height=\"40\" stroke=\"black\" fill=\"white\" stroke-width=\"0\" /><text x=\"36.13986328125\" y=\"325.0\" dominant-baseline=\"middle\" text-anchor=\"middle\" font-size=\"14px\" font-family=\"Arial\">(0, 6): </text><rect x=\"10.0\" y=\"355.0\" width=\"52.2797265625\" height=\"40\" stroke=\"black\" fill=\"white\" stroke-width=\"0\" /><text x=\"36.13986328125\" y=\"375.0\" dominant-baseline=\"middle\" text-anchor=\"middle\" font-size=\"14px\" font-family=\"Arial\">(0, 7): </text><rect x=\"10.0\" y=\"405.0\" width=\"52.2797265625\" height=\"40\" stroke=\"black\" fill=\"white\" stroke-width=\"0\" /><text x=\"36.13986328125\" y=\"425.0\" dominant-baseline=\"middle\" text-anchor=\"middle\" font-size=\"14px\" font-family=\"Arial\">(0, 8): </text><rect x=\"10.0\" y=\"455.0\" width=\"52.2797265625\" height=\"40\" stroke=\"black\" fill=\"white\" stroke-width=\"0\" /><text x=\"36.13986328125\" y=\"475.0\" dominant-baseline=\"middle\" text-anchor=\"middle\" font-size=\"14px\" font-family=\"Arial\">(0, 9): </text><rect x=\"10.0\" y=\"505.0\" width=\"52.2797265625\" height=\"40\" stroke=\"black\" fill=\"white\" stroke-width=\"0\" /><text x=\"36.13986328125\" y=\"525.0\" dominant-baseline=\"middle\" text-anchor=\"middle\" font-size=\"14px\" font-family=\"Arial\">(0, 10): </text><rect x=\"10.0\" y=\"555.0\" width=\"52.2797265625\" height=\"40\" stroke=\"black\" fill=\"white\" stroke-width=\"0\" /><text x=\"36.13986328125\" y=\"575.0\" dominant-baseline=\"middle\" text-anchor=\"middle\" font-size=\"14px\" font-family=\"Arial\">(0, 11): </text><circle cx=\"102.2797265625\" cy=\"125.0\" r=\"10.0\" /><rect x=\"82.2797265625\" y=\"155.0\" width=\"40\" height=\"40\" stroke=\"black\" fill=\"white\" stroke-width=\"1\" /><text x=\"102.2797265625\" y=\"175.0\" dominant-baseline=\"middle\" text-anchor=\"middle\" font-size=\"18px\" font-family=\"Arial\">X</text><rect x=\"82.2797265625\" y=\"355.0\" width=\"40\" height=\"40\" stroke=\"black\" fill=\"white\" stroke-width=\"1\" /><text x=\"102.2797265625\" y=\"375.0\" dominant-baseline=\"middle\" text-anchor=\"middle\" font-size=\"18px\" font-family=\"Arial\">H</text><circle cx=\"167.48005859375002\" cy=\"75.0\" r=\"10.0\" /><rect x=\"142.2797265625\" y=\"105.0\" width=\"50.4006640625\" height=\"40\" stroke=\"black\" fill=\"white\" stroke-width=\"1\" /><text x=\"167.48005859375002\" y=\"125.0\" dominant-baseline=\"middle\" text-anchor=\"middle\" font-size=\"18px\" font-family=\"Arial\">X</text><rect x=\"142.2797265625\" y=\"155.0\" width=\"50.4006640625\" height=\"40\" stroke=\"black\" fill=\"white\" stroke-width=\"1\" /><text x=\"167.48005859375002\" y=\"175.0\" dominant-baseline=\"middle\" text-anchor=\"middle\" font-size=\"14px\" font-family=\"Arial\">Ry(q6)</text><circle cx=\"237.88072265625\" cy=\"25.0\" r=\"10.0\" /><rect x=\"212.68039062499997\" y=\"55.0\" width=\"50.4006640625\" height=\"40\" stroke=\"black\" fill=\"white\" stroke-width=\"1\" /><text x=\"237.88072265625\" y=\"75.0\" dominant-baseline=\"middle\" text-anchor=\"middle\" font-size=\"18px\" font-family=\"Arial\">X</text><rect x=\"212.68039062499997\" y=\"105.0\" width=\"50.4006640625\" height=\"40\" stroke=\"black\" fill=\"white\" stroke-width=\"1\" /><text x=\"237.88072265625\" y=\"125.0\" dominant-baseline=\"middle\" text-anchor=\"middle\" font-size=\"14px\" font-family=\"Arial\">Ry(q4)</text><rect x=\"212.68039062499997\" y=\"155.0\" width=\"50.4006640625\" height=\"40\" stroke=\"black\" fill=\"white\" stroke-width=\"1\" /><text x=\"237.88072265625\" y=\"175.0\" dominant-baseline=\"middle\" text-anchor=\"middle\" font-size=\"14px\" font-family=\"Arial\">Rz(q7)</text><rect x=\"283.0810546875\" y=\"5.0\" width=\"50.4006640625\" height=\"40\" stroke=\"black\" fill=\"white\" stroke-width=\"1\" /><text x=\"308.28138671875\" y=\"25.0\" dominant-baseline=\"middle\" text-anchor=\"middle\" font-size=\"14px\" font-family=\"Arial\">Ry(q0)</text><rect x=\"283.0810546875\" y=\"55.0\" width=\"50.4006640625\" height=\"40\" stroke=\"black\" fill=\"white\" stroke-width=\"1\" /><text x=\"308.28138671875\" y=\"75.0\" dominant-baseline=\"middle\" text-anchor=\"middle\" font-size=\"14px\" font-family=\"Arial\">Ry(q2)</text><rect x=\"283.0810546875\" y=\"105.0\" width=\"50.4006640625\" height=\"40\" stroke=\"black\" fill=\"white\" stroke-width=\"1\" /><text x=\"308.28138671875\" y=\"125.0\" dominant-baseline=\"middle\" text-anchor=\"middle\" font-size=\"14px\" font-family=\"Arial\">Rz(q5)</text><rect x=\"353.48171875\" y=\"5.0\" width=\"50.4006640625\" height=\"40\" stroke=\"black\" fill=\"white\" stroke-width=\"1\" /><text x=\"378.68205078125004\" y=\"25.0\" dominant-baseline=\"middle\" text-anchor=\"middle\" font-size=\"14px\" font-family=\"Arial\">Rz(q1)</text><rect x=\"353.48171875\" y=\"55.0\" width=\"50.4006640625\" height=\"40\" stroke=\"black\" fill=\"white\" stroke-width=\"1\" /><text x=\"378.68205078125004\" y=\"75.0\" dominant-baseline=\"middle\" text-anchor=\"middle\" font-size=\"14px\" font-family=\"Arial\">Rz(q3)</text><circle cx=\"443.88238281250005\" cy=\"125.0\" r=\"10.0\" /><rect x=\"423.88238281250005\" y=\"155.0\" width=\"40\" height=\"40\" stroke=\"black\" fill=\"white\" stroke-width=\"1\" /><text x=\"443.88238281250005\" y=\"175.0\" dominant-baseline=\"middle\" text-anchor=\"middle\" font-size=\"18px\" font-family=\"Arial\">X</text><circle cx=\"512.9757812500001\" cy=\"75.0\" r=\"10.0\" /><rect x=\"483.88238281250005\" y=\"105.0\" width=\"58.186796875\" height=\"40\" stroke=\"black\" fill=\"white\" stroke-width=\"1\" /><text x=\"512.9757812500001\" y=\"125.0\" dominant-baseline=\"middle\" text-anchor=\"middle\" font-size=\"18px\" font-family=\"Arial\">X</text><rect x=\"483.88238281250005\" y=\"155.0\" width=\"58.186796875\" height=\"40\" stroke=\"black\" fill=\"white\" stroke-width=\"1\" /><text x=\"512.9757812500001\" y=\"175.0\" dominant-baseline=\"middle\" text-anchor=\"middle\" font-size=\"14px\" font-family=\"Arial\">Ry(q14)</text><circle cx=\"591.1625781250001\" cy=\"25.0\" r=\"10.0\" /><rect x=\"562.0691796875001\" y=\"55.0\" width=\"58.186796875\" height=\"40\" stroke=\"black\" fill=\"white\" stroke-width=\"1\" /><text x=\"591.1625781250001\" y=\"75.0\" dominant-baseline=\"middle\" text-anchor=\"middle\" font-size=\"18px\" font-family=\"Arial\">X</text><rect x=\"562.0691796875001\" y=\"105.0\" width=\"58.186796875\" height=\"40\" stroke=\"black\" fill=\"white\" stroke-width=\"1\" /><text x=\"591.1625781250001\" y=\"125.0\" dominant-baseline=\"middle\" text-anchor=\"middle\" font-size=\"14px\" font-family=\"Arial\">Ry(q12)</text><rect x=\"562.0691796875001\" y=\"155.0\" width=\"58.186796875\" height=\"40\" stroke=\"black\" fill=\"white\" stroke-width=\"1\" /><text x=\"591.1625781250001\" y=\"175.0\" dominant-baseline=\"middle\" text-anchor=\"middle\" font-size=\"14px\" font-family=\"Arial\">Rz(q15)</text><rect x=\"640.2559765625001\" y=\"5.0\" width=\"58.186796875\" height=\"40\" stroke=\"black\" fill=\"white\" stroke-width=\"1\" /><text x=\"669.3493750000001\" y=\"25.0\" dominant-baseline=\"middle\" text-anchor=\"middle\" font-size=\"14px\" font-family=\"Arial\">Ry(q8)</text><rect x=\"640.2559765625001\" y=\"55.0\" width=\"58.186796875\" height=\"40\" stroke=\"black\" fill=\"white\" stroke-width=\"1\" /><text x=\"669.3493750000001\" y=\"75.0\" dominant-baseline=\"middle\" text-anchor=\"middle\" font-size=\"14px\" font-family=\"Arial\">Ry(q10)</text><rect x=\"640.2559765625001\" y=\"105.0\" width=\"58.186796875\" height=\"40\" stroke=\"black\" fill=\"white\" stroke-width=\"1\" /><text x=\"669.3493750000001\" y=\"125.0\" dominant-baseline=\"middle\" text-anchor=\"middle\" font-size=\"14px\" font-family=\"Arial\">Rz(q13)</text><rect x=\"718.4427734375001\" y=\"5.0\" width=\"57.154296875\" height=\"40\" stroke=\"black\" fill=\"white\" stroke-width=\"1\" /><text x=\"747.0199218750001\" y=\"25.0\" dominant-baseline=\"middle\" text-anchor=\"middle\" font-size=\"14px\" font-family=\"Arial\">Rz(q9)</text><rect x=\"718.4427734375001\" y=\"55.0\" width=\"57.154296875\" height=\"40\" stroke=\"black\" fill=\"white\" stroke-width=\"1\" /><text x=\"747.0199218750001\" y=\"75.0\" dominant-baseline=\"middle\" text-anchor=\"middle\" font-size=\"14px\" font-family=\"Arial\">Rz(q11)</text><circle cx=\"815.5970703125001\" cy=\"275.0\" r=\"10.0\" /><rect x=\"795.5970703125001\" y=\"305.0\" width=\"40\" height=\"40\" stroke=\"black\" fill=\"white\" stroke-width=\"1\" /><text x=\"815.5970703125001\" y=\"325.0\" dominant-baseline=\"middle\" text-anchor=\"middle\" font-size=\"18px\" font-family=\"Arial\">X</text><circle cx=\"884.6904687500002\" cy=\"225.0\" r=\"10.0\" /><rect x=\"855.5970703125001\" y=\"255.0\" width=\"58.186796875\" height=\"40\" stroke=\"black\" fill=\"white\" stroke-width=\"1\" /><text x=\"884.6904687500002\" y=\"275.0\" dominant-baseline=\"middle\" text-anchor=\"middle\" font-size=\"18px\" font-family=\"Arial\">X</text><rect x=\"855.5970703125001\" y=\"305.0\" width=\"58.186796875\" height=\"40\" stroke=\"black\" fill=\"white\" stroke-width=\"1\" /><text x=\"884.6904687500002\" y=\"325.0\" dominant-baseline=\"middle\" text-anchor=\"middle\" font-size=\"14px\" font-family=\"Arial\">Ry(q22)</text><circle cx=\"962.8772656250002\" cy=\"175.0\" r=\"10.0\" /><rect x=\"933.7838671875002\" y=\"205.0\" width=\"58.186796875\" height=\"40\" stroke=\"black\" fill=\"white\" stroke-width=\"1\" /><text x=\"962.8772656250002\" y=\"225.0\" dominant-baseline=\"middle\" text-anchor=\"middle\" font-size=\"18px\" font-family=\"Arial\">X</text><rect x=\"933.7838671875002\" y=\"255.0\" width=\"58.186796875\" height=\"40\" stroke=\"black\" fill=\"white\" stroke-width=\"1\" /><text x=\"962.8772656250002\" y=\"275.0\" dominant-baseline=\"middle\" text-anchor=\"middle\" font-size=\"14px\" font-family=\"Arial\">Ry(q20)</text><rect x=\"933.7838671875002\" y=\"305.0\" width=\"58.186796875\" height=\"40\" stroke=\"black\" fill=\"white\" stroke-width=\"1\" /><text x=\"962.8772656250002\" y=\"325.0\" dominant-baseline=\"middle\" text-anchor=\"middle\" font-size=\"14px\" font-family=\"Arial\">Rz(q23)</text><rect x=\"1011.9706640625001\" y=\"155.0\" width=\"58.186796875\" height=\"40\" stroke=\"black\" fill=\"white\" stroke-width=\"1\" /><text x=\"1041.0640625\" y=\"175.0\" dominant-baseline=\"middle\" text-anchor=\"middle\" font-size=\"14px\" font-family=\"Arial\">Ry(q16)</text><rect x=\"1011.9706640625001\" y=\"205.0\" width=\"58.186796875\" height=\"40\" stroke=\"black\" fill=\"white\" stroke-width=\"1\" /><text x=\"1041.0640625\" y=\"225.0\" dominant-baseline=\"middle\" text-anchor=\"middle\" font-size=\"14px\" font-family=\"Arial\">Ry(q18)</text><rect x=\"1011.9706640625001\" y=\"255.0\" width=\"58.186796875\" height=\"40\" stroke=\"black\" fill=\"white\" stroke-width=\"1\" /><text x=\"1041.0640625\" y=\"275.0\" dominant-baseline=\"middle\" text-anchor=\"middle\" font-size=\"14px\" font-family=\"Arial\">Rz(q21)</text><rect x=\"1090.1574609375002\" y=\"155.0\" width=\"58.186796875\" height=\"40\" stroke=\"black\" fill=\"white\" stroke-width=\"1\" /><text x=\"1119.2508593750001\" y=\"175.0\" dominant-baseline=\"middle\" text-anchor=\"middle\" font-size=\"14px\" font-family=\"Arial\">Rz(q17)</text><rect x=\"1090.1574609375002\" y=\"205.0\" width=\"58.186796875\" height=\"40\" stroke=\"black\" fill=\"white\" stroke-width=\"1\" /><text x=\"1119.2508593750001\" y=\"225.0\" dominant-baseline=\"middle\" text-anchor=\"middle\" font-size=\"14px\" font-family=\"Arial\">Rz(q19)</text><circle cx=\"1188.3442578125002\" cy=\"275.0\" r=\"10.0\" /><rect x=\"1168.3442578125002\" y=\"305.0\" width=\"40\" height=\"40\" stroke=\"black\" fill=\"white\" stroke-width=\"1\" /><text x=\"1188.3442578125002\" y=\"325.0\" dominant-baseline=\"middle\" text-anchor=\"middle\" font-size=\"18px\" font-family=\"Arial\">X</text><circle cx=\"1257.4376562500001\" cy=\"225.0\" r=\"10.0\" /><rect x=\"1228.3442578125002\" y=\"255.0\" width=\"58.186796875\" height=\"40\" stroke=\"black\" fill=\"white\" stroke-width=\"1\" /><text x=\"1257.4376562500001\" y=\"275.0\" dominant-baseline=\"middle\" text-anchor=\"middle\" font-size=\"18px\" font-family=\"Arial\">X</text><rect x=\"1228.3442578125002\" y=\"305.0\" width=\"58.186796875\" height=\"40\" stroke=\"black\" fill=\"white\" stroke-width=\"1\" /><text x=\"1257.4376562500001\" y=\"325.0\" dominant-baseline=\"middle\" text-anchor=\"middle\" font-size=\"14px\" font-family=\"Arial\">Ry(q30)</text><circle cx=\"1335.6244531250002\" cy=\"175.0\" r=\"10.0\" /><rect x=\"1306.5310546875003\" y=\"205.0\" width=\"58.186796875\" height=\"40\" stroke=\"black\" fill=\"white\" stroke-width=\"1\" /><text x=\"1335.6244531250002\" y=\"225.0\" dominant-baseline=\"middle\" text-anchor=\"middle\" font-size=\"18px\" font-family=\"Arial\">X</text><rect x=\"1306.5310546875003\" y=\"255.0\" width=\"58.186796875\" height=\"40\" stroke=\"black\" fill=\"white\" stroke-width=\"1\" /><text x=\"1335.6244531250002\" y=\"275.0\" dominant-baseline=\"middle\" text-anchor=\"middle\" font-size=\"14px\" font-family=\"Arial\">Ry(q28)</text><rect x=\"1306.5310546875003\" y=\"305.0\" width=\"58.186796875\" height=\"40\" stroke=\"black\" fill=\"white\" stroke-width=\"1\" /><text x=\"1335.6244531250002\" y=\"325.0\" dominant-baseline=\"middle\" text-anchor=\"middle\" font-size=\"14px\" font-family=\"Arial\">Rz(q31)</text><rect x=\"1384.7178515625003\" y=\"155.0\" width=\"58.186796875\" height=\"40\" stroke=\"black\" fill=\"white\" stroke-width=\"1\" /><text x=\"1413.8112500000002\" y=\"175.0\" dominant-baseline=\"middle\" text-anchor=\"middle\" font-size=\"14px\" font-family=\"Arial\">Ry(q24)</text><rect x=\"1384.7178515625003\" y=\"205.0\" width=\"58.186796875\" height=\"40\" stroke=\"black\" fill=\"white\" stroke-width=\"1\" /><text x=\"1413.8112500000002\" y=\"225.0\" dominant-baseline=\"middle\" text-anchor=\"middle\" font-size=\"14px\" font-family=\"Arial\">Ry(q26)</text><rect x=\"1384.7178515625003\" y=\"255.0\" width=\"58.186796875\" height=\"40\" stroke=\"black\" fill=\"white\" stroke-width=\"1\" /><text x=\"1413.8112500000002\" y=\"275.0\" dominant-baseline=\"middle\" text-anchor=\"middle\" font-size=\"14px\" font-family=\"Arial\">Rz(q29)</text><rect x=\"1462.9046484375003\" y=\"155.0\" width=\"58.186796875\" height=\"40\" stroke=\"black\" fill=\"white\" stroke-width=\"1\" /><text x=\"1491.9980468750002\" y=\"175.0\" dominant-baseline=\"middle\" text-anchor=\"middle\" font-size=\"14px\" font-family=\"Arial\">Rz(q25)</text><rect x=\"1462.9046484375003\" y=\"205.0\" width=\"58.186796875\" height=\"40\" stroke=\"black\" fill=\"white\" stroke-width=\"1\" /><text x=\"1491.9980468750002\" y=\"225.0\" dominant-baseline=\"middle\" text-anchor=\"middle\" font-size=\"14px\" font-family=\"Arial\">Rz(q27)</text><circle cx=\"1561.0914453125004\" cy=\"375.0\" r=\"10.0\" /><text x=\"1561.0914453125004\" y=\"428.0\" dominant-baseline=\"middle\" text-anchor=\"middle\" font-size=\"40px\" font-family=\"Arial\">×</text><text x=\"1561.0914453125004\" y=\"178.0\" dominant-baseline=\"middle\" text-anchor=\"middle\" font-size=\"40px\" font-family=\"Arial\">×</text><circle cx=\"1621.0914453125004\" cy=\"375.0\" r=\"10.0\" /><text x=\"1621.0914453125004\" y=\"428.0\" dominant-baseline=\"middle\" text-anchor=\"middle\" font-size=\"40px\" font-family=\"Arial\">×</text><text x=\"1621.0914453125004\" y=\"228.0\" dominant-baseline=\"middle\" text-anchor=\"middle\" font-size=\"40px\" font-family=\"Arial\">×</text><circle cx=\"1681.0914453125004\" cy=\"375.0\" r=\"10.0\" /><text x=\"1681.0914453125004\" y=\"428.0\" dominant-baseline=\"middle\" text-anchor=\"middle\" font-size=\"40px\" font-family=\"Arial\">×</text><text x=\"1681.0914453125004\" y=\"278.0\" dominant-baseline=\"middle\" text-anchor=\"middle\" font-size=\"40px\" font-family=\"Arial\">×</text><circle cx=\"1741.0914453125004\" cy=\"375.0\" r=\"10.0\" /><text x=\"1741.0914453125004\" y=\"428.0\" dominant-baseline=\"middle\" text-anchor=\"middle\" font-size=\"40px\" font-family=\"Arial\">×</text><text x=\"1741.0914453125004\" y=\"328.0\" dominant-baseline=\"middle\" text-anchor=\"middle\" font-size=\"40px\" font-family=\"Arial\">×</text><circle cx=\"1801.0914453125004\" cy=\"375.0\" r=\"10.0\" /><text x=\"1801.0914453125004\" y=\"478.0\" dominant-baseline=\"middle\" text-anchor=\"middle\" font-size=\"40px\" font-family=\"Arial\">×</text><text x=\"1801.0914453125004\" y=\"178.0\" dominant-baseline=\"middle\" text-anchor=\"middle\" font-size=\"40px\" font-family=\"Arial\">×</text><circle cx=\"1861.0914453125004\" cy=\"375.0\" r=\"10.0\" /><text x=\"1861.0914453125004\" y=\"478.0\" dominant-baseline=\"middle\" text-anchor=\"middle\" font-size=\"40px\" font-family=\"Arial\">×</text><text x=\"1861.0914453125004\" y=\"228.0\" dominant-baseline=\"middle\" text-anchor=\"middle\" font-size=\"40px\" font-family=\"Arial\">×</text><circle cx=\"1921.0914453125004\" cy=\"375.0\" r=\"10.0\" /><text x=\"1921.0914453125004\" y=\"478.0\" dominant-baseline=\"middle\" text-anchor=\"middle\" font-size=\"40px\" font-family=\"Arial\">×</text><text x=\"1921.0914453125004\" y=\"278.0\" dominant-baseline=\"middle\" text-anchor=\"middle\" font-size=\"40px\" font-family=\"Arial\">×</text><circle cx=\"1981.0914453125004\" cy=\"375.0\" r=\"10.0\" /><text x=\"1981.0914453125004\" y=\"478.0\" dominant-baseline=\"middle\" text-anchor=\"middle\" font-size=\"40px\" font-family=\"Arial\">×</text><text x=\"1981.0914453125004\" y=\"328.0\" dominant-baseline=\"middle\" text-anchor=\"middle\" font-size=\"40px\" font-family=\"Arial\">×</text><circle cx=\"2041.0914453125004\" cy=\"375.0\" r=\"10.0\" /><text x=\"2041.0914453125004\" y=\"528.0\" dominant-baseline=\"middle\" text-anchor=\"middle\" font-size=\"40px\" font-family=\"Arial\">×</text><text x=\"2041.0914453125004\" y=\"178.0\" dominant-baseline=\"middle\" text-anchor=\"middle\" font-size=\"40px\" font-family=\"Arial\">×</text><circle cx=\"2101.0914453125006\" cy=\"375.0\" r=\"10.0\" /><text x=\"2101.0914453125006\" y=\"528.0\" dominant-baseline=\"middle\" text-anchor=\"middle\" font-size=\"40px\" font-family=\"Arial\">×</text><text x=\"2101.0914453125006\" y=\"228.0\" dominant-baseline=\"middle\" text-anchor=\"middle\" font-size=\"40px\" font-family=\"Arial\">×</text><circle cx=\"2161.0914453125006\" cy=\"375.0\" r=\"10.0\" /><text x=\"2161.0914453125006\" y=\"528.0\" dominant-baseline=\"middle\" text-anchor=\"middle\" font-size=\"40px\" font-family=\"Arial\">×</text><text x=\"2161.0914453125006\" y=\"278.0\" dominant-baseline=\"middle\" text-anchor=\"middle\" font-size=\"40px\" font-family=\"Arial\">×</text><circle cx=\"2221.0914453125006\" cy=\"375.0\" r=\"10.0\" /><text x=\"2221.0914453125006\" y=\"528.0\" dominant-baseline=\"middle\" text-anchor=\"middle\" font-size=\"40px\" font-family=\"Arial\">×</text><text x=\"2221.0914453125006\" y=\"328.0\" dominant-baseline=\"middle\" text-anchor=\"middle\" font-size=\"40px\" font-family=\"Arial\">×</text><circle cx=\"2281.0914453125006\" cy=\"375.0\" r=\"10.0\" /><text x=\"2281.0914453125006\" y=\"578.0\" dominant-baseline=\"middle\" text-anchor=\"middle\" font-size=\"40px\" font-family=\"Arial\">×</text><text x=\"2281.0914453125006\" y=\"178.0\" dominant-baseline=\"middle\" text-anchor=\"middle\" font-size=\"40px\" font-family=\"Arial\">×</text><circle cx=\"2341.0914453125006\" cy=\"375.0\" r=\"10.0\" /><text x=\"2341.0914453125006\" y=\"578.0\" dominant-baseline=\"middle\" text-anchor=\"middle\" font-size=\"40px\" font-family=\"Arial\">×</text><text x=\"2341.0914453125006\" y=\"228.0\" dominant-baseline=\"middle\" text-anchor=\"middle\" font-size=\"40px\" font-family=\"Arial\">×</text><circle cx=\"2401.0914453125006\" cy=\"375.0\" r=\"10.0\" /><text x=\"2401.0914453125006\" y=\"578.0\" dominant-baseline=\"middle\" text-anchor=\"middle\" font-size=\"40px\" font-family=\"Arial\">×</text><text x=\"2401.0914453125006\" y=\"278.0\" dominant-baseline=\"middle\" text-anchor=\"middle\" font-size=\"40px\" font-family=\"Arial\">×</text><circle cx=\"2461.0914453125006\" cy=\"375.0\" r=\"10.0\" /><text x=\"2461.0914453125006\" y=\"578.0\" dominant-baseline=\"middle\" text-anchor=\"middle\" font-size=\"40px\" font-family=\"Arial\">×</text><text x=\"2461.0914453125006\" y=\"328.0\" dominant-baseline=\"middle\" text-anchor=\"middle\" font-size=\"40px\" font-family=\"Arial\">×</text><rect x=\"2501.0914453125006\" y=\"355.0\" width=\"40\" height=\"40\" stroke=\"black\" fill=\"white\" stroke-width=\"1\" /><text x=\"2521.0914453125006\" y=\"375.0\" dominant-baseline=\"middle\" text-anchor=\"middle\" font-size=\"18px\" font-family=\"Arial\">H</text></svg>"
      ],
      "text/plain": [
       "<cirq.contrib.svg.svg.SVGCircuit at 0x7f711ab39550>"
      ]
     },
     "execution_count": 57,
     "metadata": {},
     "output_type": "execute_result"
    }
   ],
   "source": [
    "SVGCircuit(c)"
   ]
  },
  {
   "cell_type": "markdown",
   "metadata": {},
   "source": [
    "For faster training you might reduce the dataset.  \n",
    "Use cutoff = 56 for full data"
   ]
  },
  {
   "cell_type": "code",
   "execution_count": 61,
   "metadata": {},
   "outputs": [],
   "source": [
    "CUTOFF = 56\n",
    "\n",
    "x_train_tf_s = x_train_tf[:CUTOFF]\n",
    "x_test_tf_s = x_test_tf[:CUTOFF]\n",
    "y_train_s = y_train[:CUTOFF]\n",
    "y_test_s = y_test[:CUTOFF]"
   ]
  },
  {
   "cell_type": "code",
   "execution_count": 62,
   "metadata": {},
   "outputs": [
    {
     "name": "stdout",
     "output_type": "stream",
     "text": [
      "Epoch 1/50\n",
      "WARNING:tensorflow:AutoGraph could not transform <function Model.make_train_function.<locals>.train_function at 0x7f711af9df80> and will run it as-is.\n",
      "Please report this to the TensorFlow team. When filing the bug, set the verbosity to 10 (on Linux, `export AUTOGRAPH_VERBOSITY=10`) and attach the full output.\n",
      "Cause: 'arguments' object has no attribute 'posonlyargs'\n",
      "To silence this warning, decorate the function with @tf.autograph.experimental.do_not_convert\n",
      "WARNING: AutoGraph could not transform <function Model.make_train_function.<locals>.train_function at 0x7f711af9df80> and will run it as-is.\n",
      "Please report this to the TensorFlow team. When filing the bug, set the verbosity to 10 (on Linux, `export AUTOGRAPH_VERBOSITY=10`) and attach the full output.\n",
      "Cause: 'arguments' object has no attribute 'posonlyargs'\n",
      "To silence this warning, decorate the function with @tf.autograph.experimental.do_not_convert\n",
      "4/4 [==============================] - ETA: 0s - loss: 0.7876WARNING:tensorflow:AutoGraph could not transform <function Model.make_test_function.<locals>.test_function at 0x7f7142bf65f0> and will run it as-is.\n",
      "Please report this to the TensorFlow team. When filing the bug, set the verbosity to 10 (on Linux, `export AUTOGRAPH_VERBOSITY=10`) and attach the full output.\n",
      "Cause: 'arguments' object has no attribute 'posonlyargs'\n",
      "To silence this warning, decorate the function with @tf.autograph.experimental.do_not_convert\n",
      "WARNING: AutoGraph could not transform <function Model.make_test_function.<locals>.test_function at 0x7f7142bf65f0> and will run it as-is.\n",
      "Please report this to the TensorFlow team. When filing the bug, set the verbosity to 10 (on Linux, `export AUTOGRAPH_VERBOSITY=10`) and attach the full output.\n",
      "Cause: 'arguments' object has no attribute 'posonlyargs'\n",
      "To silence this warning, decorate the function with @tf.autograph.experimental.do_not_convert\n",
      "4/4 [==============================] - 2s 240ms/step - loss: 0.7876 - val_loss: 0.5793\n",
      "Epoch 2/50\n",
      "4/4 [==============================] - 1s 163ms/step - loss: 0.5513 - val_loss: 0.4683\n",
      "Epoch 3/50\n",
      "4/4 [==============================] - 1s 167ms/step - loss: 0.5091 - val_loss: 0.4546\n",
      "Epoch 4/50\n",
      "4/4 [==============================] - 1s 157ms/step - loss: 0.4697 - val_loss: 0.4230\n",
      "Epoch 5/50\n",
      "4/4 [==============================] - 1s 160ms/step - loss: 0.4662 - val_loss: 0.4026\n",
      "Epoch 6/50\n",
      "4/4 [==============================] - 1s 163ms/step - loss: 0.4329 - val_loss: 0.3579\n",
      "Epoch 7/50\n",
      "4/4 [==============================] - 1s 168ms/step - loss: 0.3423 - val_loss: 0.2233\n",
      "Epoch 8/50\n",
      "4/4 [==============================] - 1s 155ms/step - loss: 0.1571 - val_loss: 0.0605\n",
      "Epoch 9/50\n",
      "4/4 [==============================] - 1s 157ms/step - loss: 0.0306 - val_loss: 0.0212\n",
      "Epoch 10/50\n",
      "4/4 [==============================] - 1s 156ms/step - loss: 0.0381 - val_loss: 0.0410\n",
      "Epoch 11/50\n",
      "4/4 [==============================] - 1s 163ms/step - loss: 0.0383 - val_loss: 0.0281\n",
      "Epoch 12/50\n",
      "4/4 [==============================] - 1s 157ms/step - loss: 0.0258 - val_loss: 0.0181\n",
      "Epoch 13/50\n",
      "4/4 [==============================] - 1s 167ms/step - loss: 0.0149 - val_loss: 0.0074\n",
      "Epoch 14/50\n",
      "4/4 [==============================] - 1s 144ms/step - loss: 0.0049 - val_loss: 0.0024\n",
      "Epoch 15/50\n",
      "4/4 [==============================] - 1s 162ms/step - loss: 0.0043 - val_loss: 0.0068\n",
      "Epoch 16/50\n",
      "4/4 [==============================] - 1s 148ms/step - loss: 0.0067 - val_loss: 0.0042\n",
      "Epoch 17/50\n",
      "4/4 [==============================] - 1s 198ms/step - loss: 0.0027 - val_loss: 8.0336e-04\n",
      "Epoch 18/50\n",
      "4/4 [==============================] - 1s 154ms/step - loss: 6.6188e-04 - val_loss: 8.4651e-04\n",
      "Epoch 19/50\n",
      "4/4 [==============================] - 1s 161ms/step - loss: 0.0013 - val_loss: 0.0013\n",
      "Epoch 20/50\n",
      "4/4 [==============================] - 1s 146ms/step - loss: 0.0010 - val_loss: 5.3187e-04\n",
      "Epoch 21/50\n",
      "4/4 [==============================] - 1s 174ms/step - loss: 4.6278e-04 - val_loss: 2.6342e-04\n",
      "Epoch 22/50\n",
      "4/4 [==============================] - 1s 162ms/step - loss: 2.3164e-04 - val_loss: 1.8967e-04\n",
      "Epoch 23/50\n",
      "4/4 [==============================] - 1s 168ms/step - loss: 2.1137e-04 - val_loss: 2.1721e-04\n",
      "Epoch 24/50\n",
      "4/4 [==============================] - 1s 169ms/step - loss: 2.2401e-04 - val_loss: 1.2935e-04\n",
      "Epoch 25/50\n",
      "4/4 [==============================] - 1s 168ms/step - loss: 7.2990e-05 - val_loss: 1.8855e-05\n",
      "Epoch 26/50\n",
      "4/4 [==============================] - 1s 197ms/step - loss: 4.1879e-05 - val_loss: 6.7662e-05\n",
      "Epoch 27/50\n",
      "4/4 [==============================] - 1s 177ms/step - loss: 6.4680e-05 - val_loss: 4.5492e-05\n",
      "Epoch 28/50\n",
      "4/4 [==============================] - 1s 183ms/step - loss: 3.1859e-05 - val_loss: 8.4607e-06\n",
      "Epoch 29/50\n",
      "4/4 [==============================] - 1s 157ms/step - loss: 1.1775e-05 - val_loss: 1.4285e-05\n",
      "Epoch 30/50\n",
      "4/4 [==============================] - 1s 151ms/step - loss: 1.4831e-05 - val_loss: 1.1594e-05\n",
      "Epoch 31/50\n",
      "4/4 [==============================] - 1s 148ms/step - loss: 1.1811e-05 - val_loss: 7.1760e-06\n",
      "Epoch 32/50\n",
      "4/4 [==============================] - 1s 177ms/step - loss: 4.6332e-06 - val_loss: 3.9488e-06\n",
      "Epoch 33/50\n",
      "4/4 [==============================] - 1s 167ms/step - loss: 3.4177e-06 - val_loss: 4.2426e-06\n",
      "Epoch 34/50\n",
      "4/4 [==============================] - 1s 146ms/step - loss: 4.8429e-06 - val_loss: 2.5566e-06\n",
      "Epoch 35/50\n",
      "4/4 [==============================] - 1s 147ms/step - loss: 1.7743e-06 - val_loss: 8.0998e-07\n",
      "Epoch 36/50\n",
      "4/4 [==============================] - 1s 158ms/step - loss: 1.0026e-06 - val_loss: 1.5848e-06\n",
      "Epoch 37/50\n",
      "4/4 [==============================] - 1s 160ms/step - loss: 1.1187e-06 - val_loss: 9.6112e-07\n",
      "Epoch 38/50\n",
      "4/4 [==============================] - 1s 176ms/step - loss: 5.9924e-07 - val_loss: 6.2478e-07\n",
      "Epoch 39/50\n",
      "4/4 [==============================] - 1s 181ms/step - loss: 4.8322e-07 - val_loss: 1.7349e-07\n",
      "Epoch 40/50\n",
      "4/4 [==============================] - 1s 159ms/step - loss: 3.0122e-07 - val_loss: 4.0127e-07\n",
      "Epoch 41/50\n",
      "4/4 [==============================] - 1s 182ms/step - loss: 5.5879e-07 - val_loss: 3.6934e-07\n",
      "Epoch 42/50\n",
      "4/4 [==============================] - 1s 169ms/step - loss: 2.0968e-07 - val_loss: 2.6396e-07\n",
      "Epoch 43/50\n",
      "4/4 [==============================] - 1s 163ms/step - loss: 2.3735e-07 - val_loss: 1.3198e-07\n",
      "Epoch 44/50\n",
      "4/4 [==============================] - 1s 156ms/step - loss: 2.5119e-07 - val_loss: 2.2565e-07\n",
      "Epoch 45/50\n",
      "4/4 [==============================] - 1s 166ms/step - loss: 3.6401e-07 - val_loss: 6.8120e-08\n",
      "Epoch 46/50\n",
      "4/4 [==============================] - 1s 165ms/step - loss: 1.1282e-07 - val_loss: 5.5454e-07\n",
      "Epoch 47/50\n",
      "4/4 [==============================] - 1s 148ms/step - loss: 4.5981e-07 - val_loss: 2.5438e-07\n",
      "Epoch 48/50\n",
      "4/4 [==============================] - 1s 144ms/step - loss: 2.6077e-07 - val_loss: 1.0431e-07\n",
      "Epoch 49/50\n",
      "4/4 [==============================] - 1s 151ms/step - loss: 1.7030e-07 - val_loss: 4.2894e-07\n",
      "Epoch 50/50\n",
      "4/4 [==============================] - 1s 155ms/step - loss: 2.9909e-07 - val_loss: 1.7881e-07\n"
     ]
    }
   ],
   "source": [
    "history = autoencoder.fit(x_train_tf_s, y_train_s, epochs=50, batch_size=14, validation_data=(x_test_tf_s, y_test_s), callbacks=[es])"
   ]
  },
  {
   "cell_type": "markdown",
   "metadata": {},
   "source": [
    "As we can see the fidelity approaches 1, which shows that the reconstruction of electrons is successfull"
   ]
  },
  {
   "cell_type": "code",
   "execution_count": 64,
   "metadata": {},
   "outputs": [
    {
     "data": {
      "image/png": "[encoded data removed]",
      "text/plain": [
       "<Figure size 432x288 with 1 Axes>"
      ]
     },
     "metadata": {
      "needs_background": "light"
     },
     "output_type": "display_data"
    }
   ],
   "source": [
    "plt.plot(history.history['loss'], label='training')\n",
    "plt.plot(history.history['val_loss'], label='validation')\n",
    "plt.legend()\n",
    "plt.xlabel(\"epoch\")\n",
    "plt.ylabel(\"1 - fidelity\")\n",
    "plt.yscale('log')\n",
    "plt.show()"
   ]
  }
 ],
 "metadata": {
  "kernelspec": {
   "display_name": "Python 3",
   "language": "python",
   "name": "python3"
  },
  "language_info": {
   "codemirror_mode": {
    "name": "ipython",
    "version": 3
   },
   "file_extension": ".py",
   "mimetype": "text/x-python",
   "name": "python",
   "nbconvert_exporter": "python",
   "pygments_lexer": "ipython3",
   "version": "3.7.9"
  }
 },
 "nbformat": 4,
 "nbformat_minor": 4
}
