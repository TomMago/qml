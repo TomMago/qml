{
 "cells": [
  {
   "cell_type": "code",
   "execution_count": 1,
   "metadata": {},
   "outputs": [],
   "source": [
    "import tensorflow as tf\n",
    "from tensorflow import keras\n",
    "from tensorflow.keras import layers as lay\n",
    "from sklearn.model_selection import train_test_split\n",
    "from sklearn import model_selection\n",
    "from tensorflow.keras import Model\n",
    "from tensorflow.keras.optimizers import Adam\n",
    "from tensorflow.keras.layers import Dense\n",
    "from tensorflow.keras.losses import binary_crossentropy\n",
    "from tensorflow.keras.callbacks import EarlyStopping\n",
    "\n",
    "import matplotlib.pyplot as plt\n",
    "import pandas as pd\n",
    "import numpy as np\n",
    "\n",
    "import stellargraph as sg\n",
    "from stellargraph.mapper import PaddedGraphGenerator\n",
    "from stellargraph.layer import GCNSupervisedGraphClassification\n",
    "from stellargraph import StellarGraph\n",
    "from stellargraph import datasets\n",
    "\n",
    "from IPython.display import display, HTML"
   ]
  },
  {
   "cell_type": "markdown",
   "metadata": {},
   "source": [
    "For this task I will train two different Graph based models on the jet data for binary classification. \n",
    "For The first model I use a Graph Convolutional Network, where I use k nearest neighboars to set initial edges of the graph.\n",
    "For the second method I adapt the EdgeConv method to build a Graph classifier for the point data.\n",
    "To try a fair comparasion I try to keep the number of parameters of both models roughly the same and use comparable training setups."
   ]
  },
  {
   "cell_type": "markdown",
   "metadata": {},
   "source": [
    "# Method 1: GCN\n",
    "\n",
    "As first method I use a Graph Convolutional Network\n",
    "\n",
    "## Data\n",
    "\n",
    "I store the files of the dataset in the data directory and combine the data from the different files there."
   ]
  },
  {
   "cell_type": "code",
   "execution_count": 2,
   "metadata": {},
   "outputs": [],
   "source": [
    "from os import walk\n",
    "\n",
    "f = []\n",
    "for (dirpath, dirnames, filenames) in walk(\"jet_data\"):\n",
    "    f.extend(filenames)\n",
    "    break"
   ]
  },
  {
   "cell_type": "markdown",
   "metadata": {},
   "source": [
    "I use stellargraph (https://github.com/stellargraph/stellargraph) for the graph handling.\n",
    "To construct the graph I use a vertex per jet so that the number of vertices equals the jet multiplicity.  \n",
    "The vertex features are all features from the dataset namely transverse momentum, rapidity, azimuthal angle and the particle id.  \n",
    "I want to map the data to a homogenous graph without edge features. I want to connect the nodes that are closest in feature space as I assume they are closely realted. I do weight the edges. To do so I build the matrix A by using NearestNeighbors. The method make_graph builds a StellarGraph object from features of a single event."
   ]
  },
  {
   "cell_type": "code",
   "execution_count": 3,
   "metadata": {},
   "outputs": [],
   "source": [
    "from sklearn.neighbors import NearestNeighbors\n",
    "def get_A(data):\n",
    "    return NearestNeighbors(n_neighbors=4, algorithm='ball_tree').fit(data).kneighbors_graph(data).toarray()"
   ]
  },
  {
   "cell_type": "markdown",
   "metadata": {},
   "source": [
    "Stellargraph takes the edges in the form of a pandas Dataframe. Therefore I cast the graphs matrix using np.where to find the indices of 1 entries in the matrix.\n"
   ]
  },
  {
   "cell_type": "code",
   "execution_count": 4,
   "metadata": {},
   "outputs": [],
   "source": [
    "def make_graph(feats):\n",
    "    A = get_A(feats)\n",
    "    idxs = np.where(A > 0)\n",
    "    square_numeric_edges = pd.DataFrame(\n",
    "    {\"source\": idxs[0], \"target\": idxs[1]}\n",
    "    )\n",
    "    return StellarGraph(feats, square_numeric_edges)"
   ]
  },
  {
   "cell_type": "code",
   "execution_count": 5,
   "metadata": {},
   "outputs": [],
   "source": [
    "MAX_FILES = 3 #number of files to load (one file contains 100000 events)\n",
    "FILE_EVENTS = 10000 # number of events to load per file (to train on small datasets for debug purposes)\n",
    "\n",
    "def load_field(field):\n",
    "    graphs = np.array([make_graph(features) for features in np.load(\"jet_data/\"+f[0])[field][:FILE_EVENTS,:,:]])\n",
    "    return graphs"
   ]
  },
  {
   "cell_type": "code",
   "execution_count": 6,
   "metadata": {},
   "outputs": [],
   "source": [
    "gs = load_field('X') # array of graphs"
   ]
  },
  {
   "cell_type": "markdown",
   "metadata": {},
   "source": [
    "labels are likewise loaded from the file "
   ]
  },
  {
   "cell_type": "code",
   "execution_count": 7,
   "metadata": {},
   "outputs": [],
   "source": [
    "graph_labels = pd.DataFrame(np.load(\"jet_data/\"+f[0])['y'][:FILE_EVENTS])"
   ]
  },
  {
   "cell_type": "markdown",
   "metadata": {},
   "source": [
    "build a generator from the graphs using StellarGraphs class"
   ]
  },
  {
   "cell_type": "code",
   "execution_count": 8,
   "metadata": {},
   "outputs": [],
   "source": [
    "generator = PaddedGraphGenerator(graphs=gs)"
   ]
  },
  {
   "cell_type": "markdown",
   "metadata": {},
   "source": [
    "## Model"
   ]
  },
  {
   "cell_type": "markdown",
   "metadata": {},
   "source": [
    "Now I build a model. I use a Graph Convolutional Layer from Stellargraph (https://github.com/stellargraph/stellargraph/blob/develop/stellargraph/layer/gcn.py) which is based on 1902.06673.\n",
    "After the Graph convolutional architecture 3 Dense layers follow. Last layer gets sigmoid activation for binary classification. \n",
    "The model is compiled with binary crossentropy, optimizer is Adam. I use some dropout for regularization."
   ]
  },
  {
   "cell_type": "code",
   "execution_count": 9,
   "metadata": {},
   "outputs": [
    {
     "name": "stdout",
     "output_type": "stream",
     "text": [
      "WARNING:tensorflow:AutoGraph could not transform <bound method GraphConvolution.call of <stellargraph.layer.gcn.GraphConvolution object at 0x7f8df0cc4390>> and will run it as-is.\n",
      "Please report this to the TensorFlow team. When filing the bug, set the verbosity to 10 (on Linux, `export AUTOGRAPH_VERBOSITY=10`) and attach the full output.\n",
      "Cause: module 'gast' has no attribute 'Constant'\n",
      "To silence this warning, decorate the function with @tf.autograph.experimental.do_not_convert\n",
      "WARNING: AutoGraph could not transform <bound method GraphConvolution.call of <stellargraph.layer.gcn.GraphConvolution object at 0x7f8df0cc4390>> and will run it as-is.\n",
      "Please report this to the TensorFlow team. When filing the bug, set the verbosity to 10 (on Linux, `export AUTOGRAPH_VERBOSITY=10`) and attach the full output.\n",
      "Cause: module 'gast' has no attribute 'Constant'\n",
      "To silence this warning, decorate the function with @tf.autograph.experimental.do_not_convert\n"
     ]
    }
   ],
   "source": [
    "gc_model = GCNSupervisedGraphClassification(\n",
    "    layer_sizes=[128, 64, 32],\n",
    "    activations=[\"relu\", \"relu\", \"relu\"],\n",
    "    generator=generator,\n",
    "    dropout=0.4,\n",
    ")\n",
    "x_inp, x_out = gc_model.in_out_tensors()\n",
    "x = Dense(units=64, activation=\"relu\")(x_out)\n",
    "x = Dense(units=32, activation=\"relu\")(x)\n",
    "x = Dense(units=1, activation=\"sigmoid\")(x)\n",
    "\n",
    "# Let's create the Keras model and prepare it for training\n",
    "model = Model(inputs=x_inp, outputs=x)\n",
    "model.compile(optimizer=Adam(0.005), loss=binary_crossentropy, metrics=[\"acc\"])"
   ]
  },
  {
   "cell_type": "code",
   "execution_count": 10,
   "metadata": {},
   "outputs": [
    {
     "name": "stdout",
     "output_type": "stream",
     "text": [
      "Model: \"model\"\n",
      "__________________________________________________________________________________________________\n",
      " Layer (type)                   Output Shape         Param #     Connected to                     \n",
      "==================================================================================================\n",
      " input_1 (InputLayer)           [(None, None, 4)]    0           []                               \n",
      "                                                                                                  \n",
      " dropout (Dropout)              (None, None, 4)      0           ['input_1[0][0]']                \n",
      "                                                                                                  \n",
      " input_3 (InputLayer)           [(None, None, None)  0           []                               \n",
      "                                ]                                                                 \n",
      "                                                                                                  \n",
      " graph_convolution (GraphConvol  (None, None, 128)   640         ['dropout[0][0]',                \n",
      " ution)                                                           'input_3[0][0]']                \n",
      "                                                                                                  \n",
      " dropout_1 (Dropout)            (None, None, 128)    0           ['graph_convolution[0][0]']      \n",
      "                                                                                                  \n",
      " graph_convolution_1 (GraphConv  (None, None, 64)    8256        ['dropout_1[0][0]',              \n",
      " olution)                                                         'input_3[0][0]']                \n",
      "                                                                                                  \n",
      " dropout_2 (Dropout)            (None, None, 64)     0           ['graph_convolution_1[0][0]']    \n",
      "                                                                                                  \n",
      " graph_convolution_2 (GraphConv  (None, None, 32)    2080        ['dropout_2[0][0]',              \n",
      " olution)                                                         'input_3[0][0]']                \n",
      "                                                                                                  \n",
      " input_2 (InputLayer)           [(None, None)]       0           []                               \n",
      "                                                                                                  \n",
      " global_average_pooling1d (Glob  (None, 32)          0           ['graph_convolution_2[0][0]',    \n",
      " alAveragePooling1D)                                              'input_2[0][0]']                \n",
      "                                                                                                  \n",
      " dense (Dense)                  (None, 64)           2112        ['global_average_pooling1d[0][0]'\n",
      "                                                                 ]                                \n",
      "                                                                                                  \n",
      " dense_1 (Dense)                (None, 32)           2080        ['dense[0][0]']                  \n",
      "                                                                                                  \n",
      " dense_2 (Dense)                (None, 1)            33          ['dense_1[0][0]']                \n",
      "                                                                                                  \n",
      "==================================================================================================\n",
      "Total params: 15,201\n",
      "Trainable params: 15,201\n",
      "Non-trainable params: 0\n",
      "__________________________________________________________________________________________________\n"
     ]
    }
   ],
   "source": [
    "model.summary()"
   ]
  },
  {
   "cell_type": "markdown",
   "metadata": {},
   "source": [
    "## Training\n",
    "\n",
    "Set the training parameters. I use early stopping on the validation loss."
   ]
  },
  {
   "cell_type": "code",
   "execution_count": 11,
   "metadata": {},
   "outputs": [],
   "source": [
    "epochs = 100 \n",
    "batch_size = 64\n",
    "early_stopping = EarlyStopping(\n",
    "    monitor=\"val_loss\", patience=15\n",
    ")"
   ]
  },
  {
   "cell_type": "markdown",
   "metadata": {},
   "source": [
    "Build Training and Validation and Test generators.\n",
    "I use 80\\% for training, 10\\% for validation and 10\\% for testing"
   ]
  },
  {
   "cell_type": "code",
   "execution_count": 12,
   "metadata": {},
   "outputs": [],
   "source": [
    "len_data = generator.graphs.shape[0]\n",
    "len_train = int(0.8*len_data)\n",
    "len_val = int(0.9*len_data)\n",
    "\n",
    "train_gen = generator.flow(\n",
    "    np.arange(len_train), targets=graph_labels.iloc[np.arange(len_train)].values, batch_size=batch_size\n",
    ")\n",
    "\n",
    "val_gen = generator.flow(\n",
    "    np.arange(len_train, len_val), targets=graph_labels.iloc[np.arange(len_train, len_val)].values, batch_size=batch_size\n",
    ")\n",
    "\n",
    "test_gen = generator.flow(\n",
    "    np.arange(len_val, len_data), targets=graph_labels.iloc[np.arange(len_val, len_data)].values, batch_size=batch_size\n",
    ")\n"
   ]
  },
  {
   "cell_type": "code",
   "execution_count": 13,
   "metadata": {},
   "outputs": [
    {
     "name": "stdout",
     "output_type": "stream",
     "text": [
      "Epoch 1/100\n",
      "WARNING:tensorflow:AutoGraph could not transform <function Model.make_train_function.<locals>.train_function at 0x7f8d620963b0> and will run it as-is.\n",
      "Please report this to the TensorFlow team. When filing the bug, set the verbosity to 10 (on Linux, `export AUTOGRAPH_VERBOSITY=10`) and attach the full output.\n",
      "Cause: 'arguments' object has no attribute 'posonlyargs'\n",
      "To silence this warning, decorate the function with @tf.autograph.experimental.do_not_convert\n",
      "WARNING: AutoGraph could not transform <function Model.make_train_function.<locals>.train_function at 0x7f8d620963b0> and will run it as-is.\n",
      "Please report this to the TensorFlow team. When filing the bug, set the verbosity to 10 (on Linux, `export AUTOGRAPH_VERBOSITY=10`) and attach the full output.\n",
      "Cause: 'arguments' object has no attribute 'posonlyargs'\n",
      "To silence this warning, decorate the function with @tf.autograph.experimental.do_not_convert\n",
      "125/125 [==============================] - ETA: 0s - loss: 0.6271 - acc: 0.6596WARNING:tensorflow:AutoGraph could not transform <function Model.make_test_function.<locals>.test_function at 0x7f8d614ace60> and will run it as-is.\n",
      "Please report this to the TensorFlow team. When filing the bug, set the verbosity to 10 (on Linux, `export AUTOGRAPH_VERBOSITY=10`) and attach the full output.\n",
      "Cause: 'arguments' object has no attribute 'posonlyargs'\n",
      "To silence this warning, decorate the function with @tf.autograph.experimental.do_not_convert\n",
      "WARNING: AutoGraph could not transform <function Model.make_test_function.<locals>.test_function at 0x7f8d614ace60> and will run it as-is.\n",
      "Please report this to the TensorFlow team. When filing the bug, set the verbosity to 10 (on Linux, `export AUTOGRAPH_VERBOSITY=10`) and attach the full output.\n",
      "Cause: 'arguments' object has no attribute 'posonlyargs'\n",
      "To silence this warning, decorate the function with @tf.autograph.experimental.do_not_convert\n",
      "125/125 [==============================] - 9s 66ms/step - loss: 0.6271 - acc: 0.6596 - val_loss: 0.5526 - val_acc: 0.7230\n",
      "Epoch 2/100\n",
      "125/125 [==============================] - 10s 79ms/step - loss: 0.5712 - acc: 0.7021 - val_loss: 0.5235 - val_acc: 0.7370\n",
      "Epoch 3/100\n",
      "125/125 [==============================] - 9s 75ms/step - loss: 0.5577 - acc: 0.7168 - val_loss: 0.5262 - val_acc: 0.7610\n",
      "Epoch 4/100\n",
      "125/125 [==============================] - 7s 60ms/step - loss: 0.5459 - acc: 0.7272 - val_loss: 0.5212 - val_acc: 0.7440\n",
      "Epoch 5/100\n",
      "125/125 [==============================] - 7s 58ms/step - loss: 0.5358 - acc: 0.7346 - val_loss: 0.5088 - val_acc: 0.7680\n",
      "Epoch 6/100\n",
      "125/125 [==============================] - 7s 59ms/step - loss: 0.5296 - acc: 0.7379 - val_loss: 0.4883 - val_acc: 0.7860\n",
      "Epoch 7/100\n",
      "125/125 [==============================] - 8s 64ms/step - loss: 0.5250 - acc: 0.7466 - val_loss: 0.5071 - val_acc: 0.7820\n",
      "Epoch 8/100\n",
      "125/125 [==============================] - 8s 63ms/step - loss: 0.5304 - acc: 0.7398 - val_loss: 0.5019 - val_acc: 0.7570\n",
      "Epoch 9/100\n",
      "125/125 [==============================] - 8s 62ms/step - loss: 0.5154 - acc: 0.7499 - val_loss: 0.4979 - val_acc: 0.7530\n",
      "Epoch 10/100\n",
      "125/125 [==============================] - 7s 59ms/step - loss: 0.5170 - acc: 0.7490 - val_loss: 0.4743 - val_acc: 0.7870\n",
      "Epoch 11/100\n",
      "125/125 [==============================] - 7s 58ms/step - loss: 0.5142 - acc: 0.7519 - val_loss: 0.4948 - val_acc: 0.7630\n",
      "Epoch 12/100\n",
      "125/125 [==============================] - 7s 59ms/step - loss: 0.5159 - acc: 0.7515 - val_loss: 0.4925 - val_acc: 0.7750\n",
      "Epoch 13/100\n",
      "125/125 [==============================] - 7s 58ms/step - loss: 0.5181 - acc: 0.7435 - val_loss: 0.5031 - val_acc: 0.7820\n",
      "Epoch 14/100\n",
      "125/125 [==============================] - 8s 61ms/step - loss: 0.5203 - acc: 0.7483 - val_loss: 0.5151 - val_acc: 0.7390\n",
      "Epoch 15/100\n",
      "125/125 [==============================] - 7s 59ms/step - loss: 0.5138 - acc: 0.7527 - val_loss: 0.4769 - val_acc: 0.7900\n",
      "Epoch 16/100\n",
      "125/125 [==============================] - 7s 57ms/step - loss: 0.5086 - acc: 0.7584 - val_loss: 0.4960 - val_acc: 0.7640\n",
      "Epoch 17/100\n",
      "125/125 [==============================] - 7s 58ms/step - loss: 0.5007 - acc: 0.7601 - val_loss: 0.4818 - val_acc: 0.7810\n",
      "Epoch 18/100\n",
      "125/125 [==============================] - 7s 58ms/step - loss: 0.5045 - acc: 0.7569 - val_loss: 0.4604 - val_acc: 0.7940\n",
      "Epoch 19/100\n",
      "125/125 [==============================] - 8s 61ms/step - loss: 0.5068 - acc: 0.7575 - val_loss: 0.4910 - val_acc: 0.7830\n",
      "Epoch 20/100\n",
      "125/125 [==============================] - 8s 62ms/step - loss: 0.4990 - acc: 0.7611 - val_loss: 0.4695 - val_acc: 0.7910\n",
      "Epoch 21/100\n",
      "125/125 [==============================] - 7s 59ms/step - loss: 0.5039 - acc: 0.7585 - val_loss: 0.4738 - val_acc: 0.7900\n",
      "Epoch 22/100\n",
      "125/125 [==============================] - 7s 59ms/step - loss: 0.4986 - acc: 0.7609 - val_loss: 0.4799 - val_acc: 0.7830\n",
      "Epoch 23/100\n",
      "125/125 [==============================] - 8s 61ms/step - loss: 0.4981 - acc: 0.7628 - val_loss: 0.4703 - val_acc: 0.7910\n",
      "Epoch 24/100\n",
      "125/125 [==============================] - 8s 61ms/step - loss: 0.4990 - acc: 0.7609 - val_loss: 0.4677 - val_acc: 0.7880\n",
      "Epoch 25/100\n",
      "125/125 [==============================] - 8s 64ms/step - loss: 0.4964 - acc: 0.7649 - val_loss: 0.4641 - val_acc: 0.7930\n",
      "Epoch 26/100\n",
      "125/125 [==============================] - 8s 67ms/step - loss: 0.5027 - acc: 0.7607 - val_loss: 0.4628 - val_acc: 0.7910\n",
      "Epoch 27/100\n",
      "125/125 [==============================] - 7s 59ms/step - loss: 0.4983 - acc: 0.7669 - val_loss: 0.4695 - val_acc: 0.7890\n",
      "Epoch 28/100\n",
      "125/125 [==============================] - 8s 61ms/step - loss: 0.5006 - acc: 0.7616 - val_loss: 0.4797 - val_acc: 0.7780\n",
      "Epoch 29/100\n",
      "125/125 [==============================] - 8s 61ms/step - loss: 0.4987 - acc: 0.7591 - val_loss: 0.4672 - val_acc: 0.7820\n",
      "Epoch 30/100\n",
      "125/125 [==============================] - 9s 69ms/step - loss: 0.4980 - acc: 0.7626 - val_loss: 0.4608 - val_acc: 0.7890\n",
      "Epoch 31/100\n",
      "125/125 [==============================] - 7s 60ms/step - loss: 0.4997 - acc: 0.7646 - val_loss: 0.4749 - val_acc: 0.7840\n",
      "Epoch 32/100\n",
      "125/125 [==============================] - 7s 58ms/step - loss: 0.4991 - acc: 0.7616 - val_loss: 0.4658 - val_acc: 0.7830\n",
      "Epoch 33/100\n",
      "125/125 [==============================] - 7s 59ms/step - loss: 0.4977 - acc: 0.7639 - val_loss: 0.4678 - val_acc: 0.7900\n"
     ]
    }
   ],
   "source": [
    "history = model.fit(\n",
    "        train_gen, epochs=epochs, callbacks=[early_stopping], validation_data=val_gen\n",
    "    )"
   ]
  },
  {
   "cell_type": "markdown",
   "metadata": {},
   "source": [
    "## Evaluation \n",
    "\n",
    "We can see the acc on the test set lies between 75\\% and 80\\%"
   ]
  },
  {
   "cell_type": "code",
   "execution_count": 14,
   "metadata": {},
   "outputs": [
    {
     "data": {
      "text/plain": [
       "0.7760000228881836"
      ]
     },
     "execution_count": 14,
     "metadata": {},
     "output_type": "execute_result"
    }
   ],
   "source": [
    "test_metrics = model.evaluate(test_gen, verbose=0)\n",
    "test_acc = test_metrics[model.metrics_names.index(\"acc\")]\n",
    "test_acc"
   ]
  },
  {
   "cell_type": "markdown",
   "metadata": {},
   "source": [
    "Training plots"
   ]
  },
  {
   "cell_type": "code",
   "execution_count": 15,
   "metadata": {},
   "outputs": [
    {
     "data": {
      "text/plain": [
       "<matplotlib.legend.Legend at 0x7f8d61634d90>"
      ]
     },
     "execution_count": 15,
     "metadata": {},
     "output_type": "execute_result"
    },
    {
     "data": {
      "image/png": "[encoded data removed]",
      "text/plain": [
       "<Figure size 432x288 with 1 Axes>"
      ]
     },
     "metadata": {
      "needs_background": "light"
     },
     "output_type": "display_data"
    }
   ],
   "source": [
    "plt.plot(history.history['acc'], label=\"training\")\n",
    "plt.plot(history.history['val_acc'], label=\"validation\")\n",
    "plt.xlabel(\"epch\")\n",
    "plt.ylabel(\"accuracy\")\n",
    "plt.legend()"
   ]
  },
  {
   "cell_type": "code",
   "execution_count": 16,
   "metadata": {},
   "outputs": [
    {
     "data": {
      "text/plain": [
       "<matplotlib.legend.Legend at 0x7f8d285a93d0>"
      ]
     },
     "execution_count": 16,
     "metadata": {},
     "output_type": "execute_result"
    },
    {
     "data": {
      "image/png": "[encoded data removed]",
      "text/plain": [
       "<Figure size 432x288 with 1 Axes>"
      ]
     },
     "metadata": {
      "needs_background": "light"
     },
     "output_type": "display_data"
    }
   ],
   "source": [
    "plt.plot(history.history['loss'], label=\"training\")\n",
    "plt.plot(history.history['val_loss'], label=\"validation\")\n",
    "plt.xlabel(\"epch\")\n",
    "plt.ylabel(\"loss\")\n",
    "plt.legend()"
   ]
  },
  {
   "cell_type": "markdown",
   "metadata": {},
   "source": [
    "Calculate AUC"
   ]
  },
  {
   "cell_type": "code",
   "execution_count": 17,
   "metadata": {},
   "outputs": [
    {
     "name": "stdout",
     "output_type": "stream",
     "text": [
      "WARNING:tensorflow:AutoGraph could not transform <function Model.make_predict_function.<locals>.predict_function at 0x7f8d2856be60> and will run it as-is.\n",
      "Please report this to the TensorFlow team. When filing the bug, set the verbosity to 10 (on Linux, `export AUTOGRAPH_VERBOSITY=10`) and attach the full output.\n",
      "Cause: 'arguments' object has no attribute 'posonlyargs'\n",
      "To silence this warning, decorate the function with @tf.autograph.experimental.do_not_convert\n",
      "WARNING: AutoGraph could not transform <function Model.make_predict_function.<locals>.predict_function at 0x7f8d2856be60> and will run it as-is.\n",
      "Please report this to the TensorFlow team. When filing the bug, set the verbosity to 10 (on Linux, `export AUTOGRAPH_VERBOSITY=10`) and attach the full output.\n",
      "Cause: 'arguments' object has no attribute 'posonlyargs'\n",
      "To silence this warning, decorate the function with @tf.autograph.experimental.do_not_convert\n"
     ]
    },
    {
     "name": "stderr",
     "output_type": "stream",
     "text": [
      "/home/tom/anaconda3/lib/python3.7/site-packages/ipykernel_launcher.py:1: UserWarning: `Model.predict_generator` is deprecated and will be removed in a future version. Please use `Model.predict`, which supports generators.\n",
      "  \"\"\"Entry point for launching an IPython kernel.\n"
     ]
    },
    {
     "data": {
      "image/png": "[encoded data removed]",
      "text/plain": [
       "<Figure size 432x288 with 1 Axes>"
      ]
     },
     "metadata": {
      "needs_background": "light"
     },
     "output_type": "display_data"
    }
   ],
   "source": [
    "y_val_cat_prob = model.predict_generator(test_gen)\n",
    "from sklearn.metrics import roc_curve,roc_auc_score\n",
    "\n",
    "fpr , tpr , thresholds = roc_curve (graph_labels.iloc[np.arange(len_val, len_data)].values, y_val_cat_prob)\n",
    "\n",
    "plt.plot(fpr,tpr) \n",
    "plt.axis([0,1,0,1]) \n",
    "plt.xlabel('False Positive Rate') \n",
    "plt.ylabel('True Positive Rate') \n",
    "plt.show()"
   ]
  },
  {
   "cell_type": "markdown",
   "metadata": {},
   "source": [
    "The AUC reaches 85\\%"
   ]
  },
  {
   "cell_type": "code",
   "execution_count": 19,
   "metadata": {},
   "outputs": [
    {
     "data": {
      "text/plain": [
       "0.8520308973788536"
      ]
     },
     "execution_count": 19,
     "metadata": {},
     "output_type": "execute_result"
    }
   ],
   "source": [
    "auc_score = roc_auc_score(graph_labels.iloc[np.arange(len_val, len_data)].values, y_val_cat_prob)  \n",
    "auc_score"
   ]
  },
  {
   "cell_type": "markdown",
   "metadata": {},
   "source": [
    "# Method 2: EdgeConv\n",
    "\n",
    "For the second method I searched through the literature for methods to map point data to graphs, to compare the GCN approach to a state of the art method for such a problem.  \n",
    "I decided to try EdgeConv from 1801.07829. \n",
    "\n",
    "As coordinates of a single jet i use the rapidity and the azimuthal angle (extrinsic features)\n",
    "The pt and particle Id are node features (intrinsic features)."
   ]
  },
  {
   "cell_type": "markdown",
   "metadata": {},
   "source": [
    "## Data"
   ]
  },
  {
   "cell_type": "markdown",
   "metadata": {},
   "source": [
    "I again load the data from multiple files in the directory.\n",
    "This time I just load all the data into one array.  \n",
    "This might be improved by using generators.  \n",
    "\n",
    "As the data in different files has different sizes due to different maximal jet multiplicites I use some fiddeling to always scale the array for the whole data to the size of the largest multiplicity among the different files."
   ]
  },
  {
   "cell_type": "code",
   "execution_count": 3,
   "metadata": {},
   "outputs": [],
   "source": [
    "MAX_FILES = 3\n",
    "FILE_EVENTS = 10000\n",
    "\n",
    "def load_field(field):\n",
    "    data = np.load(\"jet_data/\"+f[0])[field]\n",
    "    max_multiplicity = data.shape[1]\n",
    "    #combined_data = np.array([np.load(\"jet_data/\"+fname)[field] for fname in f[:8]])\n",
    "    for fs in f[1:MAX_FILES]:\n",
    "        data_tmp = np.load(\"jet_data/\"+fs)[field]\n",
    "        multiplicity = data_tmp.shape[1]\n",
    "        print(fs,\": \", data.shape, \" - Max_mulit: \", max_multiplicity, \" - mult: \", multiplicity)\n",
    "        if max_multiplicity < multiplicity:\n",
    "            max_multiplicity = multiplicity\n",
    "            data = np.concatenate([data, np.zeros((data.shape[0],multiplicity - data.shape[1],data.shape[2]))],axis=1)\n",
    "            data = np.concatenate([data,data_tmp],axis=0)\n",
    "        else:\n",
    "            data_tmp = np.concatenate([data_tmp, np.zeros((data_tmp.shape[0],max_multiplicity - data_tmp.shape[1],data_tmp.shape[2]))],axis=1)\n",
    "            data = np.concatenate([data,data_tmp],axis=0)\n",
    "        \n",
    "    return data"
   ]
  },
  {
   "cell_type": "code",
   "execution_count": 4,
   "metadata": {},
   "outputs": [
    {
     "name": "stdout",
     "output_type": "stream",
     "text": [
      "QG_jets_16.npz :  (100000, 139, 4)  - Max_mulit:  139  - mult:  136\n",
      "QG_jets_13.npz :  (200000, 139, 4)  - Max_mulit:  139  - mult:  148\n",
      "y:  (300000,)\n",
      "X_train:  (237600, 148, 4)\n",
      "X_val:  (32400, 148, 4)\n",
      "X_test:  (30000, 148, 4)\n",
      "y_train:  (237600,)\n",
      "y_val:  (32400,)\n",
      "y_test:  (30000,)\n",
      "feature shape:  (148, 4)\n"
     ]
    }
   ],
   "source": [
    "X = load_field('X')\n",
    "y = np.concatenate([np.load(\"jet_data/\"+fs)['y'] for fs in f[:MAX_FILES]])\n",
    "\n",
    "print(\"y: \", y.shape)\n",
    "\n",
    "X_train, X_test, y_train, y_test = train_test_split(X, y, test_size=0.1, shuffle=True)\n",
    "X_train, X_val, y_train, y_val = train_test_split(X_train, y_train, test_size=0.12)\n",
    "\n",
    "print(\"X_train: \", X_train.shape)\n",
    "print(\"X_val: \", X_val.shape)\n",
    "print(\"X_test: \", X_test.shape)\n",
    "print(\"y_train: \", y_train.shape)\n",
    "print(\"y_val: \", y_val.shape)\n",
    "print(\"y_test: \", y_test.shape)\n",
    "\n",
    "print(\"feature shape: \", X_train[0].shape)"
   ]
  },
  {
   "cell_type": "markdown",
   "metadata": {},
   "source": [
    "## Model\n",
    "\n",
    "For the Model I use the EdgeConv from 1801.07829.\n",
    "I found an implementation for The EdgeConv Layer here https://git.rwth-aachen.de/niklas.langner/edgeconv_keras/-/tree/master, which I will be using in the following."
   ]
  },
  {
   "cell_type": "code",
   "execution_count": 5,
   "metadata": {},
   "outputs": [],
   "source": [
    "class SplitLayer(lay.Layer):\n",
    "    \"\"\" Custom layer: split layer along specific axis.\n",
    "    eg. split (1,9) into 9 x (1,1)\n",
    "\n",
    "    Parameters\n",
    "    ----------\n",
    "    n_splits : int\n",
    "        number of splits\n",
    "    split_axis : int\n",
    "        axis where to split tensor\n",
    "    **kwargs : type\n",
    "        Description of parameter `**kwargs`.\n",
    "\n",
    "    Attributes\n",
    "    ----------\n",
    "    n_splits\n",
    "    split_axis\n",
    "\n",
    "    \"\"\"\n",
    "\n",
    "    def __init__(self, n_splits=12, split_axis=-1, **kwargs):\n",
    "        self.n_splits = n_splits\n",
    "        self.split_axis = split_axis\n",
    "        super(SplitLayer, self).__init__(**kwargs)\n",
    "\n",
    "    def get_config(self):\n",
    "        config = {'n_splits': self.n_splits,\n",
    "                  'split_axis': self.split_axis}\n",
    "        base_config = super(SplitLayer, self).get_config()\n",
    "        return dict(list(base_config.items()) + list(config.items()))\n",
    "\n",
    "    def call(self, x):\n",
    "        ''' return array of splitted tensors '''\n",
    "        sub_tensors = tf.split(x, self.n_splits, axis=self.split_axis)\n",
    "        return sub_tensors\n",
    "\n",
    "    def compute_output_shape(self, input_shape):\n",
    "        sub_tensor_shape = list(input_shape)\n",
    "        num_channels = sub_tensor_shape[self.split_axis]\n",
    "        sub_tensor_shape[self.split_axis] = int(num_channels / self.n_splits)\n",
    "        sub_tensor_shape = tuple(sub_tensor_shape)\n",
    "        list_of_output_shape = [sub_tensor_shape] * self.n_splits\n",
    "        return list_of_output_shape\n",
    "\n",
    "    def compute_mask(self, inputs, mask=None):\n",
    "        return self.n_splits * [None]\n",
    "\n",
    "\n",
    "class EdgeConv(lay.Layer):\n",
    "    '''\n",
    "    Keras layer implementation of EdgeConv.\n",
    "    # Arguments\n",
    "        kernel_func: h-function applied on the points and it's k nearest neighbors. The function should take a list\n",
    "            of two tensors. The first tensor is the vector v_i of the central point, the second tensor is the vector\n",
    "            of one of its neighbors v_j.\n",
    "            :param list: [v_i, v_j] with v_i and v_j being Keras tensors with shape (C_f, ).\n",
    "            :return: Keras tensor of shape (C', ).\n",
    "        next_neighbors: number k of nearest neighbors to consider\n",
    "        agg_func: Aggregation function applied after h. Must take argument \"axis=2\" to\n",
    "            aggregate over all neighbors.\n",
    "    # Input shape\n",
    "        List of two tensors [points, features] with shape:\n",
    "        `[(batch, P, C_p), (batch, P, C_f)]`.\n",
    "        or tensor with shape:\n",
    "        `(batch, P, C)`\n",
    "        if points (coordinates) and features are supposed to be the same.\n",
    "    # Output shape\n",
    "        Tensor with shape:\n",
    "        `(batch, P, C_h)`\n",
    "        with C_h being the output dimension of the h-function.\n",
    "    '''\n",
    "\n",
    "    def __init__(self, kernel_func, next_neighbors, agg_func=keras.backend.mean, **kwargs):\n",
    "        self.kernel_func = kernel_func\n",
    "        self.next_neighbors = next_neighbors\n",
    "        self.agg_func = agg_func\n",
    "        if type(agg_func) == str:\n",
    "            raise ValueError(\"No such agg_func '%s'. When loading the model specify the agg_func '%s' via custom_objects\" % (agg_func, agg_func))\n",
    "        super(EdgeConv, self).__init__(**kwargs)\n",
    "\n",
    "    def get_config(self):\n",
    "        config = {'next_neighbors': self.next_neighbors,\n",
    "                  'kernel_func': self.kernel_func,\n",
    "                  'agg_func': self.agg_func}\n",
    "        base_config = super(EdgeConv, self).get_config()\n",
    "        return dict(list(base_config.items()) + list(config.items()))\n",
    "\n",
    "    def build(self, input_shape):\n",
    "        # Create a trainable weight variable for this layer.\n",
    "        try:\n",
    "            p_shape, f_shape = input_shape\n",
    "        except ValueError:\n",
    "            f_shape = input_shape\n",
    "\n",
    "        if type(self.kernel_func) != keras.models.Model:  # for not wrapping model around model when loading model\n",
    "            x = lay.Input((f_shape.as_list()[-1] * 2,))\n",
    "            a = lay.Reshape((2, f_shape.as_list()[-1]))(x)\n",
    "            x1, x2 = SplitLayer(n_splits=2, split_axis=-2)(a)  # (2, C)\n",
    "            x1 = lay.Reshape((f_shape.as_list()[-1],))(x1)\n",
    "            x2 = lay.Reshape((f_shape.as_list()[-1],))(x2)\n",
    "            y = self.kernel_func([x1, x2])\n",
    "            self.kernel_func = keras.models.Model(x, y)\n",
    "\n",
    "        super(EdgeConv, self).build(input_shape)  # Be sure to call this at the end\n",
    "\n",
    "    def call(self, x):\n",
    "        try:\n",
    "            points, features = x\n",
    "        except TypeError:\n",
    "            points = features = x\n",
    "\n",
    "        # distance\n",
    "        D = batch_distance_matrix_general(points, points)  # (N, P, P)\n",
    "        _, indices = tf.nn.top_k(-D, k=self.next_neighbors + 1)  # (N, P, K+1)\n",
    "        indices = indices[:, :, 1:]  # (N, P, K) remove self connection\n",
    "        knn_fts = knn(indices, features)  # (N, P, K, C)\n",
    "        knn_fts_center = tf.tile(tf.expand_dims(features, axis=2), (1, 1, self.next_neighbors, 1))  # (N, P, K, C)\n",
    "        knn_fts = tf.concat([knn_fts_center, knn_fts], axis=-1)  # (N, P, K, 2*C)\n",
    "        res = lay.TimeDistributed(lay.TimeDistributed(self.kernel_func))(knn_fts)  # (N, P, K, C')\n",
    "        # aggregation\n",
    "        agg = self.agg_func(res, axis=2)  # (N, P, C')\n",
    "        return agg\n",
    "\n",
    "    def compute_output_shape(self, input_shape):\n",
    "        self.output_shape = self.kernel_func.get_output_shape_at(-1)\n",
    "        return self.output_shape\n",
    "\n",
    "\n",
    "def batch_distance_matrix_general(A, B):\n",
    "    ''' Calculate elements-wise distance between entries in two tensors '''\n",
    "    with tf.name_scope('dmat'):\n",
    "        r_A = tf.reduce_sum(A * A, axis=2, keepdims=True)\n",
    "        r_B = tf.reduce_sum(B * B, axis=2, keepdims=True)\n",
    "        m = tf.matmul(A, tf.transpose(B, perm=(0, 2, 1)))\n",
    "        D = r_A - 2 * m + tf.transpose(r_B, perm=(0, 2, 1))\n",
    "        return D\n",
    "\n",
    "\n",
    "def knn(topk_indices, features):\n",
    "    # topk_indices: (N, P, K)\n",
    "    # features: (N, P, C)\n",
    "    # return: (N, P, K, C)\n",
    "    with tf.name_scope('knn'):\n",
    "        k = tf.shape(topk_indices)[-1]\n",
    "        num_points = tf.shape(features)[-2]\n",
    "        queries_shape = tf.shape(features)\n",
    "        batch_size = queries_shape[0]\n",
    "        batch_indices = tf.tile(tf.reshape(tf.range(batch_size), (-1, 1, 1, 1)), (1, num_points, k, 1))\n",
    "        indices = tf.concat([batch_indices, tf.expand_dims(topk_indices, axis=3)], axis=3)  # (N, P, K, 2)\n",
    "        return tf.gather_nd(features, indices)"
   ]
  },
  {
   "cell_type": "markdown",
   "metadata": {},
   "source": [
    "Choice of kernel function  \n",
    "Number of dense units adjusted to get approximately 15k parameters for the whole model"
   ]
  },
  {
   "cell_type": "code",
   "execution_count": 6,
   "metadata": {},
   "outputs": [],
   "source": [
    "def f(data):\n",
    "    d1, d2 = data\n",
    "    dif = lay.Subtract()([d1, d2])\n",
    "    x = lay.Concatenate(axis=-1)([d1, dif])\n",
    "    x = lay.Dense(64)(x)\n",
    "    x = lay.Dense(32)(x)\n",
    "    return x"
   ]
  },
  {
   "cell_type": "markdown",
   "metadata": {},
   "source": [
    "Build model.\n",
    "For the architecture I choose ....\n",
    "\n",
    "In contrast to 1801.07829 and the implementation https://git.rwth-aachen.de/niklas.langner/edgeconv_keras/-/tree/master, I feed the output of the edgeconv layer into a global averagepooling, which in turn goes into dense layers, where the last layer only has one node for classification"
   ]
  },
  {
   "cell_type": "code",
   "execution_count": 7,
   "metadata": {},
   "outputs": [
    {
     "name": "stdout",
     "output_type": "stream",
     "text": [
      "WARNING:tensorflow:AutoGraph could not transform <bound method SplitLayer.call of <__main__.SplitLayer object at 0x7f328c256c90>> and will run it as-is.\n",
      "Please report this to the TensorFlow team. When filing the bug, set the verbosity to 10 (on Linux, `export AUTOGRAPH_VERBOSITY=10`) and attach the full output.\n",
      "Cause: 'arguments' object has no attribute 'posonlyargs'\n",
      "To silence this warning, decorate the function with @tf.autograph.experimental.do_not_convert\n",
      "WARNING: AutoGraph could not transform <bound method SplitLayer.call of <__main__.SplitLayer object at 0x7f328c256c90>> and will run it as-is.\n",
      "Please report this to the TensorFlow team. When filing the bug, set the verbosity to 10 (on Linux, `export AUTOGRAPH_VERBOSITY=10`) and attach the full output.\n",
      "Cause: 'arguments' object has no attribute 'posonlyargs'\n",
      "To silence this warning, decorate the function with @tf.autograph.experimental.do_not_convert\n",
      "WARNING:tensorflow:AutoGraph could not transform <bound method EdgeConv.call of <__main__.EdgeConv object at 0x7f328c2bab10>> and will run it as-is.\n",
      "Please report this to the TensorFlow team. When filing the bug, set the verbosity to 10 (on Linux, `export AUTOGRAPH_VERBOSITY=10`) and attach the full output.\n",
      "Cause: module 'gast' has no attribute 'Constant'\n",
      "To silence this warning, decorate the function with @tf.autograph.experimental.do_not_convert\n",
      "WARNING: AutoGraph could not transform <bound method EdgeConv.call of <__main__.EdgeConv object at 0x7f328c2bab10>> and will run it as-is.\n",
      "Please report this to the TensorFlow team. When filing the bug, set the verbosity to 10 (on Linux, `export AUTOGRAPH_VERBOSITY=10`) and attach the full output.\n",
      "Cause: module 'gast' has no attribute 'Constant'\n",
      "To silence this warning, decorate the function with @tf.autograph.experimental.do_not_convert\n",
      "Model: \"model\"\n",
      "__________________________________________________________________________________________________\n",
      " Layer (type)                   Output Shape         Param #     Connected to                     \n",
      "==================================================================================================\n",
      " input_1 (InputLayer)           [(None, 148, 2)]     0           []                               \n",
      "                                                                                                  \n",
      " input_2 (InputLayer)           [(None, 148, 2)]     0           []                               \n",
      "                                                                                                  \n",
      " edge_conv (EdgeConv)           (None, 148, 32)      2400        ['input_1[0][0]',                \n",
      "                                                                  'input_2[0][0]']                \n",
      "                                                                                                  \n",
      " edge_conv_1 (EdgeConv)         (None, 148, 32)      6240        ['edge_conv[0][0]']              \n",
      "                                                                                                  \n",
      " edge_conv_2 (EdgeConv)         (None, 148, 32)      6240        ['edge_conv_1[0][0]']            \n",
      "                                                                                                  \n",
      " global_average_pooling1d (Glob  (None, 32)          0           ['edge_conv_2[0][0]']            \n",
      " alAveragePooling1D)                                                                              \n",
      "                                                                                                  \n",
      " dense_1 (Dense)                (None, 32)           1056        ['global_average_pooling1d[0][0]'\n",
      "                                                                 ]                                \n",
      "                                                                                                  \n",
      " dense_2 (Dense)                (None, 1)            33          ['dense_1[0][0]']                \n",
      "                                                                                                  \n",
      "==================================================================================================\n",
      "Total params: 15,969\n",
      "Trainable params: 15,969\n",
      "Non-trainable params: 0\n",
      "__________________________________________________________________________________________________\n"
     ]
    }
   ],
   "source": [
    "points = lay.Input((X_train.shape[1],2))\n",
    "feats = lay.Input((X_train.shape[1],2))\n",
    "a = EdgeConv(f, next_neighbors=3)([points, feats])\n",
    "y = EdgeConv(f, next_neighbors=3)(a)\n",
    "oute = EdgeConv(f, next_neighbors=3)(y)\n",
    "pool = lay.GlobalAveragePooling1D()(oute)\n",
    "x = lay.Dense(64)(pool)\n",
    "x = lay.Dense(32)(pool)\n",
    "out = lay.Dense(1, activation=\"sigmoid\")(x)\n",
    "\n",
    "model = keras.models.Model([points, feats], out)\n",
    "model.summary()"
   ]
  },
  {
   "cell_type": "markdown",
   "metadata": {},
   "source": [
    "## Training\n",
    "\n",
    "For training I again use adam and binarycrossentropy.  \n",
    "Input for the model:   \n",
    "point coordinates: rapidity and azimuthal angle: second and third features  \n",
    "point features: pt and particle id: first and last features"
   ]
  },
  {
   "cell_type": "code",
   "execution_count": 8,
   "metadata": {},
   "outputs": [
    {
     "name": "stderr",
     "output_type": "stream",
     "text": [
      "/home/tom/anaconda3/lib/python3.7/site-packages/keras/optimizer_v2/adam.py:105: UserWarning: The `lr` argument is deprecated, use `learning_rate` instead.\n",
      "  super(Adam, self).__init__(name, **kwargs)\n"
     ]
    },
    {
     "name": "stdout",
     "output_type": "stream",
     "text": [
      "Epoch 1/100\n",
      "WARNING:tensorflow:AutoGraph could not transform <function Model.make_train_function.<locals>.train_function at 0x7f329b6d0e60> and will run it as-is.\n",
      "Please report this to the TensorFlow team. When filing the bug, set the verbosity to 10 (on Linux, `export AUTOGRAPH_VERBOSITY=10`) and attach the full output.\n",
      "Cause: 'arguments' object has no attribute 'posonlyargs'\n",
      "To silence this warning, decorate the function with @tf.autograph.experimental.do_not_convert\n",
      "WARNING: AutoGraph could not transform <function Model.make_train_function.<locals>.train_function at 0x7f329b6d0e60> and will run it as-is.\n",
      "Please report this to the TensorFlow team. When filing the bug, set the verbosity to 10 (on Linux, `export AUTOGRAPH_VERBOSITY=10`) and attach the full output.\n",
      "Cause: 'arguments' object has no attribute 'posonlyargs'\n",
      "To silence this warning, decorate the function with @tf.autograph.experimental.do_not_convert\n",
      "3713/3713 [==============================] - ETA: 0s - loss: 0.5957 - binary_accuracy: 0.6871WARNING:tensorflow:AutoGraph could not transform <function Model.make_test_function.<locals>.test_function at 0x7f328e3a1ef0> and will run it as-is.\n",
      "Please report this to the TensorFlow team. When filing the bug, set the verbosity to 10 (on Linux, `export AUTOGRAPH_VERBOSITY=10`) and attach the full output.\n",
      "Cause: 'arguments' object has no attribute 'posonlyargs'\n",
      "To silence this warning, decorate the function with @tf.autograph.experimental.do_not_convert\n",
      "WARNING: AutoGraph could not transform <function Model.make_test_function.<locals>.test_function at 0x7f328e3a1ef0> and will run it as-is.\n",
      "Please report this to the TensorFlow team. When filing the bug, set the verbosity to 10 (on Linux, `export AUTOGRAPH_VERBOSITY=10`) and attach the full output.\n",
      "Cause: 'arguments' object has no attribute 'posonlyargs'\n",
      "To silence this warning, decorate the function with @tf.autograph.experimental.do_not_convert\n",
      "3713/3713 [==============================] - 388s 104ms/step - loss: 0.5957 - binary_accuracy: 0.6871 - val_loss: 0.5814 - val_binary_accuracy: 0.6993\n",
      "Epoch 2/100\n",
      "3713/3713 [==============================] - 382s 103ms/step - loss: 0.5856 - binary_accuracy: 0.6953 - val_loss: 0.5916 - val_binary_accuracy: 0.6949\n",
      "Epoch 3/100\n",
      "3713/3713 [==============================] - 383s 103ms/step - loss: 0.5830 - binary_accuracy: 0.6965 - val_loss: 0.5869 - val_binary_accuracy: 0.6942\n",
      "Epoch 4/100\n",
      "3713/3713 [==============================] - 385s 104ms/step - loss: 0.5834 - binary_accuracy: 0.6975 - val_loss: 0.5839 - val_binary_accuracy: 0.6935\n",
      "Epoch 5/100\n",
      "3713/3713 [==============================] - 390s 105ms/step - loss: 0.5819 - binary_accuracy: 0.6989 - val_loss: 0.5819 - val_binary_accuracy: 0.6978\n",
      "Epoch 6/100\n",
      "3713/3713 [==============================] - 395s 106ms/step - loss: 0.5819 - binary_accuracy: 0.6984 - val_loss: 0.5872 - val_binary_accuracy: 0.6922\n",
      "Epoch 7/100\n",
      "3713/3713 [==============================] - 398s 107ms/step - loss: 0.5810 - binary_accuracy: 0.6992 - val_loss: 0.5835 - val_binary_accuracy: 0.6968\n",
      "Epoch 8/100\n",
      "3713/3713 [==============================] - 388s 105ms/step - loss: 0.5813 - binary_accuracy: 0.6987 - val_loss: 0.5789 - val_binary_accuracy: 0.7001\n",
      "Epoch 9/100\n",
      "3713/3713 [==============================] - 390s 105ms/step - loss: 0.5809 - binary_accuracy: 0.6985 - val_loss: 0.5815 - val_binary_accuracy: 0.6985\n",
      "Epoch 10/100\n",
      "3713/3713 [==============================] - 390s 105ms/step - loss: 0.5810 - binary_accuracy: 0.6992 - val_loss: 0.5825 - val_binary_accuracy: 0.6950\n",
      "Epoch 11/100\n",
      "3713/3713 [==============================] - 391s 105ms/step - loss: 0.5805 - binary_accuracy: 0.6991 - val_loss: 0.5810 - val_binary_accuracy: 0.6985\n",
      "Epoch 12/100\n",
      "3713/3713 [==============================] - 391s 105ms/step - loss: 0.5794 - binary_accuracy: 0.6993 - val_loss: 0.5835 - val_binary_accuracy: 0.6994\n",
      "Epoch 13/100\n",
      "3713/3713 [==============================] - 393s 106ms/step - loss: 0.5812 - binary_accuracy: 0.6983 - val_loss: 0.5809 - val_binary_accuracy: 0.6983\n",
      "Epoch 14/100\n",
      "3713/3713 [==============================] - 434s 117ms/step - loss: 0.5802 - binary_accuracy: 0.6990 - val_loss: 0.5780 - val_binary_accuracy: 0.7007\n",
      "Epoch 15/100\n",
      "3713/3713 [==============================] - 434s 117ms/step - loss: 0.5803 - binary_accuracy: 0.6985 - val_loss: 0.5802 - val_binary_accuracy: 0.6998\n",
      "Epoch 16/100\n",
      "3713/3713 [==============================] - 434s 117ms/step - loss: 0.5800 - binary_accuracy: 0.6995 - val_loss: 0.5794 - val_binary_accuracy: 0.6969\n",
      "Epoch 17/100\n",
      "3713/3713 [==============================] - 434s 117ms/step - loss: 0.5803 - binary_accuracy: 0.6995 - val_loss: 0.5819 - val_binary_accuracy: 0.6969\n",
      "Epoch 18/100\n",
      "3713/3713 [==============================] - 435s 117ms/step - loss: 0.5819 - binary_accuracy: 0.6982 - val_loss: 0.5752 - val_binary_accuracy: 0.7025\n",
      "Epoch 19/100\n",
      "3713/3713 [==============================] - 434s 117ms/step - loss: 0.5833 - binary_accuracy: 0.6981 - val_loss: 0.5803 - val_binary_accuracy: 0.6990\n",
      "Epoch 20/100\n",
      "3713/3713 [==============================] - 434s 117ms/step - loss: 0.5791 - binary_accuracy: 0.7003 - val_loss: 0.5857 - val_binary_accuracy: 0.6995\n",
      "Epoch 21/100\n",
      "3713/3713 [==============================] - 434s 117ms/step - loss: 0.5794 - binary_accuracy: 0.6994 - val_loss: 0.5876 - val_binary_accuracy: 0.6970\n",
      "Epoch 22/100\n",
      "3713/3713 [==============================] - 437s 118ms/step - loss: 0.5805 - binary_accuracy: 0.6989 - val_loss: 0.5796 - val_binary_accuracy: 0.6978\n",
      "Epoch 23/100\n",
      "3713/3713 [==============================] - 435s 117ms/step - loss: 0.5794 - binary_accuracy: 0.6998 - val_loss: 0.5764 - val_binary_accuracy: 0.6991\n",
      "Epoch 24/100\n",
      "3713/3713 [==============================] - 434s 117ms/step - loss: 0.5802 - binary_accuracy: 0.6986 - val_loss: 0.5827 - val_binary_accuracy: 0.6950\n",
      "Epoch 25/100\n",
      "3713/3713 [==============================] - 436s 117ms/step - loss: 0.5806 - binary_accuracy: 0.6987 - val_loss: 0.5836 - val_binary_accuracy: 0.6969\n",
      "Epoch 26/100\n",
      "3713/3713 [==============================] - 436s 117ms/step - loss: 0.5805 - binary_accuracy: 0.6984 - val_loss: 0.5791 - val_binary_accuracy: 0.7010\n",
      "Epoch 27/100\n",
      "3713/3713 [==============================] - 436s 117ms/step - loss: 0.5790 - binary_accuracy: 0.6997 - val_loss: 0.5862 - val_binary_accuracy: 0.6928\n",
      "Epoch 28/100\n",
      "3713/3713 [==============================] - 436s 117ms/step - loss: 0.5824 - binary_accuracy: 0.6982 - val_loss: 0.5894 - val_binary_accuracy: 0.6916\n",
      "Epoch 29/100\n",
      "3713/3713 [==============================] - 436s 117ms/step - loss: 0.5788 - binary_accuracy: 0.7004 - val_loss: 0.5819 - val_binary_accuracy: 0.6968\n",
      "Epoch 30/100\n",
      "3713/3713 [==============================] - 436s 117ms/step - loss: 0.5803 - binary_accuracy: 0.6992 - val_loss: 0.5792 - val_binary_accuracy: 0.6991\n",
      "Epoch 31/100\n",
      "3713/3713 [==============================] - 436s 118ms/step - loss: 0.5797 - binary_accuracy: 0.6991 - val_loss: 0.5792 - val_binary_accuracy: 0.7015\n",
      "Epoch 32/100\n",
      "3713/3713 [==============================] - 435s 117ms/step - loss: 0.5806 - binary_accuracy: 0.6986 - val_loss: 0.5820 - val_binary_accuracy: 0.6963\n",
      "Epoch 33/100\n",
      "3713/3713 [==============================] - 437s 118ms/step - loss: 0.5798 - binary_accuracy: 0.7000 - val_loss: 0.5945 - val_binary_accuracy: 0.6973\n"
     ]
    }
   ],
   "source": [
    "model.compile(loss=keras.losses.BinaryCrossentropy(),\n",
    "              optimizer=keras.optimizers.Adam(lr=0.005), \n",
    "              metrics=[keras.metrics.BinaryAccuracy()])\n",
    "\n",
    "early_stopping = EarlyStopping(\n",
    "    monitor=\"val_loss\", patience=15\n",
    ")\n",
    "hist = model.fit([X_train[:,:,1:3], X_train[:,:,[0,3]]], y_train, batch_size=64, epochs=100, \n",
    "                 validation_data=([X_val[:,:,1:3],X_val[:,:,[0,3]]],y_val), callbacks=[early_stopping])"
   ]
  },
  {
   "cell_type": "code",
   "execution_count": null,
   "metadata": {},
   "outputs": [],
   "source": [
    "# Evaluation"
   ]
  },
  {
   "cell_type": "code",
   "execution_count": 9,
   "metadata": {},
   "outputs": [
    {
     "data": {
      "text/plain": [
       "<matplotlib.legend.Legend at 0x7f32857142d0>"
      ]
     },
     "execution_count": 9,
     "metadata": {},
     "output_type": "execute_result"
    },
    {
     "data": {
      "image/png": "[encoded data removed]",
      "text/plain": [
       "<Figure size 432x288 with 1 Axes>"
      ]
     },
     "metadata": {
      "needs_background": "light"
     },
     "output_type": "display_data"
    }
   ],
   "source": [
    "plt.plot(hist.history['binary_accuracy'], label=\"training\")\n",
    "plt.plot(hist.history['val_binary_accuracy'], label=\"validation\")\n",
    "plt.legend()"
   ]
  },
  {
   "cell_type": "code",
   "execution_count": 10,
   "metadata": {},
   "outputs": [
    {
     "data": {
      "text/plain": [
       "<matplotlib.legend.Legend at 0x7f328560a590>"
      ]
     },
     "execution_count": 10,
     "metadata": {},
     "output_type": "execute_result"
    },
    {
     "data": {
      "image/png": "[encoded data removed]",
      "text/plain": [
       "<Figure size 432x288 with 1 Axes>"
      ]
     },
     "metadata": {
      "needs_background": "light"
     },
     "output_type": "display_data"
    }
   ],
   "source": [
    "plt.plot(hist.history['loss'], label=\"training\")\n",
    "plt.plot(hist.history['val_loss'], label=\"validation\")\n",
    "plt.legend()"
   ]
  },
  {
   "cell_type": "code",
   "execution_count": 11,
   "metadata": {},
   "outputs": [
    {
     "name": "stdout",
     "output_type": "stream",
     "text": [
      "WARNING:tensorflow:AutoGraph could not transform <function Model.make_predict_function.<locals>.predict_function at 0x7f328562f560> and will run it as-is.\n",
      "Please report this to the TensorFlow team. When filing the bug, set the verbosity to 10 (on Linux, `export AUTOGRAPH_VERBOSITY=10`) and attach the full output.\n",
      "Cause: 'arguments' object has no attribute 'posonlyargs'\n",
      "To silence this warning, decorate the function with @tf.autograph.experimental.do_not_convert\n",
      "WARNING: AutoGraph could not transform <function Model.make_predict_function.<locals>.predict_function at 0x7f328562f560> and will run it as-is.\n",
      "Please report this to the TensorFlow team. When filing the bug, set the verbosity to 10 (on Linux, `export AUTOGRAPH_VERBOSITY=10`) and attach the full output.\n",
      "Cause: 'arguments' object has no attribute 'posonlyargs'\n",
      "To silence this warning, decorate the function with @tf.autograph.experimental.do_not_convert\n"
     ]
    },
    {
     "data": {
      "image/png": "[encoded data removed]",
      "text/plain": [
       "<Figure size 432x288 with 1 Axes>"
      ]
     },
     "metadata": {
      "needs_background": "light"
     },
     "output_type": "display_data"
    }
   ],
   "source": [
    "y_val_cat_prob = model.predict_on_batch([X_test[:,:,1:3], X_test[:,:,[0,3]]])\n",
    "from sklearn.metrics import roc_curve,roc_auc_score\n",
    "\n",
    "fpr , tpr , thresholds = roc_curve (y_test, y_val_cat_prob)\n",
    "\n",
    "plt.plot(fpr,tpr) \n",
    "plt.axis([0,1,0,1]) \n",
    "plt.xlabel('False Positive Rate') \n",
    "plt.ylabel('True Positive Rate') \n",
    "plt.show()"
   ]
  },
  {
   "cell_type": "code",
   "execution_count": 12,
   "metadata": {},
   "outputs": [
    {
     "data": {
      "text/plain": [
       "0.7612146679229965"
      ]
     },
     "execution_count": 12,
     "metadata": {},
     "output_type": "execute_result"
    }
   ],
   "source": [
    "auc_score=roc_auc_score(y_test,y_val_cat_prob)  \n",
    "auc_score"
   ]
  },
  {
   "cell_type": "markdown",
   "metadata": {},
   "source": [
    "# Comparison\n",
    "\n",
    "The first model achieves a higher validation accuracy and a higher auc and espescially takes a lot less time to train.\n",
    "\n"
   ]
  }
 ],
 "metadata": {
  "kernelspec": {
   "display_name": "Python 3",
   "language": "python",
   "name": "python3"
  },
  "language_info": {
   "codemirror_mode": {
    "name": "ipython",
    "version": 3
   },
   "file_extension": ".py",
   "mimetype": "text/x-python",
   "name": "python",
   "nbconvert_exporter": "python",
   "pygments_lexer": "ipython3",
   "version": "3.7.9"
  }
 },
 "nbformat": 4,
 "nbformat_minor": 4
}
