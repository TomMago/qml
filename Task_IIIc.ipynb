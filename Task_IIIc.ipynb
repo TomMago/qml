{
 "cells": [
  {
   "cell_type": "code",
   "execution_count": 1,
   "metadata": {
    "id": "enZ300Bflq80"
   },
   "outputs": [],
   "source": [
    "import tensorflow as tf\n",
    "import tensorflow_quantum as tfq\n",
    "\n",
    "import cirq\n",
    "import sympy\n",
    "import numpy as np\n",
    "import seaborn as sns\n",
    "import collections\n",
    "\n",
    "import itertools\n",
    "\n",
    "# visualization tools\n",
    "%matplotlib inline\n",
    "import matplotlib.pyplot as plt\n",
    "from cirq.contrib.svg import SVGCircuit"
   ]
  },
  {
   "cell_type": "markdown",
   "metadata": {},
   "source": [
    "Like in IIIa I load and rescale the images and convert them to circuits "
   ]
  },
  {
   "cell_type": "code",
   "execution_count": 2,
   "metadata": {
    "id": "d9OSExvCojg0"
   },
   "outputs": [],
   "source": [
    "data = np.load('electron-photon.npz', allow_pickle=True)\n",
    "IMAGE_SIZE = 4\n",
    "\n",
    "x_train_scale = tf.image.resize(data['x_train'][...,np.newaxis], (IMAGE_SIZE,IMAGE_SIZE), method=\"lanczos5\").numpy()\n",
    "x_test_scale = tf.image.resize(data['x_test'][...,np.newaxis], (IMAGE_SIZE,IMAGE_SIZE), method=\"lanczos5\").numpy()"
   ]
  },
  {
   "cell_type": "code",
   "execution_count": 3,
   "metadata": {},
   "outputs": [],
   "source": [
    "x_train = np.array(x_train_scale > 0, dtype=np.float32)\n",
    "y_train = data['y_train']\n",
    "x_test = np.array(x_test_scale > 0, dtype=np.float32)\n",
    "y_test = data['y_test']"
   ]
  },
  {
   "cell_type": "code",
   "execution_count": 4,
   "metadata": {
    "id": "aOu_3-3ZGL61"
   },
   "outputs": [],
   "source": [
    "def img_to_circuit(image):\n",
    "    flat_data = np.ndarray.flatten(image)\n",
    "    qubits = cirq.GridQubit.rect(IMAGE_SIZE, IMAGE_SIZE)\n",
    "    c = cirq.Circuit()\n",
    "    for idx, val in enumerate(flat_data):\n",
    "        if val:\n",
    "            c.append(cirq.X(qubits[idx]))\n",
    "    return c\n",
    "\n",
    "\n",
    "x_train_circ = [img_to_circuit(x) for x in x_train]\n",
    "x_test_circ = [img_to_circuit(x) for x in x_test]"
   ]
  },
  {
   "cell_type": "code",
   "execution_count": 5,
   "metadata": {
    "id": "IZStEMk4ojhk"
   },
   "outputs": [],
   "source": [
    "x_train_tfcirc = tfq.convert_to_tensor(x_train_circ)\n",
    "x_test_tfcirc = tfq.convert_to_tensor(x_test_circ)"
   ]
  },
  {
   "cell_type": "markdown",
   "metadata": {
    "id": "T-QhPE1pojhu"
   },
   "source": [
    "I try different QCNN architectures:\n",
    "First I follow the tensorflow documentation https://www.tensorflow.org/quantum/tutorials/qcnn which uses 1810.03787 and 0507171.\n",
    "\n",
    "Secondly I implement alternative convolutional und pooling circuits from 2108.00661.\n",
    "\n",
    "As one qbit unitary operation the tensorflow implementaion uses consecutive X Y and Z rotations leading to three parameters."
   ]
  },
  {
   "cell_type": "code",
   "execution_count": 6,
   "metadata": {},
   "outputs": [],
   "source": [
    "def one_qubit_unitary(bit, symbols):\n",
    "    return cirq.Circuit(\n",
    "        cirq.X(bit)**symbols[0],\n",
    "        cirq.Y(bit)**symbols[1],\n",
    "        cirq.Z(bit)**symbols[2])"
   ]
  },
  {
   "cell_type": "markdown",
   "metadata": {},
   "source": [
    "For the convolution a unitary operation on two qbits is needed. In the documentaiton the following one is used"
   ]
  },
  {
   "cell_type": "code",
   "execution_count": 7,
   "metadata": {},
   "outputs": [],
   "source": [
    "# 15 parameters\n",
    "def two_qubit_unitary(bits, symbols):\n",
    "    circuit = cirq.Circuit()\n",
    "    circuit += one_qubit_unitary(bits[0], symbols[0:3])\n",
    "    circuit += one_qubit_unitary(bits[1], symbols[3:6])\n",
    "    circuit += [cirq.ZZ(*bits)**symbols[6]]\n",
    "    circuit += [cirq.YY(*bits)**symbols[7]]\n",
    "    circuit += [cirq.XX(*bits)**symbols[8]]\n",
    "    circuit += one_qubit_unitary(bits[0], symbols[9:12])\n",
    "    circuit += one_qubit_unitary(bits[1], symbols[12:])\n",
    "    return circuit"
   ]
  },
  {
   "cell_type": "markdown",
   "metadata": {},
   "source": [
    "The pooling layer is implemented with one cnot gate"
   ]
  },
  {
   "cell_type": "code",
   "execution_count": 8,
   "metadata": {},
   "outputs": [],
   "source": [
    "# 6 parameters\n",
    "def two_qubit_pool(source_qubit, sink_qubit, symbols):\n",
    "    pool_circuit = cirq.Circuit()\n",
    "    sink_basis_selector = one_qubit_unitary(sink_qubit, symbols[0:3])\n",
    "    source_basis_selector = one_qubit_unitary(source_qubit, symbols[3:6])\n",
    "    pool_circuit.append(sink_basis_selector)\n",
    "    pool_circuit.append(source_basis_selector)\n",
    "    pool_circuit.append(cirq.CNOT(control=source_qubit, target=sink_qubit))\n",
    "    pool_circuit.append(sink_basis_selector**-1)\n",
    "    return pool_circuit"
   ]
  },
  {
   "cell_type": "markdown",
   "metadata": {
    "id": "T-QhPE1pojhu"
   },
   "source": [
    "From the consituents we can build cnn and pooling layers.  \n",
    "For a cnn layer, first a two qbit operation is applied to neigbouring qbits, followed by two qbit operations on all outputs of neigbouring qbits, as shown in the figure taken from 1810.03787\n",
    "\n",
    "![cnn](cnn.png)"
   ]
  },
  {
   "cell_type": "code",
   "execution_count": 9,
   "metadata": {},
   "outputs": [],
   "source": [
    "def qcnn_layer(bits, symbols):\n",
    "    circuit = cirq.Circuit()\n",
    "    for first, second in zip(bits[0::2], bits[1::2]):\n",
    "        circuit += two_qubit_unitary([first, second], symbols)\n",
    "    for first, second in zip(bits[1::2], bits[2::2] + [bits[0]]):\n",
    "        circuit += two_qubit_unitary([first, second], symbols)\n",
    "    return circuit"
   ]
  },
  {
   "cell_type": "markdown",
   "metadata": {
    "id": "T-QhPE1pojhu"
   },
   "source": [
    "The pooling layer applies the pooling gate between the qbits that should be reduced (i named them in_bits) and the qbits which should be used after the pooling operation (i named them out_bits)."
   ]
  },
  {
   "cell_type": "code",
   "execution_count": 10,
   "metadata": {},
   "outputs": [],
   "source": [
    "def qpool_layer(in_bits, out_bits, symbols):\n",
    "    circuit = cirq.Circuit()\n",
    "    for source, sink in zip(in_bits, out_bits):\n",
    "        circuit += two_qubit_pool(source, sink, symbols)\n",
    "    return circuit"
   ]
  },
  {
   "cell_type": "markdown",
   "metadata": {},
   "source": [
    "For the network we apply convolution and pooling in an alternating fashion.\n",
    "I always cut the number of qbits in half in the pooling layers, so that 50% are in qbits and 50% out qbits. \n",
    "The out qbits are then used for the next convolution like in a normal cnn\n",
    "I wrote a loop to apply the layers until the output of the pooling layer is only one qbit, which should be the last qbit, which we can read out at the nd\n",
    "This should work for arbitrary image sizes"
   ]
  },
  {
   "cell_type": "code",
   "execution_count": 11,
   "metadata": {},
   "outputs": [
    {
     "name": "stdout",
     "output_type": "stream",
     "text": [
      "Layer  0 :\n",
      "Convolution qbits:  16\n",
      "in qbits:  8\n",
      "out qbits:  8\n",
      "Layer  1 :\n",
      "Convolution qbits:  8\n",
      "in qbits:  4\n",
      "out qbits:  4\n",
      "Layer  2 :\n",
      "Convolution qbits:  4\n",
      "in qbits:  2\n",
      "out qbits:  2\n",
      "Layer  3 :\n",
      "Convolution qbits:  2\n",
      "in qbits:  1\n",
      "out qbits:  1\n"
     ]
    }
   ],
   "source": [
    "model_circuit = cirq.Circuit()\n",
    "symbols = sympy.symbols('qconv0:300')\n",
    "\n",
    "qubits = cirq.GridQubit.rect(IMAGE_SIZE, IMAGE_SIZE)\n",
    "\n",
    "total_qbits = IMAGE_SIZE*IMAGE_SIZE\n",
    "num_active_qbits = IMAGE_SIZE*IMAGE_SIZE\n",
    "\n",
    "layer = 0\n",
    "\n",
    "while num_active_qbits > 1:\n",
    "    model_circuit += qcnn_layer(qubits[total_qbits - num_active_qbits:], symbols[layer * 21:layer * 21 + 15])\n",
    "    model_circuit += qpool_layer(qubits[total_qbits - num_active_qbits:num_active_qbits // 2 + total_qbits - num_active_qbits], \n",
    "                                 qubits[num_active_qbits // 2 + total_qbits - num_active_qbits:], symbols[layer * 21 + 15:(layer + 1) * 21])    \n",
    "    print(\"Layer \",layer,\":\")\n",
    "    print(\"Convolution qbits: \", len(qubits[total_qbits - num_active_qbits:]))\n",
    "    print(\"in qbits: \", len(qubits[total_qbits - num_active_qbits:num_active_qbits // 2 + total_qbits - num_active_qbits]))\n",
    "    print(\"out qbits: \", len(qubits[num_active_qbits // 2 + total_qbits - num_active_qbits:]))\n",
    "    layer += 1\n",
    "    num_active_qbits = len(qubits[num_active_qbits // 2 + total_qbits - num_active_qbits:])"
   ]
  },
  {
   "cell_type": "markdown",
   "metadata": {},
   "source": [
    "next we define the readout operator on the last qbit and build the keras model"
   ]
  },
  {
   "cell_type": "code",
   "execution_count": 20,
   "metadata": {},
   "outputs": [],
   "source": [
    "readout_operators = cirq.Z(qubits[-1])\n",
    "input_layer = tf.keras.Input(shape=(), dtype=tf.dtypes.string)\n",
    "\n",
    "quantum_model = tfq.layers.PQC(model_circuit,\n",
    "                              readout_operators)(input_layer)\n",
    "\n",
    "qcnn_model = tf.keras.Model(inputs=[input_layer], outputs=[quantum_model])\n",
    "\n",
    "es = tf.keras.callbacks.EarlyStopping(monitor='loss', patience=10)"
   ]
  },
  {
   "cell_type": "code",
   "execution_count": 21,
   "metadata": {},
   "outputs": [
    {
     "name": "stdout",
     "output_type": "stream",
     "text": [
      "Model: \"model_2\"\n",
      "_________________________________________________________________\n",
      " Layer (type)                Output Shape              Param #   \n",
      "=================================================================\n",
      " input_3 (InputLayer)        [(None,)]                 0         \n",
      "                                                                 \n",
      " pqc_2 (PQC)                 (None, 1)                 84        \n",
      "                                                                 \n",
      "=================================================================\n",
      "Total params: 84\n",
      "Trainable params: 84\n",
      "Non-trainable params: 0\n",
      "_________________________________________________________________\n"
     ]
    }
   ],
   "source": [
    "qcnn_model.summary()"
   ]
  },
  {
   "cell_type": "code",
   "execution_count": 22,
   "metadata": {},
   "outputs": [
    {
     "name": "stdout",
     "output_type": "stream",
     "text": [
      "Epoch 1/80\n",
      "WARNING:tensorflow:AutoGraph could not transform <function Model.make_train_function.<locals>.train_function at 0x7fe0fc6d57a0> and will run it as-is.\n",
      "Please report this to the TensorFlow team. When filing the bug, set the verbosity to 10 (on Linux, `export AUTOGRAPH_VERBOSITY=10`) and attach the full output.\n",
      "Cause: 'arguments' object has no attribute 'posonlyargs'\n",
      "To silence this warning, decorate the function with @tf.autograph.experimental.do_not_convert\n",
      "WARNING: AutoGraph could not transform <function Model.make_train_function.<locals>.train_function at 0x7fe0fc6d57a0> and will run it as-is.\n",
      "Please report this to the TensorFlow team. When filing the bug, set the verbosity to 10 (on Linux, `export AUTOGRAPH_VERBOSITY=10`) and attach the full output.\n",
      "Cause: 'arguments' object has no attribute 'posonlyargs'\n",
      "To silence this warning, decorate the function with @tf.autograph.experimental.do_not_convert\n",
      "7/7 [==============================] - ETA: 0s - loss: 4.8046 - binary_accuracy: 0.4400WARNING:tensorflow:AutoGraph could not transform <function Model.make_test_function.<locals>.test_function at 0x7fe0fc5bd7a0> and will run it as-is.\n",
      "Please report this to the TensorFlow team. When filing the bug, set the verbosity to 10 (on Linux, `export AUTOGRAPH_VERBOSITY=10`) and attach the full output.\n",
      "Cause: 'arguments' object has no attribute 'posonlyargs'\n",
      "To silence this warning, decorate the function with @tf.autograph.experimental.do_not_convert\n",
      "WARNING: AutoGraph could not transform <function Model.make_test_function.<locals>.test_function at 0x7fe0fc5bd7a0> and will run it as-is.\n",
      "Please report this to the TensorFlow team. When filing the bug, set the verbosity to 10 (on Linux, `export AUTOGRAPH_VERBOSITY=10`) and attach the full output.\n",
      "Cause: 'arguments' object has no attribute 'posonlyargs'\n",
      "To silence this warning, decorate the function with @tf.autograph.experimental.do_not_convert\n",
      "7/7 [==============================] - 25s 3s/step - loss: 4.8046 - binary_accuracy: 0.4400 - val_loss: 2.5920 - val_binary_accuracy: 0.5400\n",
      "Epoch 2/80\n",
      "7/7 [==============================] - 24s 3s/step - loss: 3.5084 - binary_accuracy: 0.4400 - val_loss: 2.2387 - val_binary_accuracy: 0.5400\n",
      "Epoch 3/80\n",
      "7/7 [==============================] - 25s 4s/step - loss: 3.4071 - binary_accuracy: 0.4400 - val_loss: 2.0547 - val_binary_accuracy: 0.5400\n",
      "Epoch 4/80\n",
      "7/7 [==============================] - 25s 4s/step - loss: 3.1590 - binary_accuracy: 0.4400 - val_loss: 1.7360 - val_binary_accuracy: 0.5400\n",
      "Epoch 5/80\n",
      "7/7 [==============================] - 25s 4s/step - loss: 2.5740 - binary_accuracy: 0.4400 - val_loss: 1.4454 - val_binary_accuracy: 0.5400\n",
      "Epoch 6/80\n",
      "7/7 [==============================] - 29s 4s/step - loss: 2.1327 - binary_accuracy: 0.4400 - val_loss: 1.2629 - val_binary_accuracy: 0.5400\n",
      "Epoch 7/80\n",
      "7/7 [==============================] - 38s 5s/step - loss: 1.7746 - binary_accuracy: 0.4400 - val_loss: 0.9996 - val_binary_accuracy: 0.5400\n",
      "Epoch 8/80\n",
      "7/7 [==============================] - 26s 4s/step - loss: 1.5663 - binary_accuracy: 0.4400 - val_loss: 0.9104 - val_binary_accuracy: 0.5400\n",
      "Epoch 9/80\n",
      "7/7 [==============================] - 25s 4s/step - loss: 1.4806 - binary_accuracy: 0.4400 - val_loss: 0.8665 - val_binary_accuracy: 0.5400\n",
      "Epoch 10/80\n",
      "7/7 [==============================] - 25s 3s/step - loss: 1.4223 - binary_accuracy: 0.4400 - val_loss: 0.8381 - val_binary_accuracy: 0.5400\n",
      "Epoch 11/80\n",
      "7/7 [==============================] - 25s 4s/step - loss: 1.3738 - binary_accuracy: 0.4400 - val_loss: 0.8211 - val_binary_accuracy: 0.5200\n",
      "Epoch 12/80\n",
      "7/7 [==============================] - 25s 4s/step - loss: 1.3342 - binary_accuracy: 0.4700 - val_loss: 0.8094 - val_binary_accuracy: 0.5300\n",
      "Epoch 13/80\n",
      "7/7 [==============================] - 26s 4s/step - loss: 1.3044 - binary_accuracy: 0.5000 - val_loss: 0.7992 - val_binary_accuracy: 0.4200\n",
      "Epoch 14/80\n",
      "7/7 [==============================] - 25s 4s/step - loss: 1.2873 - binary_accuracy: 0.5300 - val_loss: 0.7925 - val_binary_accuracy: 0.4000\n",
      "Epoch 15/80\n",
      "7/7 [==============================] - 24s 3s/step - loss: 1.1520 - binary_accuracy: 0.5700 - val_loss: 0.7854 - val_binary_accuracy: 0.4200\n",
      "Epoch 16/80\n",
      "7/7 [==============================] - 25s 4s/step - loss: 0.9967 - binary_accuracy: 0.5600 - val_loss: 0.7695 - val_binary_accuracy: 0.4100\n",
      "Epoch 17/80\n",
      "7/7 [==============================] - 25s 3s/step - loss: 0.9749 - binary_accuracy: 0.5600 - val_loss: 0.7632 - val_binary_accuracy: 0.5200\n",
      "Epoch 18/80\n",
      "7/7 [==============================] - 26s 4s/step - loss: 0.9628 - binary_accuracy: 0.5900 - val_loss: 0.7638 - val_binary_accuracy: 0.4500\n",
      "Epoch 19/80\n",
      "7/7 [==============================] - 25s 4s/step - loss: 0.9517 - binary_accuracy: 0.5500 - val_loss: 0.7682 - val_binary_accuracy: 0.4700\n",
      "Epoch 20/80\n",
      "7/7 [==============================] - 25s 4s/step - loss: 0.9457 - binary_accuracy: 0.5600 - val_loss: 0.7683 - val_binary_accuracy: 0.4700\n",
      "Epoch 21/80\n",
      "7/7 [==============================] - 25s 4s/step - loss: 0.9424 - binary_accuracy: 0.5900 - val_loss: 0.7664 - val_binary_accuracy: 0.4200\n",
      "Epoch 22/80\n",
      "7/7 [==============================] - 25s 4s/step - loss: 0.9374 - binary_accuracy: 0.5700 - val_loss: 0.7701 - val_binary_accuracy: 0.5100\n",
      "Epoch 23/80\n",
      "7/7 [==============================] - 26s 4s/step - loss: 0.9352 - binary_accuracy: 0.6000 - val_loss: 0.7789 - val_binary_accuracy: 0.4800\n",
      "Epoch 24/80\n",
      "7/7 [==============================] - 26s 4s/step - loss: 0.8405 - binary_accuracy: 0.6400 - val_loss: 0.8672 - val_binary_accuracy: 0.5200\n",
      "Epoch 25/80\n",
      "7/7 [==============================] - 25s 3s/step - loss: 0.8805 - binary_accuracy: 0.4700 - val_loss: 1.0025 - val_binary_accuracy: 0.5400\n",
      "Epoch 26/80\n",
      "7/7 [==============================] - 25s 4s/step - loss: 0.8586 - binary_accuracy: 0.4600 - val_loss: 0.9953 - val_binary_accuracy: 0.4500\n",
      "Epoch 27/80\n",
      "7/7 [==============================] - 27s 4s/step - loss: 0.7844 - binary_accuracy: 0.5700 - val_loss: 1.0303 - val_binary_accuracy: 0.4500\n",
      "Epoch 28/80\n",
      "7/7 [==============================] - 25s 4s/step - loss: 0.7824 - binary_accuracy: 0.6100 - val_loss: 1.0548 - val_binary_accuracy: 0.4800\n",
      "Epoch 29/80\n",
      "7/7 [==============================] - 25s 4s/step - loss: 0.7769 - binary_accuracy: 0.6500 - val_loss: 1.0421 - val_binary_accuracy: 0.4800\n",
      "Epoch 30/80\n",
      "7/7 [==============================] - 25s 3s/step - loss: 0.7735 - binary_accuracy: 0.6400 - val_loss: 1.0316 - val_binary_accuracy: 0.4600\n",
      "Epoch 31/80\n",
      "7/7 [==============================] - 25s 3s/step - loss: 0.7675 - binary_accuracy: 0.6200 - val_loss: 1.0075 - val_binary_accuracy: 0.4600\n",
      "Epoch 32/80\n",
      "7/7 [==============================] - 25s 3s/step - loss: 0.7648 - binary_accuracy: 0.6300 - val_loss: 0.9914 - val_binary_accuracy: 0.4700\n",
      "Epoch 33/80\n",
      "7/7 [==============================] - 25s 4s/step - loss: 0.7723 - binary_accuracy: 0.6500 - val_loss: 0.9837 - val_binary_accuracy: 0.4700\n",
      "Epoch 34/80\n",
      "7/7 [==============================] - 25s 4s/step - loss: 0.7707 - binary_accuracy: 0.6400 - val_loss: 0.9984 - val_binary_accuracy: 0.4600\n",
      "Epoch 35/80\n",
      "7/7 [==============================] - 25s 3s/step - loss: 0.7602 - binary_accuracy: 0.6500 - val_loss: 1.0346 - val_binary_accuracy: 0.4700\n",
      "Epoch 36/80\n",
      "7/7 [==============================] - 25s 3s/step - loss: 0.7651 - binary_accuracy: 0.6500 - val_loss: 1.0630 - val_binary_accuracy: 0.4600\n",
      "Epoch 37/80\n",
      "7/7 [==============================] - 25s 3s/step - loss: 0.7597 - binary_accuracy: 0.6400 - val_loss: 1.0214 - val_binary_accuracy: 0.4700\n",
      "Epoch 38/80\n",
      "7/7 [==============================] - 24s 3s/step - loss: 0.7501 - binary_accuracy: 0.6300 - val_loss: 1.0061 - val_binary_accuracy: 0.4600\n",
      "Epoch 39/80\n",
      "7/7 [==============================] - 26s 4s/step - loss: 0.7487 - binary_accuracy: 0.6500 - val_loss: 1.0011 - val_binary_accuracy: 0.4600\n",
      "Epoch 40/80\n",
      "7/7 [==============================] - 25s 4s/step - loss: 0.7468 - binary_accuracy: 0.6500 - val_loss: 1.0188 - val_binary_accuracy: 0.4600\n",
      "Epoch 41/80\n",
      "7/7 [==============================] - 24s 3s/step - loss: 0.7467 - binary_accuracy: 0.6400 - val_loss: 1.0216 - val_binary_accuracy: 0.4600\n",
      "Epoch 42/80\n",
      "7/7 [==============================] - 25s 3s/step - loss: 0.7470 - binary_accuracy: 0.6500 - val_loss: 1.0091 - val_binary_accuracy: 0.4700\n",
      "Epoch 43/80\n",
      "7/7 [==============================] - 24s 3s/step - loss: 0.7450 - binary_accuracy: 0.6400 - val_loss: 1.0254 - val_binary_accuracy: 0.4700\n",
      "Epoch 44/80\n",
      "7/7 [==============================] - 25s 4s/step - loss: 0.7468 - binary_accuracy: 0.6400 - val_loss: 1.0425 - val_binary_accuracy: 0.4600\n",
      "Epoch 45/80\n",
      "7/7 [==============================] - 25s 3s/step - loss: 0.7432 - binary_accuracy: 0.6400 - val_loss: 1.0371 - val_binary_accuracy: 0.4700\n",
      "Epoch 46/80\n",
      "7/7 [==============================] - 25s 3s/step - loss: 0.7415 - binary_accuracy: 0.6400 - val_loss: 1.0358 - val_binary_accuracy: 0.4700\n",
      "Epoch 47/80\n",
      "7/7 [==============================] - 24s 3s/step - loss: 0.7388 - binary_accuracy: 0.6400 - val_loss: 1.0285 - val_binary_accuracy: 0.4700\n",
      "Epoch 48/80\n",
      "7/7 [==============================] - 25s 3s/step - loss: 0.7381 - binary_accuracy: 0.6400 - val_loss: 1.0178 - val_binary_accuracy: 0.4700\n",
      "Epoch 49/80\n",
      "7/7 [==============================] - 25s 4s/step - loss: 0.7416 - binary_accuracy: 0.6400 - val_loss: 1.0000 - val_binary_accuracy: 0.4700\n",
      "Epoch 50/80\n",
      "7/7 [==============================] - 25s 4s/step - loss: 0.7364 - binary_accuracy: 0.6400 - val_loss: 1.0334 - val_binary_accuracy: 0.4700\n",
      "Epoch 51/80\n",
      "7/7 [==============================] - 24s 3s/step - loss: 0.7446 - binary_accuracy: 0.6700 - val_loss: 1.0457 - val_binary_accuracy: 0.4700\n",
      "Epoch 52/80\n",
      "7/7 [==============================] - 25s 3s/step - loss: 0.7416 - binary_accuracy: 0.6500 - val_loss: 1.0219 - val_binary_accuracy: 0.4700\n",
      "Epoch 53/80\n",
      "7/7 [==============================] - 24s 3s/step - loss: 0.7354 - binary_accuracy: 0.6600 - val_loss: 1.0107 - val_binary_accuracy: 0.4700\n",
      "Epoch 54/80\n",
      "7/7 [==============================] - 25s 4s/step - loss: 0.7347 - binary_accuracy: 0.6600 - val_loss: 1.0128 - val_binary_accuracy: 0.4700\n",
      "Epoch 55/80\n",
      "7/7 [==============================] - 26s 4s/step - loss: 0.7336 - binary_accuracy: 0.6400 - val_loss: 1.0033 - val_binary_accuracy: 0.4700\n",
      "Epoch 56/80\n",
      "7/7 [==============================] - 31s 4s/step - loss: 0.7321 - binary_accuracy: 0.6400 - val_loss: 1.0301 - val_binary_accuracy: 0.4700\n",
      "Epoch 57/80\n",
      "7/7 [==============================] - 37s 5s/step - loss: 0.7358 - binary_accuracy: 0.6600 - val_loss: 1.0490 - val_binary_accuracy: 0.4700\n",
      "Epoch 58/80\n",
      "7/7 [==============================] - 36s 5s/step - loss: 0.7357 - binary_accuracy: 0.6500 - val_loss: 1.0203 - val_binary_accuracy: 0.4700\n",
      "Epoch 59/80\n",
      "7/7 [==============================] - 38s 5s/step - loss: 0.7330 - binary_accuracy: 0.6400 - val_loss: 1.0059 - val_binary_accuracy: 0.4700\n",
      "Epoch 60/80\n",
      "7/7 [==============================] - 36s 5s/step - loss: 0.7359 - binary_accuracy: 0.6800 - val_loss: 0.9835 - val_binary_accuracy: 0.4900\n",
      "Epoch 61/80\n",
      "7/7 [==============================] - 36s 5s/step - loss: 0.7388 - binary_accuracy: 0.6700 - val_loss: 0.9888 - val_binary_accuracy: 0.4700\n",
      "Epoch 62/80\n",
      "7/7 [==============================] - 37s 5s/step - loss: 0.7320 - binary_accuracy: 0.6500 - val_loss: 0.9930 - val_binary_accuracy: 0.4700\n",
      "Epoch 63/80\n",
      "7/7 [==============================] - 37s 5s/step - loss: 0.7343 - binary_accuracy: 0.6400 - val_loss: 0.9865 - val_binary_accuracy: 0.4600\n",
      "Epoch 64/80\n",
      "7/7 [==============================] - 36s 5s/step - loss: 0.7299 - binary_accuracy: 0.6400 - val_loss: 1.0039 - val_binary_accuracy: 0.4700\n",
      "Epoch 65/80\n",
      "7/7 [==============================] - 37s 5s/step - loss: 0.7308 - binary_accuracy: 0.6500 - val_loss: 1.0250 - val_binary_accuracy: 0.4700\n",
      "Epoch 66/80\n",
      "7/7 [==============================] - 39s 6s/step - loss: 0.7289 - binary_accuracy: 0.6500 - val_loss: 1.0073 - val_binary_accuracy: 0.4700\n",
      "Epoch 67/80\n",
      "7/7 [==============================] - 38s 5s/step - loss: 0.7326 - binary_accuracy: 0.6400 - val_loss: 0.9893 - val_binary_accuracy: 0.4600\n",
      "Epoch 68/80\n",
      "7/7 [==============================] - 36s 5s/step - loss: 0.7282 - binary_accuracy: 0.6500 - val_loss: 0.9968 - val_binary_accuracy: 0.4500\n",
      "Epoch 69/80\n",
      "7/7 [==============================] - 37s 5s/step - loss: 0.7276 - binary_accuracy: 0.6300 - val_loss: 1.0066 - val_binary_accuracy: 0.4700\n",
      "Epoch 70/80\n",
      "7/7 [==============================] - 37s 5s/step - loss: 0.7270 - binary_accuracy: 0.6500 - val_loss: 0.9902 - val_binary_accuracy: 0.4700\n",
      "Epoch 71/80\n",
      "7/7 [==============================] - 36s 5s/step - loss: 0.7317 - binary_accuracy: 0.6500 - val_loss: 0.9985 - val_binary_accuracy: 0.4700\n",
      "Epoch 72/80\n",
      "7/7 [==============================] - 36s 5s/step - loss: 0.7268 - binary_accuracy: 0.6500 - val_loss: 0.9958 - val_binary_accuracy: 0.4700\n",
      "Epoch 73/80\n",
      "7/7 [==============================] - 38s 5s/step - loss: 0.7273 - binary_accuracy: 0.6400 - val_loss: 1.0161 - val_binary_accuracy: 0.4700\n",
      "Epoch 74/80\n",
      "7/7 [==============================] - 39s 5s/step - loss: 0.7233 - binary_accuracy: 0.6500 - val_loss: 0.9804 - val_binary_accuracy: 0.4800\n",
      "Epoch 75/80\n",
      "7/7 [==============================] - 32s 4s/step - loss: 0.7290 - binary_accuracy: 0.6700 - val_loss: 0.9968 - val_binary_accuracy: 0.4700\n",
      "Epoch 76/80\n",
      "7/7 [==============================] - 28s 4s/step - loss: 0.7203 - binary_accuracy: 0.6500 - val_loss: 1.0116 - val_binary_accuracy: 0.4800\n",
      "Epoch 77/80\n",
      "7/7 [==============================] - 38s 6s/step - loss: 0.7251 - binary_accuracy: 0.6600 - val_loss: 1.0241 - val_binary_accuracy: 0.4800\n",
      "Epoch 78/80\n",
      "7/7 [==============================] - 36s 5s/step - loss: 0.7365 - binary_accuracy: 0.6300 - val_loss: 0.9846 - val_binary_accuracy: 0.4900\n",
      "Epoch 79/80\n",
      "7/7 [==============================] - 36s 5s/step - loss: 0.7193 - binary_accuracy: 0.6600 - val_loss: 1.0164 - val_binary_accuracy: 0.4800\n",
      "Epoch 80/80\n",
      "7/7 [==============================] - 37s 5s/step - loss: 0.7177 - binary_accuracy: 0.6600 - val_loss: 0.9952 - val_binary_accuracy: 0.4600\n"
     ]
    }
   ],
   "source": [
    "qcnn_model.compile(optimizer=tf.keras.optimizers.Adam(learning_rate=0.005),\n",
    "                   loss=tf.keras.losses.BinaryCrossentropy(),\n",
    "                   metrics=[tf.keras.metrics.BinaryAccuracy()])\n",
    "\n",
    "history = qcnn_model.fit(x=x_train_tfcirc,\n",
    "                         y=y_train,\n",
    "                         batch_size=16,\n",
    "                         epochs=80,\n",
    "                         validation_data=(x_test_tfcirc, y_test),\n",
    "                         callbacks=[es])\n"
   ]
  },
  {
   "cell_type": "markdown",
   "metadata": {},
   "source": [
    "The training loss is decreasing showing that the model fits the data.  \n",
    "With the little amount of data the model overfits quite fast"
   ]
  },
  {
   "cell_type": "code",
   "execution_count": 23,
   "metadata": {},
   "outputs": [
    {
     "data": {
      "image/png": "[encoded data removed]",
      "text/plain": [
       "<Figure size 432x288 with 1 Axes>"
      ]
     },
     "metadata": {
      "needs_background": "light"
     },
     "output_type": "display_data"
    }
   ],
   "source": [
    "plt.plot(history.history['loss'])\n",
    "plt.plot(history.history['val_loss'])\n",
    "plt.xlabel(\"epoch\")\n",
    "plt.ylabel(\"loss\")\n",
    "plt.yscale('log')"
   ]
  },
  {
   "cell_type": "code",
   "execution_count": 24,
   "metadata": {},
   "outputs": [
    {
     "data": {
      "text/plain": [
       "Text(0, 0.5, 'acc')"
      ]
     },
     "execution_count": 24,
     "metadata": {},
     "output_type": "execute_result"
    },
    {
     "data": {
      "image/png": "[encoded data removed]",
      "text/plain": [
       "<Figure size 432x288 with 1 Axes>"
      ]
     },
     "metadata": {
      "needs_background": "light"
     },
     "output_type": "display_data"
    }
   ],
   "source": [
    "plt.plot(history.history['binary_accuracy'])\n",
    "plt.plot(history.history['val_binary_accuracy'])\n",
    "plt.xlabel(\"epcoh\")\n",
    "plt.ylabel(\"acc\")"
   ]
  },
  {
   "cell_type": "markdown",
   "metadata": {},
   "source": [
    "The CNN can build in the same way by using different cirquits for the one qbit, two qbit and pooling cirquits.  \n",
    "I wanted to try some of the proposed circuits from figure 2 and 3 from 2108.00661.  \n",
    "For example I implement the Convolutional circuit 3 from Fig. 2 which consists of 2 Y rotations per qbit and two cnot gates between them\n",
    "this leads less parameters."
   ]
  },
  {
   "cell_type": "code",
   "execution_count": 25,
   "metadata": {},
   "outputs": [],
   "source": [
    "# one parameter\n",
    "def one_qubit_unitary(bit, symbol):\n",
    "    return cirq.Circuit(cirq.Y(bit)**symbol)\n",
    "\n",
    "# four parameters\n",
    "def two_qubit_unitary(bits, symbols):\n",
    "    circuit = cirq.Circuit()\n",
    "    circuit += one_qubit_unitary(bits[0], symbols[0])\n",
    "    circuit += one_qubit_unitary(bits[1], symbols[1])\n",
    "    circuit += cirq.CNOT(bits[0],bits[1])\n",
    "    circuit += one_qubit_unitary(bits[0], symbols[2])\n",
    "    circuit += one_qubit_unitary(bits[1], symbols[3])\n",
    "    circuit += cirq.CNOT(bits[1],bits[0])\n",
    "    return circuit\n",
    "\n",
    "# two parameters\n",
    "def two_qubit_pool(in_qubit, out_qubit, symbols):\n",
    "    pool_circuit = cirq.Circuit()\n",
    "    pool_circuit.append((cirq.Y(in_qubit).controlled_by(out_qubit))**symbols[0])\n",
    "    pool_circuit.append((cirq.Y(in_qubit).controlled_by(out_qubit, control_values=[0]))**symbols[1])\n",
    "    return pool_circuit"
   ]
  },
  {
   "cell_type": "markdown",
   "metadata": {},
   "source": [
    "The rest of the circuit and the model is the same as before."
   ]
  },
  {
   "cell_type": "code",
   "execution_count": 26,
   "metadata": {},
   "outputs": [],
   "source": [
    "def qcnn_layer(bits, symbols):\n",
    "    circuit = cirq.Circuit()\n",
    "    for first, second in zip(bits[0::2], bits[1::2]):\n",
    "        circuit += two_qubit_unitary([first, second], symbols)\n",
    "    for first, second in zip(bits[1::2], bits[2::2] + [bits[0]]):\n",
    "        circuit += two_qubit_unitary([first, second], symbols)\n",
    "    return circuit\n",
    "  \n",
    "    \n",
    "def qpool_layer(in_bits, out_bits, symbols):\n",
    "    circuit = cirq.Circuit()\n",
    "    for source, sink in zip(in_bits, out_bits):\n",
    "        circuit += two_qubit_pool(source, sink, symbols)\n",
    "    return circuit"
   ]
  },
  {
   "cell_type": "code",
   "execution_count": 34,
   "metadata": {},
   "outputs": [
    {
     "name": "stdout",
     "output_type": "stream",
     "text": [
      "Layer  0 :\n",
      "Convolution qbits:  16\n",
      "in qbits:  8\n",
      "out qbits:  8\n",
      "Layer  1 :\n",
      "Convolution qbits:  8\n",
      "in qbits:  4\n",
      "out qbits:  4\n",
      "Layer  2 :\n",
      "Convolution qbits:  4\n",
      "in qbits:  2\n",
      "out qbits:  2\n",
      "Layer  3 :\n",
      "Convolution qbits:  2\n",
      "in qbits:  1\n",
      "out qbits:  1\n"
     ]
    }
   ],
   "source": [
    "model_circuit = cirq.Circuit()\n",
    "symbols = sympy.symbols('qconv0:300')\n",
    "\n",
    "qubits = cirq.GridQubit.rect(IMAGE_SIZE, IMAGE_SIZE)\n",
    "\n",
    "total_qbits = IMAGE_SIZE*IMAGE_SIZE\n",
    "num_active_qbits = IMAGE_SIZE*IMAGE_SIZE\n",
    "\n",
    "layer = 0\n",
    "\n",
    "while num_active_qbits > 1:\n",
    "    model_circuit += qcnn_layer(qubits[total_qbits - num_active_qbits:], symbols[layer * 6:layer * 6 + 4])\n",
    "    model_circuit += qpool_layer(qubits[total_qbits - num_active_qbits:num_active_qbits // 2 + total_qbits - num_active_qbits], \n",
    "                                 qubits[num_active_qbits // 2 + total_qbits - num_active_qbits:], symbols[layer * 6 + 4:(layer + 1) * 6])    \n",
    "    print(\"Layer \",layer,\":\")\n",
    "    print(\"Convolution qbits: \", len(qubits[total_qbits - num_active_qbits:]))\n",
    "    print(\"in qbits: \", len(qubits[total_qbits - num_active_qbits:num_active_qbits // 2 + total_qbits - num_active_qbits]))\n",
    "    print(\"out qbits: \", len(qubits[num_active_qbits // 2 + total_qbits - num_active_qbits:]))\n",
    "    layer += 1\n",
    "    num_active_qbits = len(qubits[num_active_qbits // 2 + total_qbits - num_active_qbits:])\n",
    "    \n",
    "    \n",
    "readout_operators = cirq.Z(qubits[-1])\n",
    "input_layer = tf.keras.Input(shape=(), dtype=tf.dtypes.string)\n",
    "\n",
    "quantum_model = tfq.layers.PQC(model_circuit,\n",
    "                              readout_operators)(input_layer)\n",
    "\n",
    "\n",
    "qcnn_model = tf.keras.Model(inputs=[input_layer], outputs=[quantum_model])\n",
    "\n",
    "es = tf.keras.callbacks.EarlyStopping(monitor='loss', patience=10)\n",
    "qcnn_model.compile(optimizer=tf.keras.optimizers.Adam(learning_rate=0.005),\n",
    "                   loss=tf.keras.losses.BinaryCrossentropy(),\n",
    "                   metrics=[tf.keras.metrics.BinaryAccuracy()])\n"
   ]
  },
  {
   "cell_type": "markdown",
   "metadata": {},
   "source": [
    "Now the model has way less parameters resulting in a lot faster training times"
   ]
  },
  {
   "cell_type": "code",
   "execution_count": 30,
   "metadata": {},
   "outputs": [
    {
     "name": "stdout",
     "output_type": "stream",
     "text": [
      "Model: \"model_4\"\n",
      "_________________________________________________________________\n",
      " Layer (type)                Output Shape              Param #   \n",
      "=================================================================\n",
      " input_5 (InputLayer)        [(None,)]                 0         \n",
      "                                                                 \n",
      " pqc_4 (PQC)                 (None, 1)                 24        \n",
      "                                                                 \n",
      "=================================================================\n",
      "Total params: 24\n",
      "Trainable params: 24\n",
      "Non-trainable params: 0\n",
      "_________________________________________________________________\n"
     ]
    }
   ],
   "source": [
    "qcnn_model.summary()"
   ]
  },
  {
   "cell_type": "code",
   "execution_count": 35,
   "metadata": {},
   "outputs": [
    {
     "name": "stdout",
     "output_type": "stream",
     "text": [
      "Epoch 1/80\n",
      "WARNING:tensorflow:AutoGraph could not transform <function Model.make_train_function.<locals>.train_function at 0x7fe0fd336e60> and will run it as-is.\n",
      "Please report this to the TensorFlow team. When filing the bug, set the verbosity to 10 (on Linux, `export AUTOGRAPH_VERBOSITY=10`) and attach the full output.\n",
      "Cause: 'arguments' object has no attribute 'posonlyargs'\n",
      "To silence this warning, decorate the function with @tf.autograph.experimental.do_not_convert\n",
      "WARNING: AutoGraph could not transform <function Model.make_train_function.<locals>.train_function at 0x7fe0fd336e60> and will run it as-is.\n",
      "Please report this to the TensorFlow team. When filing the bug, set the verbosity to 10 (on Linux, `export AUTOGRAPH_VERBOSITY=10`) and attach the full output.\n",
      "Cause: 'arguments' object has no attribute 'posonlyargs'\n",
      "To silence this warning, decorate the function with @tf.autograph.experimental.do_not_convert\n",
      "7/7 [==============================] - ETA: 0s - loss: 2.7352 - binary_accuracy: 0.4400WARNING:tensorflow:AutoGraph could not transform <function Model.make_test_function.<locals>.test_function at 0x7fe0fc94df80> and will run it as-is.\n",
      "Please report this to the TensorFlow team. When filing the bug, set the verbosity to 10 (on Linux, `export AUTOGRAPH_VERBOSITY=10`) and attach the full output.\n",
      "Cause: 'arguments' object has no attribute 'posonlyargs'\n",
      "To silence this warning, decorate the function with @tf.autograph.experimental.do_not_convert\n",
      "WARNING: AutoGraph could not transform <function Model.make_test_function.<locals>.test_function at 0x7fe0fc94df80> and will run it as-is.\n",
      "Please report this to the TensorFlow team. When filing the bug, set the verbosity to 10 (on Linux, `export AUTOGRAPH_VERBOSITY=10`) and attach the full output.\n",
      "Cause: 'arguments' object has no attribute 'posonlyargs'\n",
      "To silence this warning, decorate the function with @tf.autograph.experimental.do_not_convert\n",
      "7/7 [==============================] - 13s 2s/step - loss: 2.7352 - binary_accuracy: 0.4400 - val_loss: 1.9709 - val_binary_accuracy: 0.5400\n",
      "Epoch 2/80\n",
      "7/7 [==============================] - 13s 2s/step - loss: 1.7115 - binary_accuracy: 0.4400 - val_loss: 1.6009 - val_binary_accuracy: 0.5400\n",
      "Epoch 3/80\n",
      "7/7 [==============================] - 13s 2s/step - loss: 1.1886 - binary_accuracy: 0.4400 - val_loss: 1.3518 - val_binary_accuracy: 0.5400\n",
      "Epoch 4/80\n",
      "7/7 [==============================] - 13s 2s/step - loss: 1.0187 - binary_accuracy: 0.4400 - val_loss: 1.1615 - val_binary_accuracy: 0.5400\n",
      "Epoch 5/80\n",
      "7/7 [==============================] - 14s 2s/step - loss: 0.9308 - binary_accuracy: 0.4400 - val_loss: 1.1028 - val_binary_accuracy: 0.5400\n",
      "Epoch 6/80\n",
      "7/7 [==============================] - 13s 2s/step - loss: 0.8637 - binary_accuracy: 0.4400 - val_loss: 1.0744 - val_binary_accuracy: 0.5400\n",
      "Epoch 7/80\n",
      "7/7 [==============================] - 12s 2s/step - loss: 0.8235 - binary_accuracy: 0.4400 - val_loss: 1.0616 - val_binary_accuracy: 0.5400\n",
      "Epoch 8/80\n",
      "7/7 [==============================] - 12s 2s/step - loss: 0.7981 - binary_accuracy: 0.4400 - val_loss: 1.0566 - val_binary_accuracy: 0.5200\n",
      "Epoch 9/80\n",
      "7/7 [==============================] - 12s 2s/step - loss: 0.7790 - binary_accuracy: 0.4500 - val_loss: 1.0549 - val_binary_accuracy: 0.4500\n",
      "Epoch 10/80\n",
      "7/7 [==============================] - 12s 2s/step - loss: 0.7634 - binary_accuracy: 0.5000 - val_loss: 1.0541 - val_binary_accuracy: 0.4300\n",
      "Epoch 11/80\n",
      "7/7 [==============================] - 12s 2s/step - loss: 0.7473 - binary_accuracy: 0.5000 - val_loss: 1.0538 - val_binary_accuracy: 0.3500\n",
      "Epoch 12/80\n",
      "7/7 [==============================] - 12s 2s/step - loss: 0.7410 - binary_accuracy: 0.5300 - val_loss: 1.0508 - val_binary_accuracy: 0.4200\n",
      "Epoch 13/80\n",
      "7/7 [==============================] - 12s 2s/step - loss: 0.7324 - binary_accuracy: 0.5200 - val_loss: 1.0513 - val_binary_accuracy: 0.3300\n",
      "Epoch 14/80\n",
      "7/7 [==============================] - 13s 2s/step - loss: 0.7232 - binary_accuracy: 0.5300 - val_loss: 1.0532 - val_binary_accuracy: 0.3900\n",
      "Epoch 15/80\n",
      "7/7 [==============================] - 14s 2s/step - loss: 0.7165 - binary_accuracy: 0.5800 - val_loss: 1.0572 - val_binary_accuracy: 0.4300\n",
      "Epoch 16/80\n",
      "7/7 [==============================] - 13s 2s/step - loss: 0.7093 - binary_accuracy: 0.5800 - val_loss: 1.0579 - val_binary_accuracy: 0.4300\n",
      "Epoch 17/80\n",
      "7/7 [==============================] - 13s 2s/step - loss: 0.7057 - binary_accuracy: 0.6000 - val_loss: 1.0565 - val_binary_accuracy: 0.4300\n",
      "Epoch 18/80\n",
      "7/7 [==============================] - 12s 2s/step - loss: 0.7014 - binary_accuracy: 0.6100 - val_loss: 1.0591 - val_binary_accuracy: 0.4200\n",
      "Epoch 19/80\n",
      "7/7 [==============================] - 13s 2s/step - loss: 0.6968 - binary_accuracy: 0.6100 - val_loss: 1.0597 - val_binary_accuracy: 0.4200\n",
      "Epoch 20/80\n",
      "7/7 [==============================] - 13s 2s/step - loss: 0.6915 - binary_accuracy: 0.6100 - val_loss: 1.0592 - val_binary_accuracy: 0.4200\n",
      "Epoch 21/80\n",
      "7/7 [==============================] - 13s 2s/step - loss: 0.6879 - binary_accuracy: 0.6100 - val_loss: 1.0629 - val_binary_accuracy: 0.4200\n",
      "Epoch 22/80\n",
      "7/7 [==============================] - 13s 2s/step - loss: 0.6858 - binary_accuracy: 0.6100 - val_loss: 1.0659 - val_binary_accuracy: 0.4200\n",
      "Epoch 23/80\n",
      "7/7 [==============================] - 13s 2s/step - loss: 0.6821 - binary_accuracy: 0.6100 - val_loss: 1.0712 - val_binary_accuracy: 0.4200\n",
      "Epoch 24/80\n",
      "7/7 [==============================] - 13s 2s/step - loss: 0.6799 - binary_accuracy: 0.6100 - val_loss: 1.1840 - val_binary_accuracy: 0.4200\n",
      "Epoch 25/80\n",
      "7/7 [==============================] - 14s 2s/step - loss: 0.6780 - binary_accuracy: 0.6100 - val_loss: 1.1856 - val_binary_accuracy: 0.4200\n",
      "Epoch 26/80\n",
      "7/7 [==============================] - 14s 2s/step - loss: 0.6757 - binary_accuracy: 0.6100 - val_loss: 1.0931 - val_binary_accuracy: 0.4200\n",
      "Epoch 27/80\n",
      "7/7 [==============================] - 13s 2s/step - loss: 0.6734 - binary_accuracy: 0.6100 - val_loss: 1.0732 - val_binary_accuracy: 0.4200\n",
      "Epoch 28/80\n",
      "7/7 [==============================] - 14s 2s/step - loss: 0.6729 - binary_accuracy: 0.6100 - val_loss: 1.0682 - val_binary_accuracy: 0.4200\n",
      "Epoch 29/80\n",
      "7/7 [==============================] - 13s 2s/step - loss: 0.6692 - binary_accuracy: 0.6100 - val_loss: 1.0609 - val_binary_accuracy: 0.4200\n",
      "Epoch 30/80\n",
      "7/7 [==============================] - 13s 2s/step - loss: 0.6678 - binary_accuracy: 0.6100 - val_loss: 1.0688 - val_binary_accuracy: 0.4200\n",
      "Epoch 31/80\n",
      "7/7 [==============================] - 13s 2s/step - loss: 0.6661 - binary_accuracy: 0.6100 - val_loss: 1.0727 - val_binary_accuracy: 0.4200\n",
      "Epoch 32/80\n",
      "7/7 [==============================] - 12s 2s/step - loss: 0.6651 - binary_accuracy: 0.6100 - val_loss: 1.0823 - val_binary_accuracy: 0.4200\n",
      "Epoch 33/80\n",
      "7/7 [==============================] - 14s 2s/step - loss: 0.6630 - binary_accuracy: 0.6100 - val_loss: 1.1797 - val_binary_accuracy: 0.4200\n",
      "Epoch 34/80\n",
      "7/7 [==============================] - 13s 2s/step - loss: 0.6626 - binary_accuracy: 0.6100 - val_loss: 1.1848 - val_binary_accuracy: 0.4200\n",
      "Epoch 35/80\n",
      "7/7 [==============================] - 14s 2s/step - loss: 0.6629 - binary_accuracy: 0.6100 - val_loss: 1.1903 - val_binary_accuracy: 0.4300\n",
      "Epoch 36/80\n",
      "7/7 [==============================] - 13s 2s/step - loss: 0.6612 - binary_accuracy: 0.6200 - val_loss: 1.1854 - val_binary_accuracy: 0.4300\n",
      "Epoch 37/80\n",
      "7/7 [==============================] - 13s 2s/step - loss: 0.6593 - binary_accuracy: 0.6200 - val_loss: 1.1683 - val_binary_accuracy: 0.4300\n",
      "Epoch 38/80\n",
      "7/7 [==============================] - 13s 2s/step - loss: 0.6619 - binary_accuracy: 0.6200 - val_loss: 1.1689 - val_binary_accuracy: 0.4300\n",
      "Epoch 39/80\n",
      "7/7 [==============================] - 12s 2s/step - loss: 0.6559 - binary_accuracy: 0.6200 - val_loss: 1.0531 - val_binary_accuracy: 0.4400\n",
      "Epoch 40/80\n",
      "7/7 [==============================] - 13s 2s/step - loss: 0.6588 - binary_accuracy: 0.6300 - val_loss: 1.0577 - val_binary_accuracy: 0.4300\n",
      "Epoch 41/80\n",
      "7/7 [==============================] - 13s 2s/step - loss: 0.6585 - binary_accuracy: 0.6200 - val_loss: 1.0600 - val_binary_accuracy: 0.4300\n",
      "Epoch 42/80\n",
      "7/7 [==============================] - 12s 2s/step - loss: 0.6570 - binary_accuracy: 0.6200 - val_loss: 1.0656 - val_binary_accuracy: 0.4300\n",
      "Epoch 43/80\n",
      "7/7 [==============================] - 12s 2s/step - loss: 0.6569 - binary_accuracy: 0.6100 - val_loss: 1.0683 - val_binary_accuracy: 0.4300\n",
      "Epoch 44/80\n",
      "7/7 [==============================] - 13s 2s/step - loss: 0.6539 - binary_accuracy: 0.6200 - val_loss: 1.1905 - val_binary_accuracy: 0.4400\n",
      "Epoch 45/80\n",
      "7/7 [==============================] - 14s 2s/step - loss: 0.6537 - binary_accuracy: 0.6200 - val_loss: 1.1887 - val_binary_accuracy: 0.4300\n",
      "Epoch 46/80\n",
      "7/7 [==============================] - 14s 2s/step - loss: 0.6546 - binary_accuracy: 0.6100 - val_loss: 1.1846 - val_binary_accuracy: 0.4300\n",
      "Epoch 47/80\n",
      "7/7 [==============================] - 13s 2s/step - loss: 0.6543 - binary_accuracy: 0.6100 - val_loss: 1.1857 - val_binary_accuracy: 0.4400\n",
      "Epoch 48/80\n",
      "7/7 [==============================] - 12s 2s/step - loss: 0.6526 - binary_accuracy: 0.6200 - val_loss: 1.1918 - val_binary_accuracy: 0.4400\n",
      "Epoch 49/80\n",
      "7/7 [==============================] - 13s 2s/step - loss: 0.6528 - binary_accuracy: 0.6200 - val_loss: 1.1901 - val_binary_accuracy: 0.4400\n",
      "Epoch 50/80\n",
      "7/7 [==============================] - 12s 2s/step - loss: 0.6530 - binary_accuracy: 0.6200 - val_loss: 1.1934 - val_binary_accuracy: 0.4400\n",
      "Epoch 51/80\n",
      "7/7 [==============================] - 12s 2s/step - loss: 0.6529 - binary_accuracy: 0.6200 - val_loss: 1.1869 - val_binary_accuracy: 0.4400\n",
      "Epoch 52/80\n",
      "7/7 [==============================] - 12s 2s/step - loss: 0.6522 - binary_accuracy: 0.6200 - val_loss: 1.1093 - val_binary_accuracy: 0.4400\n",
      "Epoch 53/80\n",
      "7/7 [==============================] - 13s 2s/step - loss: 0.6513 - binary_accuracy: 0.6200 - val_loss: 1.1866 - val_binary_accuracy: 0.4400\n",
      "Epoch 54/80\n",
      "7/7 [==============================] - 13s 2s/step - loss: 0.6502 - binary_accuracy: 0.6200 - val_loss: 1.1812 - val_binary_accuracy: 0.4400\n",
      "Epoch 55/80\n",
      "7/7 [==============================] - 15s 2s/step - loss: 0.6498 - binary_accuracy: 0.6200 - val_loss: 1.0510 - val_binary_accuracy: 0.4300\n",
      "Epoch 56/80\n",
      "7/7 [==============================] - 14s 2s/step - loss: 0.6514 - binary_accuracy: 0.6200 - val_loss: 1.0563 - val_binary_accuracy: 0.4400\n",
      "Epoch 57/80\n",
      "7/7 [==============================] - 13s 2s/step - loss: 0.6518 - binary_accuracy: 0.6300 - val_loss: 1.0635 - val_binary_accuracy: 0.4300\n",
      "Epoch 58/80\n",
      "7/7 [==============================] - 12s 2s/step - loss: 0.6517 - binary_accuracy: 0.6200 - val_loss: 1.0536 - val_binary_accuracy: 0.4400\n",
      "Epoch 59/80\n",
      "7/7 [==============================] - 12s 2s/step - loss: 0.6520 - binary_accuracy: 0.6200 - val_loss: 1.0478 - val_binary_accuracy: 0.4400\n",
      "Epoch 60/80\n",
      "7/7 [==============================] - 12s 2s/step - loss: 0.6513 - binary_accuracy: 0.6200 - val_loss: 1.0576 - val_binary_accuracy: 0.4300\n",
      "Epoch 61/80\n",
      "7/7 [==============================] - 12s 2s/step - loss: 0.6499 - binary_accuracy: 0.6200 - val_loss: 1.0635 - val_binary_accuracy: 0.4400\n",
      "Epoch 62/80\n",
      "7/7 [==============================] - 12s 2s/step - loss: 0.6510 - binary_accuracy: 0.6200 - val_loss: 1.0757 - val_binary_accuracy: 0.4400\n",
      "Epoch 63/80\n",
      "7/7 [==============================] - 12s 2s/step - loss: 0.6501 - binary_accuracy: 0.6200 - val_loss: 1.0858 - val_binary_accuracy: 0.4400\n",
      "Epoch 64/80\n",
      "7/7 [==============================] - 13s 2s/step - loss: 0.6502 - binary_accuracy: 0.6300 - val_loss: 1.0790 - val_binary_accuracy: 0.4400\n",
      "Epoch 65/80\n",
      "7/7 [==============================] - 13s 2s/step - loss: 0.6474 - binary_accuracy: 0.6200 - val_loss: 1.1977 - val_binary_accuracy: 0.4400\n",
      "Epoch 66/80\n",
      "7/7 [==============================] - 14s 2s/step - loss: 0.6506 - binary_accuracy: 0.6300 - val_loss: 1.0821 - val_binary_accuracy: 0.4300\n",
      "Epoch 67/80\n",
      "7/7 [==============================] - 13s 2s/step - loss: 0.6496 - binary_accuracy: 0.6200 - val_loss: 1.0721 - val_binary_accuracy: 0.4400\n",
      "Epoch 68/80\n",
      "7/7 [==============================] - 12s 2s/step - loss: 0.6498 - binary_accuracy: 0.6200 - val_loss: 0.9625 - val_binary_accuracy: 0.4400\n",
      "Epoch 69/80\n",
      "7/7 [==============================] - 13s 2s/step - loss: 0.6482 - binary_accuracy: 0.6200 - val_loss: 0.9562 - val_binary_accuracy: 0.4400\n",
      "Epoch 70/80\n",
      "7/7 [==============================] - 14s 2s/step - loss: 0.6465 - binary_accuracy: 0.6200 - val_loss: 0.9784 - val_binary_accuracy: 0.4400\n",
      "Epoch 71/80\n",
      "7/7 [==============================] - 16s 2s/step - loss: 0.6474 - binary_accuracy: 0.6200 - val_loss: 1.0652 - val_binary_accuracy: 0.4300\n",
      "Epoch 72/80\n",
      "7/7 [==============================] - 10s 1s/step - loss: 0.6443 - binary_accuracy: 0.6300 - val_loss: 1.0400 - val_binary_accuracy: 0.4300\n",
      "Epoch 73/80\n",
      "7/7 [==============================] - 15s 2s/step - loss: 0.6496 - binary_accuracy: 0.6300 - val_loss: 1.0236 - val_binary_accuracy: 0.4300\n",
      "Epoch 74/80\n",
      "7/7 [==============================] - 11s 1s/step - loss: 0.6508 - binary_accuracy: 0.6300 - val_loss: 1.0247 - val_binary_accuracy: 0.4300\n",
      "Epoch 75/80\n",
      "7/7 [==============================] - 13s 2s/step - loss: 0.6483 - binary_accuracy: 0.6300 - val_loss: 1.0253 - val_binary_accuracy: 0.4300\n",
      "Epoch 76/80\n",
      "7/7 [==============================] - 11s 2s/step - loss: 0.6467 - binary_accuracy: 0.6200 - val_loss: 1.0226 - val_binary_accuracy: 0.4400\n",
      "Epoch 77/80\n",
      "7/7 [==============================] - 11s 2s/step - loss: 0.6465 - binary_accuracy: 0.6200 - val_loss: 1.0264 - val_binary_accuracy: 0.4300\n",
      "Epoch 78/80\n",
      "7/7 [==============================] - 15s 2s/step - loss: 0.6457 - binary_accuracy: 0.6200 - val_loss: 1.0450 - val_binary_accuracy: 0.4300\n",
      "Epoch 79/80\n",
      "7/7 [==============================] - 14s 2s/step - loss: 0.6454 - binary_accuracy: 0.6300 - val_loss: 1.0504 - val_binary_accuracy: 0.4400\n",
      "Epoch 80/80\n",
      "7/7 [==============================] - 14s 2s/step - loss: 0.6448 - binary_accuracy: 0.6300 - val_loss: 1.0420 - val_binary_accuracy: 0.4300\n"
     ]
    }
   ],
   "source": [
    "history = qcnn_model.fit(x=x_train_tfcirc,\n",
    "                         y=y_train,\n",
    "                         batch_size=16,\n",
    "                         epochs=80,\n",
    "                         validation_data=(x_test_tfcirc, y_test),\n",
    "                         callbacks=[es])"
   ]
  },
  {
   "cell_type": "markdown",
   "metadata": {},
   "source": [
    "In addition this second model seems to converge a lot faster"
   ]
  },
  {
   "cell_type": "code",
   "execution_count": 38,
   "metadata": {},
   "outputs": [
    {
     "data": {
      "image/png": "[encoded data removed]",
      "text/plain": [
       "<Figure size 432x288 with 1 Axes>"
      ]
     },
     "metadata": {
      "needs_background": "light"
     },
     "output_type": "display_data"
    }
   ],
   "source": [
    "plt.plot(history.history['loss'])\n",
    "plt.plot(history.history['val_loss'])\n",
    "plt.xlabel(\"epoch\")\n",
    "plt.ylabel(\"loss\")\n",
    "plt.yscale('log')"
   ]
  },
  {
   "cell_type": "code",
   "execution_count": 39,
   "metadata": {},
   "outputs": [
    {
     "data": {
      "text/plain": [
       "Text(0, 0.5, 'acc')"
      ]
     },
     "execution_count": 39,
     "metadata": {},
     "output_type": "execute_result"
    },
    {
     "data": {
      "image/png": "[encoded data removed]",
      "text/plain": [
       "<Figure size 432x288 with 1 Axes>"
      ]
     },
     "metadata": {
      "needs_background": "light"
     },
     "output_type": "display_data"
    }
   ],
   "source": [
    "plt.plot(history.history['binary_accuracy'])\n",
    "plt.plot(history.history['val_binary_accuracy'])\n",
    "plt.xlabel(\"epcoh\")\n",
    "plt.ylabel(\"acc\")"
   ]
  },
  {
   "cell_type": "code",
   "execution_count": null,
   "metadata": {},
   "outputs": [],
   "source": []
  }
 ],
 "metadata": {
  "colab": {
   "collapsed_sections": [],
   "name": "Kopie von mnist.ipynb",
   "private_outputs": true,
   "provenance": [],
   "toc_visible": true
  },
  "kernelspec": {
   "display_name": "Python 3",
   "language": "python",
   "name": "python3"
  },
  "language_info": {
   "codemirror_mode": {
    "name": "ipython",
    "version": 3
   },
   "file_extension": ".py",
   "mimetype": "text/x-python",
   "name": "python",
   "nbconvert_exporter": "python",
   "pygments_lexer": "ipython3",
   "version": "3.7.9"
  }
 },
 "nbformat": 4,
 "nbformat_minor": 4
}
